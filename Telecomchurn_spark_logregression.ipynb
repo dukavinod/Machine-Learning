{
  "nbformat": 4,
  "nbformat_minor": 0,
  "metadata": {
    "colab": {
      "provenance": [],
      "authorship_tag": "ABX9TyNFKuJ+lA9Xb8VHSDkLy2nC",
      "include_colab_link": true
    },
    "kernelspec": {
      "name": "python3",
      "display_name": "Python 3"
    },
    "language_info": {
      "name": "python"
    }
  },
  "cells": [
    {
      "cell_type": "markdown",
      "metadata": {
        "id": "view-in-github",
        "colab_type": "text"
      },
      "source": [
        "<a href=\"https://colab.research.google.com/github/dukavinod/Machine-Learning/blob/main/Telecomchurn_spark_logregression.ipynb\" target=\"_parent\"><img src=\"https://colab.research.google.com/assets/colab-badge.svg\" alt=\"Open In Colab\"/></a>"
      ]
    },
    {
      "cell_type": "code",
      "execution_count": 283,
      "metadata": {
        "id": "I-R5M3zByJ9K"
      },
      "outputs": [],
      "source": [
        "!apt-get install openjdk-8-jdk-headless -qq > /dev/null"
      ]
    },
    {
      "cell_type": "code",
      "source": [
        "!wget -q https://dlcdn.apache.org/spark/spark-3.2.2/spark-3.2.2-bin-hadoop3.2.tgz"
      ],
      "metadata": {
        "id": "hqU0mrKZyPZv"
      },
      "execution_count": 284,
      "outputs": []
    },
    {
      "cell_type": "code",
      "source": [
        "!tar xf spark-3.2.2-bin-hadoop3.2.tgz"
      ],
      "metadata": {
        "id": "I_8Z-AoXySgH"
      },
      "execution_count": 285,
      "outputs": []
    },
    {
      "cell_type": "code",
      "source": [
        "import os\n",
        "os.environ[\"JAVA_HOME\"] = \"/usr/lib/jvm/java-8-openjdk-amd64\"\n",
        "os.environ[\"SPARK_HOME\"] = '/content/spark-3.2.2-bin-hadoop3.2'"
      ],
      "metadata": {
        "id": "KdQUzO09ya9I"
      },
      "execution_count": 286,
      "outputs": []
    },
    {
      "cell_type": "code",
      "source": [
        "# Install library for finding Spark\n",
        "!pip install -q findspark\n",
        "# Import the libary\n",
        "import findspark\n",
        "# Initiate findspark\n",
        "findspark.init()\n",
        "# Check the location for Spark\n",
        "findspark.find()"
      ],
      "metadata": {
        "colab": {
          "base_uri": "https://localhost:8080/",
          "height": 35
        },
        "id": "5UvqRCTOynA2",
        "outputId": "bc53a08f-9a95-4ae7-a019-93cb904314e4"
      },
      "execution_count": 287,
      "outputs": [
        {
          "output_type": "execute_result",
          "data": {
            "text/plain": [
              "'/content/spark-3.2.2-bin-hadoop3.2'"
            ],
            "application/vnd.google.colaboratory.intrinsic+json": {
              "type": "string"
            }
          },
          "metadata": {},
          "execution_count": 287
        }
      ]
    },
    {
      "cell_type": "code",
      "source": [
        "# Import SparkSession\n",
        "from pyspark.sql import SparkSession\n",
        "# Create a Spark Session\n",
        "spark = SparkSession.builder.master(\"local[*]\").getOrCreate()\n",
        "# Check Spark Session Information\n",
        "spark"
      ],
      "metadata": {
        "colab": {
          "base_uri": "https://localhost:8080/",
          "height": 219
        },
        "id": "eOnCjm41zEMA",
        "outputId": "6dd0e1ac-9ca2-4d2d-8400-a575e65bfc26"
      },
      "execution_count": 288,
      "outputs": [
        {
          "output_type": "execute_result",
          "data": {
            "text/plain": [
              "<pyspark.sql.session.SparkSession at 0x7ff5ee39b910>"
            ],
            "text/html": [
              "\n",
              "            <div>\n",
              "                <p><b>SparkSession - in-memory</b></p>\n",
              "                \n",
              "        <div>\n",
              "            <p><b>SparkContext</b></p>\n",
              "\n",
              "            <p><a href=\"http://2d152c633616:4040\">Spark UI</a></p>\n",
              "\n",
              "            <dl>\n",
              "              <dt>Version</dt>\n",
              "                <dd><code>v3.2.2</code></dd>\n",
              "              <dt>Master</dt>\n",
              "                <dd><code>local[*]</code></dd>\n",
              "              <dt>AppName</dt>\n",
              "                <dd><code>pyspark-shell</code></dd>\n",
              "            </dl>\n",
              "        </div>\n",
              "        \n",
              "            </div>\n",
              "        "
            ]
          },
          "metadata": {},
          "execution_count": 288
        }
      ]
    },
    {
      "cell_type": "code",
      "source": [
        "# Import a Spark function from library\n",
        "from pyspark.sql.functions import *"
      ],
      "metadata": {
        "id": "ZtqYGeznzHYP"
      },
      "execution_count": 289,
      "outputs": []
    },
    {
      "cell_type": "code",
      "source": [
        "churn = spark.read.csv('churn_data.csv',header = True)"
      ],
      "metadata": {
        "id": "YgW7hVb_zMNx"
      },
      "execution_count": 290,
      "outputs": []
    },
    {
      "cell_type": "code",
      "source": [
        "customer = spark.read.csv('customer_data.csv',header = True)"
      ],
      "metadata": {
        "id": "a583TMlb0g8j"
      },
      "execution_count": 291,
      "outputs": []
    },
    {
      "cell_type": "code",
      "source": [
        "internet = spark.read.csv('internet_data.csv',header = True)"
      ],
      "metadata": {
        "id": "NUD4GGjN00z2"
      },
      "execution_count": 292,
      "outputs": []
    },
    {
      "cell_type": "code",
      "source": [
        "churn_customer = churn.join(customer,on = 'customerID',how = 'inner')"
      ],
      "metadata": {
        "id": "MtHK7PND5R5z"
      },
      "execution_count": 293,
      "outputs": []
    },
    {
      "cell_type": "code",
      "source": [
        "telecom = churn_customer.join(internet,on = 'customerID',how = 'inner')"
      ],
      "metadata": {
        "id": "-7tY6OHe5rK8"
      },
      "execution_count": 294,
      "outputs": []
    },
    {
      "cell_type": "code",
      "source": [
        "# all the data merged into a single dataframe called telecom.\n",
        "telecom.columns "
      ],
      "metadata": {
        "colab": {
          "base_uri": "https://localhost:8080/"
        },
        "id": "HiipoG4kFFx9",
        "outputId": "2ddea277-af65-428e-f5b5-73de7ff581e6"
      },
      "execution_count": 295,
      "outputs": [
        {
          "output_type": "execute_result",
          "data": {
            "text/plain": [
              "['customerID',\n",
              " 'tenure',\n",
              " 'PhoneService',\n",
              " 'Contract',\n",
              " 'PaperlessBilling',\n",
              " 'PaymentMethod',\n",
              " 'MonthlyCharges',\n",
              " 'TotalCharges',\n",
              " 'Churn',\n",
              " 'gender',\n",
              " 'SeniorCitizen',\n",
              " 'Partner',\n",
              " 'Dependents',\n",
              " 'MultipleLines',\n",
              " 'InternetService',\n",
              " 'OnlineSecurity',\n",
              " 'OnlineBackup',\n",
              " 'DeviceProtection',\n",
              " 'TechSupport',\n",
              " 'StreamingTV',\n",
              " 'StreamingMovies']"
            ]
          },
          "metadata": {},
          "execution_count": 295
        }
      ]
    },
    {
      "cell_type": "code",
      "source": [
        "# finding the number of items in each category of value.\n",
        "for x in telecom.columns:\n",
        "  telecom.select(x).groupby(x).count().show()"
      ],
      "metadata": {
        "colab": {
          "base_uri": "https://localhost:8080/"
        },
        "id": "h-ECF6SXAZth",
        "outputId": "36b12012-0e9f-49f9-de90-01fee8ef5cb9"
      },
      "execution_count": 296,
      "outputs": [
        {
          "output_type": "stream",
          "name": "stdout",
          "text": [
            "+----------+-----+\n",
            "|customerID|count|\n",
            "+----------+-----+\n",
            "|3668-QPYBK|    1|\n",
            "|6234-RAAPL|    1|\n",
            "|1894-IGFSG|    1|\n",
            "|6982-SSHFK|    1|\n",
            "|5859-HZYLF|    1|\n",
            "|6479-OAUSD|    1|\n",
            "|2592-YKDIF|    1|\n",
            "|6718-BDGHG|    1|\n",
            "|3195-TQDZX|    1|\n",
            "|4248-QPAVC|    1|\n",
            "|5668-MEISB|    1|\n",
            "|5802-ADBRC|    1|\n",
            "|2712-SYWAY|    1|\n",
            "|2011-TRQYE|    1|\n",
            "|7244-KXYZN|    1|\n",
            "|0953-LGOVU|    1|\n",
            "|3623-FQBOX|    1|\n",
            "|3692-JHONH|    1|\n",
            "|3528-HFRIQ|    1|\n",
            "|7661-CPURM|    1|\n",
            "+----------+-----+\n",
            "only showing top 20 rows\n",
            "\n",
            "+------+-----+\n",
            "|tenure|count|\n",
            "+------+-----+\n",
            "|     7|  131|\n",
            "|    51|   68|\n",
            "|    15|   99|\n",
            "|    54|   68|\n",
            "|    11|   99|\n",
            "|    69|   95|\n",
            "|    29|   72|\n",
            "|    42|   65|\n",
            "|    64|   80|\n",
            "|     3|  200|\n",
            "|    30|   72|\n",
            "|    34|   65|\n",
            "|    59|   60|\n",
            "|     8|  123|\n",
            "|    22|   90|\n",
            "|    28|   57|\n",
            "|    16|   80|\n",
            "|    52|   80|\n",
            "|    35|   88|\n",
            "|     0|   11|\n",
            "+------+-----+\n",
            "only showing top 20 rows\n",
            "\n",
            "+------------+-----+\n",
            "|PhoneService|count|\n",
            "+------------+-----+\n",
            "|          No|  682|\n",
            "|         Yes| 6361|\n",
            "+------------+-----+\n",
            "\n",
            "+--------------+-----+\n",
            "|      Contract|count|\n",
            "+--------------+-----+\n",
            "|Month-to-month| 3875|\n",
            "|      One year| 1473|\n",
            "|      Two year| 1695|\n",
            "+--------------+-----+\n",
            "\n",
            "+----------------+-----+\n",
            "|PaperlessBilling|count|\n",
            "+----------------+-----+\n",
            "|              No| 2872|\n",
            "|             Yes| 4171|\n",
            "+----------------+-----+\n",
            "\n",
            "+--------------------+-----+\n",
            "|       PaymentMethod|count|\n",
            "+--------------------+-----+\n",
            "|Credit card (auto...| 1522|\n",
            "|        Mailed check| 1612|\n",
            "|Bank transfer (au...| 1544|\n",
            "|    Electronic check| 2365|\n",
            "+--------------------+-----+\n",
            "\n",
            "+--------------+-----+\n",
            "|MonthlyCharges|count|\n",
            "+--------------+-----+\n",
            "|          78.9|    7|\n",
            "|        110.35|    2|\n",
            "|          58.7|    1|\n",
            "|         36.65|    1|\n",
            "|          73.7|    2|\n",
            "|         110.9|    3|\n",
            "|          91.8|    1|\n",
            "|         83.65|    2|\n",
            "|         91.75|    1|\n",
            "|         49.25|    6|\n",
            "|          20.5|   28|\n",
            "|          45.4|    7|\n",
            "|        101.55|    2|\n",
            "|         26.25|    2|\n",
            "|         60.85|    2|\n",
            "|          34.4|    1|\n",
            "|          69.3|    2|\n",
            "|         105.7|    4|\n",
            "|          74.4|   16|\n",
            "|          80.3|   10|\n",
            "+--------------+-----+\n",
            "only showing top 20 rows\n",
            "\n",
            "+------------+-----+\n",
            "|TotalCharges|count|\n",
            "+------------+-----+\n",
            "|      3437.5|    1|\n",
            "|     1612.75|    1|\n",
            "|       483.7|    1|\n",
            "|      1756.6|    1|\n",
            "|     2633.95|    1|\n",
            "|      6710.5|    1|\n",
            "|      1490.4|    1|\n",
            "|      936.85|    1|\n",
            "|      340.35|    2|\n",
            "|       550.6|    1|\n",
            "|      3055.5|    1|\n",
            "|     1522.65|    1|\n",
            "|     4494.65|    1|\n",
            "|        78.9|    1|\n",
            "|       291.9|    1|\n",
            "|       545.2|    1|\n",
            "|      5432.2|    1|\n",
            "|      600.15|    1|\n",
            "|     1285.05|    1|\n",
            "|      2638.1|    1|\n",
            "+------------+-----+\n",
            "only showing top 20 rows\n",
            "\n",
            "+-----+-----+\n",
            "|Churn|count|\n",
            "+-----+-----+\n",
            "|   No| 5174|\n",
            "|  Yes| 1869|\n",
            "+-----+-----+\n",
            "\n",
            "+------+-----+\n",
            "|gender|count|\n",
            "+------+-----+\n",
            "|Female| 3488|\n",
            "|  Male| 3555|\n",
            "+------+-----+\n",
            "\n",
            "+-------------+-----+\n",
            "|SeniorCitizen|count|\n",
            "+-------------+-----+\n",
            "|            0| 5901|\n",
            "|            1| 1142|\n",
            "+-------------+-----+\n",
            "\n",
            "+-------+-----+\n",
            "|Partner|count|\n",
            "+-------+-----+\n",
            "|     No| 3641|\n",
            "|    Yes| 3402|\n",
            "+-------+-----+\n",
            "\n",
            "+----------+-----+\n",
            "|Dependents|count|\n",
            "+----------+-----+\n",
            "|        No| 4933|\n",
            "|       Yes| 2110|\n",
            "+----------+-----+\n",
            "\n",
            "+----------------+-----+\n",
            "|   MultipleLines|count|\n",
            "+----------------+-----+\n",
            "|No phone service|  682|\n",
            "|              No| 3390|\n",
            "|             Yes| 2971|\n",
            "+----------------+-----+\n",
            "\n",
            "+---------------+-----+\n",
            "|InternetService|count|\n",
            "+---------------+-----+\n",
            "|    Fiber optic| 3096|\n",
            "|             No| 1526|\n",
            "|            DSL| 2421|\n",
            "+---------------+-----+\n",
            "\n",
            "+-------------------+-----+\n",
            "|     OnlineSecurity|count|\n",
            "+-------------------+-----+\n",
            "|                 No| 3498|\n",
            "|                Yes| 2019|\n",
            "|No internet service| 1526|\n",
            "+-------------------+-----+\n",
            "\n",
            "+-------------------+-----+\n",
            "|       OnlineBackup|count|\n",
            "+-------------------+-----+\n",
            "|                 No| 3088|\n",
            "|                Yes| 2429|\n",
            "|No internet service| 1526|\n",
            "+-------------------+-----+\n",
            "\n",
            "+-------------------+-----+\n",
            "|   DeviceProtection|count|\n",
            "+-------------------+-----+\n",
            "|                 No| 3095|\n",
            "|                Yes| 2422|\n",
            "|No internet service| 1526|\n",
            "+-------------------+-----+\n",
            "\n",
            "+-------------------+-----+\n",
            "|        TechSupport|count|\n",
            "+-------------------+-----+\n",
            "|                 No| 3473|\n",
            "|                Yes| 2044|\n",
            "|No internet service| 1526|\n",
            "+-------------------+-----+\n",
            "\n",
            "+-------------------+-----+\n",
            "|        StreamingTV|count|\n",
            "+-------------------+-----+\n",
            "|                 No| 2810|\n",
            "|                Yes| 2707|\n",
            "|No internet service| 1526|\n",
            "+-------------------+-----+\n",
            "\n",
            "+-------------------+-----+\n",
            "|    StreamingMovies|count|\n",
            "+-------------------+-----+\n",
            "|                 No| 2785|\n",
            "|                Yes| 2732|\n",
            "|No internet service| 1526|\n",
            "+-------------------+-----+\n",
            "\n"
          ]
        }
      ]
    },
    {
      "cell_type": "code",
      "source": [
        "telecomdf = telecom.select('*',expr(\"case when PhoneService = 'Yes' then '1' else '0' end\").alias('phoneService_alias')\n",
        ",expr(\"case when gender = 'Male' then '1' else '0' end\").alias('gender_alias')\n",
        ",expr(\"case when Partner = 'Yes' then '1' else '0' end\").alias('partner_alias')\n",
        ",expr(\"case when Dependents = 'Yes' then '1' else '0' end\").alias('dependent_alias')\n",
        ",expr(\"case when PaperlessBilling = 'Yes' then '1' else '0' end\").alias('paperlessBilling_alias')\n",
        ",expr(\"case when Churn = 'Yes' then '1' else '0' end\").alias('churn_alias'))\n",
        "\n",
        "\n"
      ],
      "metadata": {
        "id": "BoJ4OFMpCYbv"
      },
      "execution_count": 297,
      "outputs": []
    },
    {
      "cell_type": "code",
      "source": [
        "telecomdf.show()"
      ],
      "metadata": {
        "colab": {
          "base_uri": "https://localhost:8080/"
        },
        "id": "FVbuc_WTL2Da",
        "outputId": "0ade07a4-28bb-4160-ef60-bd118ea8cef8"
      },
      "execution_count": 298,
      "outputs": [
        {
          "output_type": "stream",
          "name": "stdout",
          "text": [
            "+----------+------+------------+--------------+----------------+--------------------+--------------+------------+-----+------+-------------+-------+----------+----------------+---------------+-------------------+-------------------+-------------------+-------------------+-------------------+-------------------+------------------+------------+-------------+---------------+----------------------+-----------+\n",
            "|customerID|tenure|PhoneService|      Contract|PaperlessBilling|       PaymentMethod|MonthlyCharges|TotalCharges|Churn|gender|SeniorCitizen|Partner|Dependents|   MultipleLines|InternetService|     OnlineSecurity|       OnlineBackup|   DeviceProtection|        TechSupport|        StreamingTV|    StreamingMovies|phoneService_alias|gender_alias|partner_alias|dependent_alias|paperlessBilling_alias|churn_alias|\n",
            "+----------+------+------------+--------------+----------------+--------------------+--------------+------------+-----+------+-------------+-------+----------+----------------+---------------+-------------------+-------------------+-------------------+-------------------+-------------------+-------------------+------------------+------------+-------------+---------------+----------------------+-----------+\n",
            "|7590-VHVEG|     1|          No|Month-to-month|             Yes|    Electronic check|         29.85|       29.85|   No|Female|            0|    Yes|        No|No phone service|            DSL|                 No|                Yes|                 No|                 No|                 No|                 No|                 0|           0|            1|              0|                     1|          0|\n",
            "|5575-GNVDE|    34|         Yes|      One year|              No|        Mailed check|         56.95|      1889.5|   No|  Male|            0|     No|        No|              No|            DSL|                Yes|                 No|                Yes|                 No|                 No|                 No|                 1|           1|            0|              0|                     0|          0|\n",
            "|3668-QPYBK|     2|         Yes|Month-to-month|             Yes|        Mailed check|         53.85|      108.15|  Yes|  Male|            0|     No|        No|              No|            DSL|                Yes|                Yes|                 No|                 No|                 No|                 No|                 1|           1|            0|              0|                     1|          1|\n",
            "|7795-CFOCW|    45|          No|      One year|              No|Bank transfer (au...|          42.3|     1840.75|   No|  Male|            0|     No|        No|No phone service|            DSL|                Yes|                 No|                Yes|                Yes|                 No|                 No|                 0|           1|            0|              0|                     0|          0|\n",
            "|9237-HQITU|     2|         Yes|Month-to-month|             Yes|    Electronic check|          70.7|      151.65|  Yes|Female|            0|     No|        No|              No|    Fiber optic|                 No|                 No|                 No|                 No|                 No|                 No|                 1|           0|            0|              0|                     1|          1|\n",
            "|9305-CDSKC|     8|         Yes|Month-to-month|             Yes|    Electronic check|         99.65|       820.5|  Yes|Female|            0|     No|        No|             Yes|    Fiber optic|                 No|                 No|                Yes|                 No|                Yes|                Yes|                 1|           0|            0|              0|                     1|          1|\n",
            "|1452-KIOVK|    22|         Yes|Month-to-month|             Yes|Credit card (auto...|          89.1|      1949.4|   No|  Male|            0|     No|       Yes|             Yes|    Fiber optic|                 No|                Yes|                 No|                 No|                Yes|                 No|                 1|           1|            0|              1|                     1|          0|\n",
            "|6713-OKOMC|    10|          No|Month-to-month|              No|        Mailed check|         29.75|       301.9|   No|Female|            0|     No|        No|No phone service|            DSL|                Yes|                 No|                 No|                 No|                 No|                 No|                 0|           0|            0|              0|                     0|          0|\n",
            "|7892-POOKP|    28|         Yes|Month-to-month|             Yes|    Electronic check|         104.8|     3046.05|  Yes|Female|            0|    Yes|        No|             Yes|    Fiber optic|                 No|                 No|                Yes|                Yes|                Yes|                Yes|                 1|           0|            1|              0|                     1|          1|\n",
            "|6388-TABGU|    62|         Yes|      One year|              No|Bank transfer (au...|         56.15|     3487.95|   No|  Male|            0|     No|       Yes|              No|            DSL|                Yes|                Yes|                 No|                 No|                 No|                 No|                 1|           1|            0|              1|                     0|          0|\n",
            "|9763-GRSKD|    13|         Yes|Month-to-month|             Yes|        Mailed check|         49.95|      587.45|   No|  Male|            0|    Yes|       Yes|              No|            DSL|                Yes|                 No|                 No|                 No|                 No|                 No|                 1|           1|            1|              1|                     1|          0|\n",
            "|7469-LKBCI|    16|         Yes|      Two year|              No|Credit card (auto...|         18.95|       326.8|   No|  Male|            0|     No|        No|              No|             No|No internet service|No internet service|No internet service|No internet service|No internet service|No internet service|                 1|           1|            0|              0|                     0|          0|\n",
            "|8091-TTVAX|    58|         Yes|      One year|              No|Credit card (auto...|        100.35|      5681.1|   No|  Male|            0|    Yes|        No|             Yes|    Fiber optic|                 No|                 No|                Yes|                 No|                Yes|                Yes|                 1|           1|            1|              0|                     0|          0|\n",
            "|0280-XJGEX|    49|         Yes|Month-to-month|             Yes|Bank transfer (au...|         103.7|      5036.3|  Yes|  Male|            0|     No|        No|             Yes|    Fiber optic|                 No|                Yes|                Yes|                 No|                Yes|                Yes|                 1|           1|            0|              0|                     1|          1|\n",
            "|5129-JLPIS|    25|         Yes|Month-to-month|             Yes|    Electronic check|         105.5|     2686.05|   No|  Male|            0|     No|        No|              No|    Fiber optic|                Yes|                 No|                Yes|                Yes|                Yes|                Yes|                 1|           1|            0|              0|                     1|          0|\n",
            "|3655-SNQYZ|    69|         Yes|      Two year|              No|Credit card (auto...|        113.25|     7895.15|   No|Female|            0|    Yes|       Yes|             Yes|    Fiber optic|                Yes|                Yes|                Yes|                Yes|                Yes|                Yes|                 1|           0|            1|              1|                     0|          0|\n",
            "|8191-XWSZG|    52|         Yes|      One year|              No|        Mailed check|         20.65|     1022.95|   No|Female|            0|     No|        No|              No|             No|No internet service|No internet service|No internet service|No internet service|No internet service|No internet service|                 1|           0|            0|              0|                     0|          0|\n",
            "|9959-WOFKT|    71|         Yes|      Two year|              No|Bank transfer (au...|         106.7|     7382.25|   No|  Male|            0|     No|       Yes|             Yes|    Fiber optic|                Yes|                 No|                Yes|                 No|                Yes|                Yes|                 1|           1|            0|              1|                     0|          0|\n",
            "|4190-MFLUW|    10|         Yes|Month-to-month|              No|Credit card (auto...|          55.2|      528.35|  Yes|Female|            0|    Yes|       Yes|              No|            DSL|                 No|                 No|                Yes|                Yes|                 No|                 No|                 1|           0|            1|              1|                     0|          1|\n",
            "|4183-MYFRB|    21|         Yes|Month-to-month|             Yes|    Electronic check|         90.05|      1862.9|   No|Female|            0|     No|        No|              No|    Fiber optic|                 No|                Yes|                Yes|                 No|                 No|                Yes|                 1|           0|            0|              0|                     1|          0|\n",
            "+----------+------+------------+--------------+----------------+--------------------+--------------+------------+-----+------+-------------+-------+----------+----------------+---------------+-------------------+-------------------+-------------------+-------------------+-------------------+-------------------+------------------+------------+-------------+---------------+----------------------+-----------+\n",
            "only showing top 20 rows\n",
            "\n"
          ]
        }
      ]
    },
    {
      "cell_type": "code",
      "source": [
        "telecom_new = telecomdf.drop('PhoneService','PaperlessBilling','gender','Partner','Dependents','Churn')\n"
      ],
      "metadata": {
        "id": "Ga7T8aFOLtv9"
      },
      "execution_count": 299,
      "outputs": []
    },
    {
      "cell_type": "code",
      "source": [
        "telecom_new.show(5)"
      ],
      "metadata": {
        "colab": {
          "base_uri": "https://localhost:8080/"
        },
        "id": "ak-kF9OlJUXj",
        "outputId": "5c569c39-18ff-41c4-913d-e76a5e918153"
      },
      "execution_count": 300,
      "outputs": [
        {
          "output_type": "stream",
          "name": "stdout",
          "text": [
            "+----------+------+--------------+--------------------+--------------+------------+-------------+----------------+---------------+--------------+------------+----------------+-----------+-----------+---------------+------------------+------------+-------------+---------------+----------------------+-----------+\n",
            "|customerID|tenure|      Contract|       PaymentMethod|MonthlyCharges|TotalCharges|SeniorCitizen|   MultipleLines|InternetService|OnlineSecurity|OnlineBackup|DeviceProtection|TechSupport|StreamingTV|StreamingMovies|phoneService_alias|gender_alias|partner_alias|dependent_alias|paperlessBilling_alias|churn_alias|\n",
            "+----------+------+--------------+--------------------+--------------+------------+-------------+----------------+---------------+--------------+------------+----------------+-----------+-----------+---------------+------------------+------------+-------------+---------------+----------------------+-----------+\n",
            "|7590-VHVEG|     1|Month-to-month|    Electronic check|         29.85|       29.85|            0|No phone service|            DSL|            No|         Yes|              No|         No|         No|             No|                 0|           0|            1|              0|                     1|          0|\n",
            "|5575-GNVDE|    34|      One year|        Mailed check|         56.95|      1889.5|            0|              No|            DSL|           Yes|          No|             Yes|         No|         No|             No|                 1|           1|            0|              0|                     0|          0|\n",
            "|3668-QPYBK|     2|Month-to-month|        Mailed check|         53.85|      108.15|            0|              No|            DSL|           Yes|         Yes|              No|         No|         No|             No|                 1|           1|            0|              0|                     1|          1|\n",
            "|7795-CFOCW|    45|      One year|Bank transfer (au...|          42.3|     1840.75|            0|No phone service|            DSL|           Yes|          No|             Yes|        Yes|         No|             No|                 0|           1|            0|              0|                     0|          0|\n",
            "|9237-HQITU|     2|Month-to-month|    Electronic check|          70.7|      151.65|            0|              No|    Fiber optic|            No|          No|              No|         No|         No|             No|                 1|           0|            0|              0|                     1|          1|\n",
            "+----------+------+--------------+--------------------+--------------+------------+-------------+----------------+---------------+--------------+------------+----------------+-----------+-----------+---------------+------------------+------------+-------------+---------------+----------------------+-----------+\n",
            "only showing top 5 rows\n",
            "\n"
          ]
        }
      ]
    },
    {
      "cell_type": "code",
      "source": [
        "# import necessary SQL Datatypes, functions and Window operations for the transformations required\n",
        "from pyspark.sql.functions import *\n",
        "from pyspark.sql.types import *\n",
        "from pyspark.sql.window import Window"
      ],
      "metadata": {
        "id": "CD7LBUcqRxiR"
      },
      "execution_count": 301,
      "outputs": []
    },
    {
      "cell_type": "code",
      "source": [],
      "metadata": {
        "id": "KYzkjrQfRbwS"
      },
      "execution_count": 301,
      "outputs": []
    },
    {
      "cell_type": "code",
      "source": [],
      "metadata": {
        "id": "aWVPINRzR6hI"
      },
      "execution_count": 301,
      "outputs": []
    },
    {
      "cell_type": "code",
      "source": [],
      "metadata": {
        "id": "IdZURxBgR6l1"
      },
      "execution_count": 301,
      "outputs": []
    },
    {
      "cell_type": "code",
      "source": [
        "cat_cols = ['Contract','PaymentMethod','InternetService']"
      ],
      "metadata": {
        "id": "YuVaq9-LzXb4"
      },
      "execution_count": 302,
      "outputs": []
    },
    {
      "cell_type": "code",
      "source": [
        "from pyspark.ml.feature import OneHotEncoder , StringIndexer , VectorAssembler"
      ],
      "metadata": {
        "id": "JWV-mKbxHXx2"
      },
      "execution_count": 303,
      "outputs": []
    },
    {
      "cell_type": "code",
      "source": [
        "from pyspark.ml import Pipeline"
      ],
      "metadata": {
        "id": "T-qa4TDrfCTk"
      },
      "execution_count": 304,
      "outputs": []
    },
    {
      "cell_type": "code",
      "source": [
        "telecom_new.show(5)"
      ],
      "metadata": {
        "colab": {
          "base_uri": "https://localhost:8080/"
        },
        "id": "ZPyxo5aLfCWh",
        "outputId": "172316b2-cd98-4a1e-fade-d8619513f026"
      },
      "execution_count": 305,
      "outputs": [
        {
          "output_type": "stream",
          "name": "stdout",
          "text": [
            "+----------+------+--------------+--------------------+--------------+------------+-------------+----------------+---------------+--------------+------------+----------------+-----------+-----------+---------------+------------------+------------+-------------+---------------+----------------------+-----------+\n",
            "|customerID|tenure|      Contract|       PaymentMethod|MonthlyCharges|TotalCharges|SeniorCitizen|   MultipleLines|InternetService|OnlineSecurity|OnlineBackup|DeviceProtection|TechSupport|StreamingTV|StreamingMovies|phoneService_alias|gender_alias|partner_alias|dependent_alias|paperlessBilling_alias|churn_alias|\n",
            "+----------+------+--------------+--------------------+--------------+------------+-------------+----------------+---------------+--------------+------------+----------------+-----------+-----------+---------------+------------------+------------+-------------+---------------+----------------------+-----------+\n",
            "|7590-VHVEG|     1|Month-to-month|    Electronic check|         29.85|       29.85|            0|No phone service|            DSL|            No|         Yes|              No|         No|         No|             No|                 0|           0|            1|              0|                     1|          0|\n",
            "|5575-GNVDE|    34|      One year|        Mailed check|         56.95|      1889.5|            0|              No|            DSL|           Yes|          No|             Yes|         No|         No|             No|                 1|           1|            0|              0|                     0|          0|\n",
            "|3668-QPYBK|     2|Month-to-month|        Mailed check|         53.85|      108.15|            0|              No|            DSL|           Yes|         Yes|              No|         No|         No|             No|                 1|           1|            0|              0|                     1|          1|\n",
            "|7795-CFOCW|    45|      One year|Bank transfer (au...|          42.3|     1840.75|            0|No phone service|            DSL|           Yes|          No|             Yes|        Yes|         No|             No|                 0|           1|            0|              0|                     0|          0|\n",
            "|9237-HQITU|     2|Month-to-month|    Electronic check|          70.7|      151.65|            0|              No|    Fiber optic|            No|          No|              No|         No|         No|             No|                 1|           0|            0|              0|                     1|          1|\n",
            "+----------+------+--------------+--------------------+--------------+------------+-------------+----------------+---------------+--------------+------------+----------------+-----------+-----------+---------------+------------------+------------+-------------+---------------+----------------------+-----------+\n",
            "only showing top 5 rows\n",
            "\n"
          ]
        }
      ]
    },
    {
      "cell_type": "code",
      "source": [
        "cat_cols = ['Contract','PaymentMethod','SeniorCitizen','MultipleLines','InternetService','OnlineSecurity','OnlineBackup','DeviceProtection','TechSupport','StreamingTV','StreamingMovies']"
      ],
      "metadata": {
        "id": "cNpefHarfCZa"
      },
      "execution_count": 306,
      "outputs": []
    },
    {
      "cell_type": "code",
      "source": [],
      "metadata": {
        "id": "mxJ5eKzDHdCN"
      },
      "execution_count": 306,
      "outputs": []
    },
    {
      "cell_type": "code",
      "source": [
        "for item in cat_cols:\n",
        "  telecom_new.select(item).groupby(item).count().show()"
      ],
      "metadata": {
        "colab": {
          "base_uri": "https://localhost:8080/"
        },
        "id": "yE7doLi2fCeQ",
        "outputId": "cf1e6fb8-2cbd-4134-dc1c-f2f369d33bc9"
      },
      "execution_count": 307,
      "outputs": [
        {
          "output_type": "stream",
          "name": "stdout",
          "text": [
            "+--------------+-----+\n",
            "|      Contract|count|\n",
            "+--------------+-----+\n",
            "|Month-to-month| 3875|\n",
            "|      One year| 1473|\n",
            "|      Two year| 1695|\n",
            "+--------------+-----+\n",
            "\n",
            "+--------------------+-----+\n",
            "|       PaymentMethod|count|\n",
            "+--------------------+-----+\n",
            "|Credit card (auto...| 1522|\n",
            "|        Mailed check| 1612|\n",
            "|Bank transfer (au...| 1544|\n",
            "|    Electronic check| 2365|\n",
            "+--------------------+-----+\n",
            "\n",
            "+-------------+-----+\n",
            "|SeniorCitizen|count|\n",
            "+-------------+-----+\n",
            "|            0| 5901|\n",
            "|            1| 1142|\n",
            "+-------------+-----+\n",
            "\n",
            "+----------------+-----+\n",
            "|   MultipleLines|count|\n",
            "+----------------+-----+\n",
            "|No phone service|  682|\n",
            "|              No| 3390|\n",
            "|             Yes| 2971|\n",
            "+----------------+-----+\n",
            "\n",
            "+---------------+-----+\n",
            "|InternetService|count|\n",
            "+---------------+-----+\n",
            "|    Fiber optic| 3096|\n",
            "|             No| 1526|\n",
            "|            DSL| 2421|\n",
            "+---------------+-----+\n",
            "\n",
            "+-------------------+-----+\n",
            "|     OnlineSecurity|count|\n",
            "+-------------------+-----+\n",
            "|                 No| 3498|\n",
            "|                Yes| 2019|\n",
            "|No internet service| 1526|\n",
            "+-------------------+-----+\n",
            "\n",
            "+-------------------+-----+\n",
            "|       OnlineBackup|count|\n",
            "+-------------------+-----+\n",
            "|                 No| 3088|\n",
            "|                Yes| 2429|\n",
            "|No internet service| 1526|\n",
            "+-------------------+-----+\n",
            "\n",
            "+-------------------+-----+\n",
            "|   DeviceProtection|count|\n",
            "+-------------------+-----+\n",
            "|                 No| 3095|\n",
            "|                Yes| 2422|\n",
            "|No internet service| 1526|\n",
            "+-------------------+-----+\n",
            "\n",
            "+-------------------+-----+\n",
            "|        TechSupport|count|\n",
            "+-------------------+-----+\n",
            "|                 No| 3473|\n",
            "|                Yes| 2044|\n",
            "|No internet service| 1526|\n",
            "+-------------------+-----+\n",
            "\n",
            "+-------------------+-----+\n",
            "|        StreamingTV|count|\n",
            "+-------------------+-----+\n",
            "|                 No| 2810|\n",
            "|                Yes| 2707|\n",
            "|No internet service| 1526|\n",
            "+-------------------+-----+\n",
            "\n",
            "+-------------------+-----+\n",
            "|    StreamingMovies|count|\n",
            "+-------------------+-----+\n",
            "|                 No| 2785|\n",
            "|                Yes| 2732|\n",
            "|No internet service| 1526|\n",
            "+-------------------+-----+\n",
            "\n"
          ]
        }
      ]
    },
    {
      "cell_type": "code",
      "source": [
        "telecom_new.show()"
      ],
      "metadata": {
        "colab": {
          "base_uri": "https://localhost:8080/"
        },
        "id": "AV_MHNGH_p57",
        "outputId": "1661c107-a551-423b-bae8-07d7f99b1f55"
      },
      "execution_count": 308,
      "outputs": [
        {
          "output_type": "stream",
          "name": "stdout",
          "text": [
            "+----------+------+--------------+--------------------+--------------+------------+-------------+----------------+---------------+-------------------+-------------------+-------------------+-------------------+-------------------+-------------------+------------------+------------+-------------+---------------+----------------------+-----------+\n",
            "|customerID|tenure|      Contract|       PaymentMethod|MonthlyCharges|TotalCharges|SeniorCitizen|   MultipleLines|InternetService|     OnlineSecurity|       OnlineBackup|   DeviceProtection|        TechSupport|        StreamingTV|    StreamingMovies|phoneService_alias|gender_alias|partner_alias|dependent_alias|paperlessBilling_alias|churn_alias|\n",
            "+----------+------+--------------+--------------------+--------------+------------+-------------+----------------+---------------+-------------------+-------------------+-------------------+-------------------+-------------------+-------------------+------------------+------------+-------------+---------------+----------------------+-----------+\n",
            "|7590-VHVEG|     1|Month-to-month|    Electronic check|         29.85|       29.85|            0|No phone service|            DSL|                 No|                Yes|                 No|                 No|                 No|                 No|                 0|           0|            1|              0|                     1|          0|\n",
            "|5575-GNVDE|    34|      One year|        Mailed check|         56.95|      1889.5|            0|              No|            DSL|                Yes|                 No|                Yes|                 No|                 No|                 No|                 1|           1|            0|              0|                     0|          0|\n",
            "|3668-QPYBK|     2|Month-to-month|        Mailed check|         53.85|      108.15|            0|              No|            DSL|                Yes|                Yes|                 No|                 No|                 No|                 No|                 1|           1|            0|              0|                     1|          1|\n",
            "|7795-CFOCW|    45|      One year|Bank transfer (au...|          42.3|     1840.75|            0|No phone service|            DSL|                Yes|                 No|                Yes|                Yes|                 No|                 No|                 0|           1|            0|              0|                     0|          0|\n",
            "|9237-HQITU|     2|Month-to-month|    Electronic check|          70.7|      151.65|            0|              No|    Fiber optic|                 No|                 No|                 No|                 No|                 No|                 No|                 1|           0|            0|              0|                     1|          1|\n",
            "|9305-CDSKC|     8|Month-to-month|    Electronic check|         99.65|       820.5|            0|             Yes|    Fiber optic|                 No|                 No|                Yes|                 No|                Yes|                Yes|                 1|           0|            0|              0|                     1|          1|\n",
            "|1452-KIOVK|    22|Month-to-month|Credit card (auto...|          89.1|      1949.4|            0|             Yes|    Fiber optic|                 No|                Yes|                 No|                 No|                Yes|                 No|                 1|           1|            0|              1|                     1|          0|\n",
            "|6713-OKOMC|    10|Month-to-month|        Mailed check|         29.75|       301.9|            0|No phone service|            DSL|                Yes|                 No|                 No|                 No|                 No|                 No|                 0|           0|            0|              0|                     0|          0|\n",
            "|7892-POOKP|    28|Month-to-month|    Electronic check|         104.8|     3046.05|            0|             Yes|    Fiber optic|                 No|                 No|                Yes|                Yes|                Yes|                Yes|                 1|           0|            1|              0|                     1|          1|\n",
            "|6388-TABGU|    62|      One year|Bank transfer (au...|         56.15|     3487.95|            0|              No|            DSL|                Yes|                Yes|                 No|                 No|                 No|                 No|                 1|           1|            0|              1|                     0|          0|\n",
            "|9763-GRSKD|    13|Month-to-month|        Mailed check|         49.95|      587.45|            0|              No|            DSL|                Yes|                 No|                 No|                 No|                 No|                 No|                 1|           1|            1|              1|                     1|          0|\n",
            "|7469-LKBCI|    16|      Two year|Credit card (auto...|         18.95|       326.8|            0|              No|             No|No internet service|No internet service|No internet service|No internet service|No internet service|No internet service|                 1|           1|            0|              0|                     0|          0|\n",
            "|8091-TTVAX|    58|      One year|Credit card (auto...|        100.35|      5681.1|            0|             Yes|    Fiber optic|                 No|                 No|                Yes|                 No|                Yes|                Yes|                 1|           1|            1|              0|                     0|          0|\n",
            "|0280-XJGEX|    49|Month-to-month|Bank transfer (au...|         103.7|      5036.3|            0|             Yes|    Fiber optic|                 No|                Yes|                Yes|                 No|                Yes|                Yes|                 1|           1|            0|              0|                     1|          1|\n",
            "|5129-JLPIS|    25|Month-to-month|    Electronic check|         105.5|     2686.05|            0|              No|    Fiber optic|                Yes|                 No|                Yes|                Yes|                Yes|                Yes|                 1|           1|            0|              0|                     1|          0|\n",
            "|3655-SNQYZ|    69|      Two year|Credit card (auto...|        113.25|     7895.15|            0|             Yes|    Fiber optic|                Yes|                Yes|                Yes|                Yes|                Yes|                Yes|                 1|           0|            1|              1|                     0|          0|\n",
            "|8191-XWSZG|    52|      One year|        Mailed check|         20.65|     1022.95|            0|              No|             No|No internet service|No internet service|No internet service|No internet service|No internet service|No internet service|                 1|           0|            0|              0|                     0|          0|\n",
            "|9959-WOFKT|    71|      Two year|Bank transfer (au...|         106.7|     7382.25|            0|             Yes|    Fiber optic|                Yes|                 No|                Yes|                 No|                Yes|                Yes|                 1|           1|            0|              1|                     0|          0|\n",
            "|4190-MFLUW|    10|Month-to-month|Credit card (auto...|          55.2|      528.35|            0|              No|            DSL|                 No|                 No|                Yes|                Yes|                 No|                 No|                 1|           0|            1|              1|                     0|          1|\n",
            "|4183-MYFRB|    21|Month-to-month|    Electronic check|         90.05|      1862.9|            0|              No|    Fiber optic|                 No|                Yes|                Yes|                 No|                 No|                Yes|                 1|           0|            0|              0|                     1|          0|\n",
            "+----------+------+--------------+--------------------+--------------+------------+-------------+----------------+---------------+-------------------+-------------------+-------------------+-------------------+-------------------+-------------------+------------------+------------+-------------+---------------+----------------------+-----------+\n",
            "only showing top 20 rows\n",
            "\n"
          ]
        }
      ]
    },
    {
      "cell_type": "code",
      "source": [
        "for x in cat_cols:\n",
        "  indexer = StringIndexer(inputCol = x,outputCol = x+'_indexed' )\n",
        "  telecom_new = indexer.fit(telecom_new).transform(telecom_new)\n",
        "  \n",
        "  #pipeline = Pipeline(stages = stages)\n",
        "  #pipelineModel = pipeline.fit(telecomdf)\n",
        "  #telecomdf = pipelineModel.transform(telecomdf)\n",
        "\n",
        "\n",
        "\n",
        "\n"
      ],
      "metadata": {
        "id": "m95qITlwheVp"
      },
      "execution_count": 309,
      "outputs": []
    },
    {
      "cell_type": "code",
      "source": [
        "telecom_new.show()"
      ],
      "metadata": {
        "colab": {
          "base_uri": "https://localhost:8080/"
        },
        "id": "qF2c4EGTn2de",
        "outputId": "862d2e3e-a321-4d1a-c7d7-2bc830296181"
      },
      "execution_count": 310,
      "outputs": [
        {
          "output_type": "stream",
          "name": "stdout",
          "text": [
            "+----------+------+--------------+--------------------+--------------+------------+-------------+----------------+---------------+-------------------+-------------------+-------------------+-------------------+-------------------+-------------------+------------------+------------+-------------+---------------+----------------------+-----------+----------------+---------------------+---------------------+---------------------+-----------------------+----------------------+--------------------+------------------------+-------------------+-------------------+-----------------------+\n",
            "|customerID|tenure|      Contract|       PaymentMethod|MonthlyCharges|TotalCharges|SeniorCitizen|   MultipleLines|InternetService|     OnlineSecurity|       OnlineBackup|   DeviceProtection|        TechSupport|        StreamingTV|    StreamingMovies|phoneService_alias|gender_alias|partner_alias|dependent_alias|paperlessBilling_alias|churn_alias|Contract_indexed|PaymentMethod_indexed|SeniorCitizen_indexed|MultipleLines_indexed|InternetService_indexed|OnlineSecurity_indexed|OnlineBackup_indexed|DeviceProtection_indexed|TechSupport_indexed|StreamingTV_indexed|StreamingMovies_indexed|\n",
            "+----------+------+--------------+--------------------+--------------+------------+-------------+----------------+---------------+-------------------+-------------------+-------------------+-------------------+-------------------+-------------------+------------------+------------+-------------+---------------+----------------------+-----------+----------------+---------------------+---------------------+---------------------+-----------------------+----------------------+--------------------+------------------------+-------------------+-------------------+-----------------------+\n",
            "|7590-VHVEG|     1|Month-to-month|    Electronic check|         29.85|       29.85|            0|No phone service|            DSL|                 No|                Yes|                 No|                 No|                 No|                 No|                 0|           0|            1|              0|                     1|          0|             0.0|                  0.0|                  0.0|                  2.0|                    1.0|                   0.0|                 1.0|                     0.0|                0.0|                0.0|                    0.0|\n",
            "|5575-GNVDE|    34|      One year|        Mailed check|         56.95|      1889.5|            0|              No|            DSL|                Yes|                 No|                Yes|                 No|                 No|                 No|                 1|           1|            0|              0|                     0|          0|             2.0|                  1.0|                  0.0|                  0.0|                    1.0|                   1.0|                 0.0|                     1.0|                0.0|                0.0|                    0.0|\n",
            "|3668-QPYBK|     2|Month-to-month|        Mailed check|         53.85|      108.15|            0|              No|            DSL|                Yes|                Yes|                 No|                 No|                 No|                 No|                 1|           1|            0|              0|                     1|          1|             0.0|                  1.0|                  0.0|                  0.0|                    1.0|                   1.0|                 1.0|                     0.0|                0.0|                0.0|                    0.0|\n",
            "|7795-CFOCW|    45|      One year|Bank transfer (au...|          42.3|     1840.75|            0|No phone service|            DSL|                Yes|                 No|                Yes|                Yes|                 No|                 No|                 0|           1|            0|              0|                     0|          0|             2.0|                  2.0|                  0.0|                  2.0|                    1.0|                   1.0|                 0.0|                     1.0|                1.0|                0.0|                    0.0|\n",
            "|9237-HQITU|     2|Month-to-month|    Electronic check|          70.7|      151.65|            0|              No|    Fiber optic|                 No|                 No|                 No|                 No|                 No|                 No|                 1|           0|            0|              0|                     1|          1|             0.0|                  0.0|                  0.0|                  0.0|                    0.0|                   0.0|                 0.0|                     0.0|                0.0|                0.0|                    0.0|\n",
            "|9305-CDSKC|     8|Month-to-month|    Electronic check|         99.65|       820.5|            0|             Yes|    Fiber optic|                 No|                 No|                Yes|                 No|                Yes|                Yes|                 1|           0|            0|              0|                     1|          1|             0.0|                  0.0|                  0.0|                  1.0|                    0.0|                   0.0|                 0.0|                     1.0|                0.0|                1.0|                    1.0|\n",
            "|1452-KIOVK|    22|Month-to-month|Credit card (auto...|          89.1|      1949.4|            0|             Yes|    Fiber optic|                 No|                Yes|                 No|                 No|                Yes|                 No|                 1|           1|            0|              1|                     1|          0|             0.0|                  3.0|                  0.0|                  1.0|                    0.0|                   0.0|                 1.0|                     0.0|                0.0|                1.0|                    0.0|\n",
            "|6713-OKOMC|    10|Month-to-month|        Mailed check|         29.75|       301.9|            0|No phone service|            DSL|                Yes|                 No|                 No|                 No|                 No|                 No|                 0|           0|            0|              0|                     0|          0|             0.0|                  1.0|                  0.0|                  2.0|                    1.0|                   1.0|                 0.0|                     0.0|                0.0|                0.0|                    0.0|\n",
            "|7892-POOKP|    28|Month-to-month|    Electronic check|         104.8|     3046.05|            0|             Yes|    Fiber optic|                 No|                 No|                Yes|                Yes|                Yes|                Yes|                 1|           0|            1|              0|                     1|          1|             0.0|                  0.0|                  0.0|                  1.0|                    0.0|                   0.0|                 0.0|                     1.0|                1.0|                1.0|                    1.0|\n",
            "|6388-TABGU|    62|      One year|Bank transfer (au...|         56.15|     3487.95|            0|              No|            DSL|                Yes|                Yes|                 No|                 No|                 No|                 No|                 1|           1|            0|              1|                     0|          0|             2.0|                  2.0|                  0.0|                  0.0|                    1.0|                   1.0|                 1.0|                     0.0|                0.0|                0.0|                    0.0|\n",
            "|9763-GRSKD|    13|Month-to-month|        Mailed check|         49.95|      587.45|            0|              No|            DSL|                Yes|                 No|                 No|                 No|                 No|                 No|                 1|           1|            1|              1|                     1|          0|             0.0|                  1.0|                  0.0|                  0.0|                    1.0|                   1.0|                 0.0|                     0.0|                0.0|                0.0|                    0.0|\n",
            "|7469-LKBCI|    16|      Two year|Credit card (auto...|         18.95|       326.8|            0|              No|             No|No internet service|No internet service|No internet service|No internet service|No internet service|No internet service|                 1|           1|            0|              0|                     0|          0|             1.0|                  3.0|                  0.0|                  0.0|                    2.0|                   2.0|                 2.0|                     2.0|                2.0|                2.0|                    2.0|\n",
            "|8091-TTVAX|    58|      One year|Credit card (auto...|        100.35|      5681.1|            0|             Yes|    Fiber optic|                 No|                 No|                Yes|                 No|                Yes|                Yes|                 1|           1|            1|              0|                     0|          0|             2.0|                  3.0|                  0.0|                  1.0|                    0.0|                   0.0|                 0.0|                     1.0|                0.0|                1.0|                    1.0|\n",
            "|0280-XJGEX|    49|Month-to-month|Bank transfer (au...|         103.7|      5036.3|            0|             Yes|    Fiber optic|                 No|                Yes|                Yes|                 No|                Yes|                Yes|                 1|           1|            0|              0|                     1|          1|             0.0|                  2.0|                  0.0|                  1.0|                    0.0|                   0.0|                 1.0|                     1.0|                0.0|                1.0|                    1.0|\n",
            "|5129-JLPIS|    25|Month-to-month|    Electronic check|         105.5|     2686.05|            0|              No|    Fiber optic|                Yes|                 No|                Yes|                Yes|                Yes|                Yes|                 1|           1|            0|              0|                     1|          0|             0.0|                  0.0|                  0.0|                  0.0|                    0.0|                   1.0|                 0.0|                     1.0|                1.0|                1.0|                    1.0|\n",
            "|3655-SNQYZ|    69|      Two year|Credit card (auto...|        113.25|     7895.15|            0|             Yes|    Fiber optic|                Yes|                Yes|                Yes|                Yes|                Yes|                Yes|                 1|           0|            1|              1|                     0|          0|             1.0|                  3.0|                  0.0|                  1.0|                    0.0|                   1.0|                 1.0|                     1.0|                1.0|                1.0|                    1.0|\n",
            "|8191-XWSZG|    52|      One year|        Mailed check|         20.65|     1022.95|            0|              No|             No|No internet service|No internet service|No internet service|No internet service|No internet service|No internet service|                 1|           0|            0|              0|                     0|          0|             2.0|                  1.0|                  0.0|                  0.0|                    2.0|                   2.0|                 2.0|                     2.0|                2.0|                2.0|                    2.0|\n",
            "|9959-WOFKT|    71|      Two year|Bank transfer (au...|         106.7|     7382.25|            0|             Yes|    Fiber optic|                Yes|                 No|                Yes|                 No|                Yes|                Yes|                 1|           1|            0|              1|                     0|          0|             1.0|                  2.0|                  0.0|                  1.0|                    0.0|                   1.0|                 0.0|                     1.0|                0.0|                1.0|                    1.0|\n",
            "|4190-MFLUW|    10|Month-to-month|Credit card (auto...|          55.2|      528.35|            0|              No|            DSL|                 No|                 No|                Yes|                Yes|                 No|                 No|                 1|           0|            1|              1|                     0|          1|             0.0|                  3.0|                  0.0|                  0.0|                    1.0|                   0.0|                 0.0|                     1.0|                1.0|                0.0|                    0.0|\n",
            "|4183-MYFRB|    21|Month-to-month|    Electronic check|         90.05|      1862.9|            0|              No|    Fiber optic|                 No|                Yes|                Yes|                 No|                 No|                Yes|                 1|           0|            0|              0|                     1|          0|             0.0|                  0.0|                  0.0|                  0.0|                    0.0|                   0.0|                 1.0|                     1.0|                0.0|                0.0|                    1.0|\n",
            "+----------+------+--------------+--------------------+--------------+------------+-------------+----------------+---------------+-------------------+-------------------+-------------------+-------------------+-------------------+-------------------+------------------+------------+-------------+---------------+----------------------+-----------+----------------+---------------------+---------------------+---------------------+-----------------------+----------------------+--------------------+------------------------+-------------------+-------------------+-----------------------+\n",
            "only showing top 20 rows\n",
            "\n"
          ]
        }
      ]
    },
    {
      "cell_type": "code",
      "source": [
        "ind_col = ['Contract_indexed','PaymentMethod_indexed','SeniorCitizen_indexed','MultipleLines_indexed','InternetService_indexed','OnlineSecurity_indexed','OnlineBackup_indexed','DeviceProtection_indexed','TechSupport_indexed','StreamingTV_indexed','StreamingMovies_indexed']"
      ],
      "metadata": {
        "id": "G8Y2GP2WBDeL"
      },
      "execution_count": 311,
      "outputs": []
    },
    {
      "cell_type": "code",
      "source": [
        "for y in ind_col:\n",
        "  encoder = OneHotEncoder(inputCol = y, outputCol = y+'vector')\n",
        "  telecom_new = encoder.fit(telecom_new).transform(telecom_new)"
      ],
      "metadata": {
        "id": "Ds_x2pyZBIKi"
      },
      "execution_count": 312,
      "outputs": []
    },
    {
      "cell_type": "code",
      "source": [
        "telecom_new.show(20)"
      ],
      "metadata": {
        "colab": {
          "base_uri": "https://localhost:8080/"
        },
        "id": "iinyR8G9BIUp",
        "outputId": "10cacabe-cfec-413d-b5a9-06ed11dfb685"
      },
      "execution_count": 313,
      "outputs": [
        {
          "output_type": "stream",
          "name": "stdout",
          "text": [
            "+----------+------+--------------+--------------------+--------------+------------+-------------+----------------+---------------+-------------------+-------------------+-------------------+-------------------+-------------------+-------------------+------------------+------------+-------------+---------------+----------------------+-----------+----------------+---------------------+---------------------+---------------------+-----------------------+----------------------+--------------------+------------------------+-------------------+-------------------+-----------------------+----------------------+---------------------------+---------------------------+---------------------------+-----------------------------+----------------------------+--------------------------+------------------------------+-------------------------+-------------------------+-----------------------------+\n",
            "|customerID|tenure|      Contract|       PaymentMethod|MonthlyCharges|TotalCharges|SeniorCitizen|   MultipleLines|InternetService|     OnlineSecurity|       OnlineBackup|   DeviceProtection|        TechSupport|        StreamingTV|    StreamingMovies|phoneService_alias|gender_alias|partner_alias|dependent_alias|paperlessBilling_alias|churn_alias|Contract_indexed|PaymentMethod_indexed|SeniorCitizen_indexed|MultipleLines_indexed|InternetService_indexed|OnlineSecurity_indexed|OnlineBackup_indexed|DeviceProtection_indexed|TechSupport_indexed|StreamingTV_indexed|StreamingMovies_indexed|Contract_indexedvector|PaymentMethod_indexedvector|SeniorCitizen_indexedvector|MultipleLines_indexedvector|InternetService_indexedvector|OnlineSecurity_indexedvector|OnlineBackup_indexedvector|DeviceProtection_indexedvector|TechSupport_indexedvector|StreamingTV_indexedvector|StreamingMovies_indexedvector|\n",
            "+----------+------+--------------+--------------------+--------------+------------+-------------+----------------+---------------+-------------------+-------------------+-------------------+-------------------+-------------------+-------------------+------------------+------------+-------------+---------------+----------------------+-----------+----------------+---------------------+---------------------+---------------------+-----------------------+----------------------+--------------------+------------------------+-------------------+-------------------+-----------------------+----------------------+---------------------------+---------------------------+---------------------------+-----------------------------+----------------------------+--------------------------+------------------------------+-------------------------+-------------------------+-----------------------------+\n",
            "|7590-VHVEG|     1|Month-to-month|    Electronic check|         29.85|       29.85|            0|No phone service|            DSL|                 No|                Yes|                 No|                 No|                 No|                 No|                 0|           0|            1|              0|                     1|          0|             0.0|                  0.0|                  0.0|                  2.0|                    1.0|                   0.0|                 1.0|                     0.0|                0.0|                0.0|                    0.0|         (2,[0],[1.0])|              (3,[0],[1.0])|              (1,[0],[1.0])|                  (2,[],[])|                (2,[1],[1.0])|               (2,[0],[1.0])|             (2,[1],[1.0])|                 (2,[0],[1.0])|            (2,[0],[1.0])|            (2,[0],[1.0])|                (2,[0],[1.0])|\n",
            "|5575-GNVDE|    34|      One year|        Mailed check|         56.95|      1889.5|            0|              No|            DSL|                Yes|                 No|                Yes|                 No|                 No|                 No|                 1|           1|            0|              0|                     0|          0|             2.0|                  1.0|                  0.0|                  0.0|                    1.0|                   1.0|                 0.0|                     1.0|                0.0|                0.0|                    0.0|             (2,[],[])|              (3,[1],[1.0])|              (1,[0],[1.0])|              (2,[0],[1.0])|                (2,[1],[1.0])|               (2,[1],[1.0])|             (2,[0],[1.0])|                 (2,[1],[1.0])|            (2,[0],[1.0])|            (2,[0],[1.0])|                (2,[0],[1.0])|\n",
            "|3668-QPYBK|     2|Month-to-month|        Mailed check|         53.85|      108.15|            0|              No|            DSL|                Yes|                Yes|                 No|                 No|                 No|                 No|                 1|           1|            0|              0|                     1|          1|             0.0|                  1.0|                  0.0|                  0.0|                    1.0|                   1.0|                 1.0|                     0.0|                0.0|                0.0|                    0.0|         (2,[0],[1.0])|              (3,[1],[1.0])|              (1,[0],[1.0])|              (2,[0],[1.0])|                (2,[1],[1.0])|               (2,[1],[1.0])|             (2,[1],[1.0])|                 (2,[0],[1.0])|            (2,[0],[1.0])|            (2,[0],[1.0])|                (2,[0],[1.0])|\n",
            "|7795-CFOCW|    45|      One year|Bank transfer (au...|          42.3|     1840.75|            0|No phone service|            DSL|                Yes|                 No|                Yes|                Yes|                 No|                 No|                 0|           1|            0|              0|                     0|          0|             2.0|                  2.0|                  0.0|                  2.0|                    1.0|                   1.0|                 0.0|                     1.0|                1.0|                0.0|                    0.0|             (2,[],[])|              (3,[2],[1.0])|              (1,[0],[1.0])|                  (2,[],[])|                (2,[1],[1.0])|               (2,[1],[1.0])|             (2,[0],[1.0])|                 (2,[1],[1.0])|            (2,[1],[1.0])|            (2,[0],[1.0])|                (2,[0],[1.0])|\n",
            "|9237-HQITU|     2|Month-to-month|    Electronic check|          70.7|      151.65|            0|              No|    Fiber optic|                 No|                 No|                 No|                 No|                 No|                 No|                 1|           0|            0|              0|                     1|          1|             0.0|                  0.0|                  0.0|                  0.0|                    0.0|                   0.0|                 0.0|                     0.0|                0.0|                0.0|                    0.0|         (2,[0],[1.0])|              (3,[0],[1.0])|              (1,[0],[1.0])|              (2,[0],[1.0])|                (2,[0],[1.0])|               (2,[0],[1.0])|             (2,[0],[1.0])|                 (2,[0],[1.0])|            (2,[0],[1.0])|            (2,[0],[1.0])|                (2,[0],[1.0])|\n",
            "|9305-CDSKC|     8|Month-to-month|    Electronic check|         99.65|       820.5|            0|             Yes|    Fiber optic|                 No|                 No|                Yes|                 No|                Yes|                Yes|                 1|           0|            0|              0|                     1|          1|             0.0|                  0.0|                  0.0|                  1.0|                    0.0|                   0.0|                 0.0|                     1.0|                0.0|                1.0|                    1.0|         (2,[0],[1.0])|              (3,[0],[1.0])|              (1,[0],[1.0])|              (2,[1],[1.0])|                (2,[0],[1.0])|               (2,[0],[1.0])|             (2,[0],[1.0])|                 (2,[1],[1.0])|            (2,[0],[1.0])|            (2,[1],[1.0])|                (2,[1],[1.0])|\n",
            "|1452-KIOVK|    22|Month-to-month|Credit card (auto...|          89.1|      1949.4|            0|             Yes|    Fiber optic|                 No|                Yes|                 No|                 No|                Yes|                 No|                 1|           1|            0|              1|                     1|          0|             0.0|                  3.0|                  0.0|                  1.0|                    0.0|                   0.0|                 1.0|                     0.0|                0.0|                1.0|                    0.0|         (2,[0],[1.0])|                  (3,[],[])|              (1,[0],[1.0])|              (2,[1],[1.0])|                (2,[0],[1.0])|               (2,[0],[1.0])|             (2,[1],[1.0])|                 (2,[0],[1.0])|            (2,[0],[1.0])|            (2,[1],[1.0])|                (2,[0],[1.0])|\n",
            "|6713-OKOMC|    10|Month-to-month|        Mailed check|         29.75|       301.9|            0|No phone service|            DSL|                Yes|                 No|                 No|                 No|                 No|                 No|                 0|           0|            0|              0|                     0|          0|             0.0|                  1.0|                  0.0|                  2.0|                    1.0|                   1.0|                 0.0|                     0.0|                0.0|                0.0|                    0.0|         (2,[0],[1.0])|              (3,[1],[1.0])|              (1,[0],[1.0])|                  (2,[],[])|                (2,[1],[1.0])|               (2,[1],[1.0])|             (2,[0],[1.0])|                 (2,[0],[1.0])|            (2,[0],[1.0])|            (2,[0],[1.0])|                (2,[0],[1.0])|\n",
            "|7892-POOKP|    28|Month-to-month|    Electronic check|         104.8|     3046.05|            0|             Yes|    Fiber optic|                 No|                 No|                Yes|                Yes|                Yes|                Yes|                 1|           0|            1|              0|                     1|          1|             0.0|                  0.0|                  0.0|                  1.0|                    0.0|                   0.0|                 0.0|                     1.0|                1.0|                1.0|                    1.0|         (2,[0],[1.0])|              (3,[0],[1.0])|              (1,[0],[1.0])|              (2,[1],[1.0])|                (2,[0],[1.0])|               (2,[0],[1.0])|             (2,[0],[1.0])|                 (2,[1],[1.0])|            (2,[1],[1.0])|            (2,[1],[1.0])|                (2,[1],[1.0])|\n",
            "|6388-TABGU|    62|      One year|Bank transfer (au...|         56.15|     3487.95|            0|              No|            DSL|                Yes|                Yes|                 No|                 No|                 No|                 No|                 1|           1|            0|              1|                     0|          0|             2.0|                  2.0|                  0.0|                  0.0|                    1.0|                   1.0|                 1.0|                     0.0|                0.0|                0.0|                    0.0|             (2,[],[])|              (3,[2],[1.0])|              (1,[0],[1.0])|              (2,[0],[1.0])|                (2,[1],[1.0])|               (2,[1],[1.0])|             (2,[1],[1.0])|                 (2,[0],[1.0])|            (2,[0],[1.0])|            (2,[0],[1.0])|                (2,[0],[1.0])|\n",
            "|9763-GRSKD|    13|Month-to-month|        Mailed check|         49.95|      587.45|            0|              No|            DSL|                Yes|                 No|                 No|                 No|                 No|                 No|                 1|           1|            1|              1|                     1|          0|             0.0|                  1.0|                  0.0|                  0.0|                    1.0|                   1.0|                 0.0|                     0.0|                0.0|                0.0|                    0.0|         (2,[0],[1.0])|              (3,[1],[1.0])|              (1,[0],[1.0])|              (2,[0],[1.0])|                (2,[1],[1.0])|               (2,[1],[1.0])|             (2,[0],[1.0])|                 (2,[0],[1.0])|            (2,[0],[1.0])|            (2,[0],[1.0])|                (2,[0],[1.0])|\n",
            "|7469-LKBCI|    16|      Two year|Credit card (auto...|         18.95|       326.8|            0|              No|             No|No internet service|No internet service|No internet service|No internet service|No internet service|No internet service|                 1|           1|            0|              0|                     0|          0|             1.0|                  3.0|                  0.0|                  0.0|                    2.0|                   2.0|                 2.0|                     2.0|                2.0|                2.0|                    2.0|         (2,[1],[1.0])|                  (3,[],[])|              (1,[0],[1.0])|              (2,[0],[1.0])|                    (2,[],[])|                   (2,[],[])|                 (2,[],[])|                     (2,[],[])|                (2,[],[])|                (2,[],[])|                    (2,[],[])|\n",
            "|8091-TTVAX|    58|      One year|Credit card (auto...|        100.35|      5681.1|            0|             Yes|    Fiber optic|                 No|                 No|                Yes|                 No|                Yes|                Yes|                 1|           1|            1|              0|                     0|          0|             2.0|                  3.0|                  0.0|                  1.0|                    0.0|                   0.0|                 0.0|                     1.0|                0.0|                1.0|                    1.0|             (2,[],[])|                  (3,[],[])|              (1,[0],[1.0])|              (2,[1],[1.0])|                (2,[0],[1.0])|               (2,[0],[1.0])|             (2,[0],[1.0])|                 (2,[1],[1.0])|            (2,[0],[1.0])|            (2,[1],[1.0])|                (2,[1],[1.0])|\n",
            "|0280-XJGEX|    49|Month-to-month|Bank transfer (au...|         103.7|      5036.3|            0|             Yes|    Fiber optic|                 No|                Yes|                Yes|                 No|                Yes|                Yes|                 1|           1|            0|              0|                     1|          1|             0.0|                  2.0|                  0.0|                  1.0|                    0.0|                   0.0|                 1.0|                     1.0|                0.0|                1.0|                    1.0|         (2,[0],[1.0])|              (3,[2],[1.0])|              (1,[0],[1.0])|              (2,[1],[1.0])|                (2,[0],[1.0])|               (2,[0],[1.0])|             (2,[1],[1.0])|                 (2,[1],[1.0])|            (2,[0],[1.0])|            (2,[1],[1.0])|                (2,[1],[1.0])|\n",
            "|5129-JLPIS|    25|Month-to-month|    Electronic check|         105.5|     2686.05|            0|              No|    Fiber optic|                Yes|                 No|                Yes|                Yes|                Yes|                Yes|                 1|           1|            0|              0|                     1|          0|             0.0|                  0.0|                  0.0|                  0.0|                    0.0|                   1.0|                 0.0|                     1.0|                1.0|                1.0|                    1.0|         (2,[0],[1.0])|              (3,[0],[1.0])|              (1,[0],[1.0])|              (2,[0],[1.0])|                (2,[0],[1.0])|               (2,[1],[1.0])|             (2,[0],[1.0])|                 (2,[1],[1.0])|            (2,[1],[1.0])|            (2,[1],[1.0])|                (2,[1],[1.0])|\n",
            "|3655-SNQYZ|    69|      Two year|Credit card (auto...|        113.25|     7895.15|            0|             Yes|    Fiber optic|                Yes|                Yes|                Yes|                Yes|                Yes|                Yes|                 1|           0|            1|              1|                     0|          0|             1.0|                  3.0|                  0.0|                  1.0|                    0.0|                   1.0|                 1.0|                     1.0|                1.0|                1.0|                    1.0|         (2,[1],[1.0])|                  (3,[],[])|              (1,[0],[1.0])|              (2,[1],[1.0])|                (2,[0],[1.0])|               (2,[1],[1.0])|             (2,[1],[1.0])|                 (2,[1],[1.0])|            (2,[1],[1.0])|            (2,[1],[1.0])|                (2,[1],[1.0])|\n",
            "|8191-XWSZG|    52|      One year|        Mailed check|         20.65|     1022.95|            0|              No|             No|No internet service|No internet service|No internet service|No internet service|No internet service|No internet service|                 1|           0|            0|              0|                     0|          0|             2.0|                  1.0|                  0.0|                  0.0|                    2.0|                   2.0|                 2.0|                     2.0|                2.0|                2.0|                    2.0|             (2,[],[])|              (3,[1],[1.0])|              (1,[0],[1.0])|              (2,[0],[1.0])|                    (2,[],[])|                   (2,[],[])|                 (2,[],[])|                     (2,[],[])|                (2,[],[])|                (2,[],[])|                    (2,[],[])|\n",
            "|9959-WOFKT|    71|      Two year|Bank transfer (au...|         106.7|     7382.25|            0|             Yes|    Fiber optic|                Yes|                 No|                Yes|                 No|                Yes|                Yes|                 1|           1|            0|              1|                     0|          0|             1.0|                  2.0|                  0.0|                  1.0|                    0.0|                   1.0|                 0.0|                     1.0|                0.0|                1.0|                    1.0|         (2,[1],[1.0])|              (3,[2],[1.0])|              (1,[0],[1.0])|              (2,[1],[1.0])|                (2,[0],[1.0])|               (2,[1],[1.0])|             (2,[0],[1.0])|                 (2,[1],[1.0])|            (2,[0],[1.0])|            (2,[1],[1.0])|                (2,[1],[1.0])|\n",
            "|4190-MFLUW|    10|Month-to-month|Credit card (auto...|          55.2|      528.35|            0|              No|            DSL|                 No|                 No|                Yes|                Yes|                 No|                 No|                 1|           0|            1|              1|                     0|          1|             0.0|                  3.0|                  0.0|                  0.0|                    1.0|                   0.0|                 0.0|                     1.0|                1.0|                0.0|                    0.0|         (2,[0],[1.0])|                  (3,[],[])|              (1,[0],[1.0])|              (2,[0],[1.0])|                (2,[1],[1.0])|               (2,[0],[1.0])|             (2,[0],[1.0])|                 (2,[1],[1.0])|            (2,[1],[1.0])|            (2,[0],[1.0])|                (2,[0],[1.0])|\n",
            "|4183-MYFRB|    21|Month-to-month|    Electronic check|         90.05|      1862.9|            0|              No|    Fiber optic|                 No|                Yes|                Yes|                 No|                 No|                Yes|                 1|           0|            0|              0|                     1|          0|             0.0|                  0.0|                  0.0|                  0.0|                    0.0|                   0.0|                 1.0|                     1.0|                0.0|                0.0|                    1.0|         (2,[0],[1.0])|              (3,[0],[1.0])|              (1,[0],[1.0])|              (2,[0],[1.0])|                (2,[0],[1.0])|               (2,[0],[1.0])|             (2,[1],[1.0])|                 (2,[1],[1.0])|            (2,[0],[1.0])|            (2,[0],[1.0])|                (2,[1],[1.0])|\n",
            "+----------+------+--------------+--------------------+--------------+------------+-------------+----------------+---------------+-------------------+-------------------+-------------------+-------------------+-------------------+-------------------+------------------+------------+-------------+---------------+----------------------+-----------+----------------+---------------------+---------------------+---------------------+-----------------------+----------------------+--------------------+------------------------+-------------------+-------------------+-----------------------+----------------------+---------------------------+---------------------------+---------------------------+-----------------------------+----------------------------+--------------------------+------------------------------+-------------------------+-------------------------+-----------------------------+\n",
            "only showing top 20 rows\n",
            "\n"
          ]
        }
      ]
    },
    {
      "cell_type": "markdown",
      "source": [],
      "metadata": {
        "id": "CEDTCjPMLVrz"
      }
    },
    {
      "cell_type": "code",
      "source": [
        "telecom_new.columns"
      ],
      "metadata": {
        "colab": {
          "base_uri": "https://localhost:8080/"
        },
        "id": "ib0UO2sSKPZg",
        "outputId": "f1dc1bea-5686-4e0a-eaf4-3bf2a0ee9b07"
      },
      "execution_count": 314,
      "outputs": [
        {
          "output_type": "execute_result",
          "data": {
            "text/plain": [
              "['customerID',\n",
              " 'tenure',\n",
              " 'Contract',\n",
              " 'PaymentMethod',\n",
              " 'MonthlyCharges',\n",
              " 'TotalCharges',\n",
              " 'SeniorCitizen',\n",
              " 'MultipleLines',\n",
              " 'InternetService',\n",
              " 'OnlineSecurity',\n",
              " 'OnlineBackup',\n",
              " 'DeviceProtection',\n",
              " 'TechSupport',\n",
              " 'StreamingTV',\n",
              " 'StreamingMovies',\n",
              " 'phoneService_alias',\n",
              " 'gender_alias',\n",
              " 'partner_alias',\n",
              " 'dependent_alias',\n",
              " 'paperlessBilling_alias',\n",
              " 'churn_alias',\n",
              " 'Contract_indexed',\n",
              " 'PaymentMethod_indexed',\n",
              " 'SeniorCitizen_indexed',\n",
              " 'MultipleLines_indexed',\n",
              " 'InternetService_indexed',\n",
              " 'OnlineSecurity_indexed',\n",
              " 'OnlineBackup_indexed',\n",
              " 'DeviceProtection_indexed',\n",
              " 'TechSupport_indexed',\n",
              " 'StreamingTV_indexed',\n",
              " 'StreamingMovies_indexed',\n",
              " 'Contract_indexedvector',\n",
              " 'PaymentMethod_indexedvector',\n",
              " 'SeniorCitizen_indexedvector',\n",
              " 'MultipleLines_indexedvector',\n",
              " 'InternetService_indexedvector',\n",
              " 'OnlineSecurity_indexedvector',\n",
              " 'OnlineBackup_indexedvector',\n",
              " 'DeviceProtection_indexedvector',\n",
              " 'TechSupport_indexedvector',\n",
              " 'StreamingTV_indexedvector',\n",
              " 'StreamingMovies_indexedvector']"
            ]
          },
          "metadata": {},
          "execution_count": 314
        }
      ]
    },
    {
      "cell_type": "code",
      "source": [
        "telecom_new.show(5)"
      ],
      "metadata": {
        "colab": {
          "base_uri": "https://localhost:8080/"
        },
        "id": "rwRCv0iVLZwD",
        "outputId": "3ae19b73-1019-443b-f9a8-1c9d560219bb"
      },
      "execution_count": 315,
      "outputs": [
        {
          "output_type": "stream",
          "name": "stdout",
          "text": [
            "+----------+------+--------------+--------------------+--------------+------------+-------------+----------------+---------------+--------------+------------+----------------+-----------+-----------+---------------+------------------+------------+-------------+---------------+----------------------+-----------+----------------+---------------------+---------------------+---------------------+-----------------------+----------------------+--------------------+------------------------+-------------------+-------------------+-----------------------+----------------------+---------------------------+---------------------------+---------------------------+-----------------------------+----------------------------+--------------------------+------------------------------+-------------------------+-------------------------+-----------------------------+\n",
            "|customerID|tenure|      Contract|       PaymentMethod|MonthlyCharges|TotalCharges|SeniorCitizen|   MultipleLines|InternetService|OnlineSecurity|OnlineBackup|DeviceProtection|TechSupport|StreamingTV|StreamingMovies|phoneService_alias|gender_alias|partner_alias|dependent_alias|paperlessBilling_alias|churn_alias|Contract_indexed|PaymentMethod_indexed|SeniorCitizen_indexed|MultipleLines_indexed|InternetService_indexed|OnlineSecurity_indexed|OnlineBackup_indexed|DeviceProtection_indexed|TechSupport_indexed|StreamingTV_indexed|StreamingMovies_indexed|Contract_indexedvector|PaymentMethod_indexedvector|SeniorCitizen_indexedvector|MultipleLines_indexedvector|InternetService_indexedvector|OnlineSecurity_indexedvector|OnlineBackup_indexedvector|DeviceProtection_indexedvector|TechSupport_indexedvector|StreamingTV_indexedvector|StreamingMovies_indexedvector|\n",
            "+----------+------+--------------+--------------------+--------------+------------+-------------+----------------+---------------+--------------+------------+----------------+-----------+-----------+---------------+------------------+------------+-------------+---------------+----------------------+-----------+----------------+---------------------+---------------------+---------------------+-----------------------+----------------------+--------------------+------------------------+-------------------+-------------------+-----------------------+----------------------+---------------------------+---------------------------+---------------------------+-----------------------------+----------------------------+--------------------------+------------------------------+-------------------------+-------------------------+-----------------------------+\n",
            "|7590-VHVEG|     1|Month-to-month|    Electronic check|         29.85|       29.85|            0|No phone service|            DSL|            No|         Yes|              No|         No|         No|             No|                 0|           0|            1|              0|                     1|          0|             0.0|                  0.0|                  0.0|                  2.0|                    1.0|                   0.0|                 1.0|                     0.0|                0.0|                0.0|                    0.0|         (2,[0],[1.0])|              (3,[0],[1.0])|              (1,[0],[1.0])|                  (2,[],[])|                (2,[1],[1.0])|               (2,[0],[1.0])|             (2,[1],[1.0])|                 (2,[0],[1.0])|            (2,[0],[1.0])|            (2,[0],[1.0])|                (2,[0],[1.0])|\n",
            "|5575-GNVDE|    34|      One year|        Mailed check|         56.95|      1889.5|            0|              No|            DSL|           Yes|          No|             Yes|         No|         No|             No|                 1|           1|            0|              0|                     0|          0|             2.0|                  1.0|                  0.0|                  0.0|                    1.0|                   1.0|                 0.0|                     1.0|                0.0|                0.0|                    0.0|             (2,[],[])|              (3,[1],[1.0])|              (1,[0],[1.0])|              (2,[0],[1.0])|                (2,[1],[1.0])|               (2,[1],[1.0])|             (2,[0],[1.0])|                 (2,[1],[1.0])|            (2,[0],[1.0])|            (2,[0],[1.0])|                (2,[0],[1.0])|\n",
            "|3668-QPYBK|     2|Month-to-month|        Mailed check|         53.85|      108.15|            0|              No|            DSL|           Yes|         Yes|              No|         No|         No|             No|                 1|           1|            0|              0|                     1|          1|             0.0|                  1.0|                  0.0|                  0.0|                    1.0|                   1.0|                 1.0|                     0.0|                0.0|                0.0|                    0.0|         (2,[0],[1.0])|              (3,[1],[1.0])|              (1,[0],[1.0])|              (2,[0],[1.0])|                (2,[1],[1.0])|               (2,[1],[1.0])|             (2,[1],[1.0])|                 (2,[0],[1.0])|            (2,[0],[1.0])|            (2,[0],[1.0])|                (2,[0],[1.0])|\n",
            "|7795-CFOCW|    45|      One year|Bank transfer (au...|          42.3|     1840.75|            0|No phone service|            DSL|           Yes|          No|             Yes|        Yes|         No|             No|                 0|           1|            0|              0|                     0|          0|             2.0|                  2.0|                  0.0|                  2.0|                    1.0|                   1.0|                 0.0|                     1.0|                1.0|                0.0|                    0.0|             (2,[],[])|              (3,[2],[1.0])|              (1,[0],[1.0])|                  (2,[],[])|                (2,[1],[1.0])|               (2,[1],[1.0])|             (2,[0],[1.0])|                 (2,[1],[1.0])|            (2,[1],[1.0])|            (2,[0],[1.0])|                (2,[0],[1.0])|\n",
            "|9237-HQITU|     2|Month-to-month|    Electronic check|          70.7|      151.65|            0|              No|    Fiber optic|            No|          No|              No|         No|         No|             No|                 1|           0|            0|              0|                     1|          1|             0.0|                  0.0|                  0.0|                  0.0|                    0.0|                   0.0|                 0.0|                     0.0|                0.0|                0.0|                    0.0|         (2,[0],[1.0])|              (3,[0],[1.0])|              (1,[0],[1.0])|              (2,[0],[1.0])|                (2,[0],[1.0])|               (2,[0],[1.0])|             (2,[0],[1.0])|                 (2,[0],[1.0])|            (2,[0],[1.0])|            (2,[0],[1.0])|                (2,[0],[1.0])|\n",
            "+----------+------+--------------+--------------------+--------------+------------+-------------+----------------+---------------+--------------+------------+----------------+-----------+-----------+---------------+------------------+------------+-------------+---------------+----------------------+-----------+----------------+---------------------+---------------------+---------------------+-----------------------+----------------------+--------------------+------------------------+-------------------+-------------------+-----------------------+----------------------+---------------------------+---------------------------+---------------------------+-----------------------------+----------------------------+--------------------------+------------------------------+-------------------------+-------------------------+-----------------------------+\n",
            "only showing top 5 rows\n",
            "\n"
          ]
        }
      ]
    },
    {
      "cell_type": "code",
      "source": [
        "feat_col = ['tenure',\n",
        " 'MonthlyCharges',\n",
        " 'TotalCharges',\n",
        " 'phoneService_alias',\n",
        " 'gender_alias',\n",
        " 'partner_alias',\n",
        " 'dependent_alias',\n",
        " 'paperlessBilling_alias',\n",
        " 'Contract_indexedvector',\n",
        " 'PaymentMethod_indexedvector',\n",
        " 'SeniorCitizen_indexedvector',\n",
        " 'MultipleLines_indexedvector',\n",
        " 'InternetService_indexedvector',\n",
        " 'OnlineSecurity_indexedvector',\n",
        " 'OnlineBackup_indexedvector',\n",
        " 'DeviceProtection_indexedvector',\n",
        " 'TechSupport_indexedvector',\n",
        " 'StreamingTV_indexedvector',\n",
        " 'StreamingMovies_indexedvector']"
      ],
      "metadata": {
        "id": "eIEDolX2JHJB"
      },
      "execution_count": 316,
      "outputs": []
    },
    {
      "cell_type": "code",
      "source": [
        "telecom_new = telecom_new.withColumn('MonthlyCharges', telecom_new[\"MonthlyCharges\"].cast(DecimalType(10,5)))\n",
        "telecom_new = telecom_new.withColumn('TotalCharges', telecom_new[\"TotalCharges\"].cast(DecimalType(10,5)))\n",
        "telecom_new = telecom_new.withColumn('tenure', telecom_new[\"tenure\"].cast('int'))\n",
        "telecom_new = telecom_new.withColumn('phoneService_alias', telecom_new[\"phoneService_alias\"].cast(BooleanType()))\n",
        "telecom_new = telecom_new.withColumn('gender_alias', telecom_new[\"gender_alias\"].cast(BooleanType()))\n",
        "telecom_new = telecom_new.withColumn('partner_alias', telecom_new[\"partner_alias\"].cast(BooleanType()))\n",
        "telecom_new = telecom_new.withColumn('dependent_alias', telecom_new[\"dependent_alias\"].cast(BooleanType()))\n",
        "telecom_new = telecom_new.withColumn('paperlessBilling_alias', telecom_new[\"paperlessBilling_alias\"].cast(BooleanType()))\n",
        "telecom_new = telecom_new.withColumn('churn_alias', telecom_new[\"churn_alias\"].cast(BooleanType()))"
      ],
      "metadata": {
        "id": "qpSzHL5sNcyW"
      },
      "execution_count": 317,
      "outputs": []
    },
    {
      "cell_type": "code",
      "source": [],
      "metadata": {
        "id": "Eb3nYL8lOUcU"
      },
      "execution_count": 317,
      "outputs": []
    },
    {
      "cell_type": "code",
      "source": [],
      "metadata": {
        "id": "sHeimCfGL57D"
      },
      "execution_count": 317,
      "outputs": []
    },
    {
      "cell_type": "code",
      "source": [],
      "metadata": {
        "id": "u6PYPtaLPBIj"
      },
      "execution_count": 317,
      "outputs": []
    },
    {
      "cell_type": "code",
      "source": [
        "assembler = VectorAssembler(inputCols = feat_col ,outputCol = 'features')\n",
        "telecom_new = assembler.transform(telecom_new)"
      ],
      "metadata": {
        "id": "HoH0tZWEFLOq"
      },
      "execution_count": 318,
      "outputs": []
    },
    {
      "cell_type": "code",
      "source": [
        "telecom_new.show()"
      ],
      "metadata": {
        "colab": {
          "base_uri": "https://localhost:8080/"
        },
        "id": "a9GOVvfUMWVg",
        "outputId": "8888f8d9-a795-44d9-ab0c-b1fdabed0efe"
      },
      "execution_count": 319,
      "outputs": [
        {
          "output_type": "stream",
          "name": "stdout",
          "text": [
            "+----------+------+--------------+--------------------+--------------+------------+-------------+----------------+---------------+-------------------+-------------------+-------------------+-------------------+-------------------+-------------------+------------------+------------+-------------+---------------+----------------------+-----------+----------------+---------------------+---------------------+---------------------+-----------------------+----------------------+--------------------+------------------------+-------------------+-------------------+-----------------------+----------------------+---------------------------+---------------------------+---------------------------+-----------------------------+----------------------------+--------------------------+------------------------------+-------------------------+-------------------------+-----------------------------+--------------------+\n",
            "|customerID|tenure|      Contract|       PaymentMethod|MonthlyCharges|TotalCharges|SeniorCitizen|   MultipleLines|InternetService|     OnlineSecurity|       OnlineBackup|   DeviceProtection|        TechSupport|        StreamingTV|    StreamingMovies|phoneService_alias|gender_alias|partner_alias|dependent_alias|paperlessBilling_alias|churn_alias|Contract_indexed|PaymentMethod_indexed|SeniorCitizen_indexed|MultipleLines_indexed|InternetService_indexed|OnlineSecurity_indexed|OnlineBackup_indexed|DeviceProtection_indexed|TechSupport_indexed|StreamingTV_indexed|StreamingMovies_indexed|Contract_indexedvector|PaymentMethod_indexedvector|SeniorCitizen_indexedvector|MultipleLines_indexedvector|InternetService_indexedvector|OnlineSecurity_indexedvector|OnlineBackup_indexedvector|DeviceProtection_indexedvector|TechSupport_indexedvector|StreamingTV_indexedvector|StreamingMovies_indexedvector|            features|\n",
            "+----------+------+--------------+--------------------+--------------+------------+-------------+----------------+---------------+-------------------+-------------------+-------------------+-------------------+-------------------+-------------------+------------------+------------+-------------+---------------+----------------------+-----------+----------------+---------------------+---------------------+---------------------+-----------------------+----------------------+--------------------+------------------------+-------------------+-------------------+-----------------------+----------------------+---------------------------+---------------------------+---------------------------+-----------------------------+----------------------------+--------------------------+------------------------------+-------------------------+-------------------------+-----------------------------+--------------------+\n",
            "|7590-VHVEG|     1|Month-to-month|    Electronic check|      29.85000|    29.85000|            0|No phone service|            DSL|                 No|                Yes|                 No|                 No|                 No|                 No|             false|       false|         true|          false|                  true|      false|             0.0|                  0.0|                  0.0|                  2.0|                    1.0|                   0.0|                 1.0|                     0.0|                0.0|                0.0|                    0.0|         (2,[0],[1.0])|              (3,[0],[1.0])|              (1,[0],[1.0])|                  (2,[],[])|                (2,[1],[1.0])|               (2,[0],[1.0])|             (2,[1],[1.0])|                 (2,[0],[1.0])|            (2,[0],[1.0])|            (2,[0],[1.0])|                (2,[0],[1.0])|(30,[0,1,2,5,7,8,...|\n",
            "|5575-GNVDE|    34|      One year|        Mailed check|      56.95000|  1889.50000|            0|              No|            DSL|                Yes|                 No|                Yes|                 No|                 No|                 No|              true|        true|        false|          false|                 false|      false|             2.0|                  1.0|                  0.0|                  0.0|                    1.0|                   1.0|                 0.0|                     1.0|                0.0|                0.0|                    0.0|             (2,[],[])|              (3,[1],[1.0])|              (1,[0],[1.0])|              (2,[0],[1.0])|                (2,[1],[1.0])|               (2,[1],[1.0])|             (2,[0],[1.0])|                 (2,[1],[1.0])|            (2,[0],[1.0])|            (2,[0],[1.0])|                (2,[0],[1.0])|(30,[0,1,2,3,4,11...|\n",
            "|3668-QPYBK|     2|Month-to-month|        Mailed check|      53.85000|   108.15000|            0|              No|            DSL|                Yes|                Yes|                 No|                 No|                 No|                 No|              true|        true|        false|          false|                  true|       true|             0.0|                  1.0|                  0.0|                  0.0|                    1.0|                   1.0|                 1.0|                     0.0|                0.0|                0.0|                    0.0|         (2,[0],[1.0])|              (3,[1],[1.0])|              (1,[0],[1.0])|              (2,[0],[1.0])|                (2,[1],[1.0])|               (2,[1],[1.0])|             (2,[1],[1.0])|                 (2,[0],[1.0])|            (2,[0],[1.0])|            (2,[0],[1.0])|                (2,[0],[1.0])|(30,[0,1,2,3,4,7,...|\n",
            "|7795-CFOCW|    45|      One year|Bank transfer (au...|      42.30000|  1840.75000|            0|No phone service|            DSL|                Yes|                 No|                Yes|                Yes|                 No|                 No|             false|        true|        false|          false|                 false|      false|             2.0|                  2.0|                  0.0|                  2.0|                    1.0|                   1.0|                 0.0|                     1.0|                1.0|                0.0|                    0.0|             (2,[],[])|              (3,[2],[1.0])|              (1,[0],[1.0])|                  (2,[],[])|                (2,[1],[1.0])|               (2,[1],[1.0])|             (2,[0],[1.0])|                 (2,[1],[1.0])|            (2,[1],[1.0])|            (2,[0],[1.0])|                (2,[0],[1.0])|(30,[0,1,2,4,12,1...|\n",
            "|9237-HQITU|     2|Month-to-month|    Electronic check|      70.70000|   151.65000|            0|              No|    Fiber optic|                 No|                 No|                 No|                 No|                 No|                 No|              true|       false|        false|          false|                  true|       true|             0.0|                  0.0|                  0.0|                  0.0|                    0.0|                   0.0|                 0.0|                     0.0|                0.0|                0.0|                    0.0|         (2,[0],[1.0])|              (3,[0],[1.0])|              (1,[0],[1.0])|              (2,[0],[1.0])|                (2,[0],[1.0])|               (2,[0],[1.0])|             (2,[0],[1.0])|                 (2,[0],[1.0])|            (2,[0],[1.0])|            (2,[0],[1.0])|                (2,[0],[1.0])|(30,[0,1,2,3,7,8,...|\n",
            "|9305-CDSKC|     8|Month-to-month|    Electronic check|      99.65000|   820.50000|            0|             Yes|    Fiber optic|                 No|                 No|                Yes|                 No|                Yes|                Yes|              true|       false|        false|          false|                  true|       true|             0.0|                  0.0|                  0.0|                  1.0|                    0.0|                   0.0|                 0.0|                     1.0|                0.0|                1.0|                    1.0|         (2,[0],[1.0])|              (3,[0],[1.0])|              (1,[0],[1.0])|              (2,[1],[1.0])|                (2,[0],[1.0])|               (2,[0],[1.0])|             (2,[0],[1.0])|                 (2,[1],[1.0])|            (2,[0],[1.0])|            (2,[1],[1.0])|                (2,[1],[1.0])|(30,[0,1,2,3,7,8,...|\n",
            "|1452-KIOVK|    22|Month-to-month|Credit card (auto...|      89.10000|  1949.40000|            0|             Yes|    Fiber optic|                 No|                Yes|                 No|                 No|                Yes|                 No|              true|        true|        false|           true|                  true|      false|             0.0|                  3.0|                  0.0|                  1.0|                    0.0|                   0.0|                 1.0|                     0.0|                0.0|                1.0|                    0.0|         (2,[0],[1.0])|                  (3,[],[])|              (1,[0],[1.0])|              (2,[1],[1.0])|                (2,[0],[1.0])|               (2,[0],[1.0])|             (2,[1],[1.0])|                 (2,[0],[1.0])|            (2,[0],[1.0])|            (2,[1],[1.0])|                (2,[0],[1.0])|(30,[0,1,2,3,4,6,...|\n",
            "|6713-OKOMC|    10|Month-to-month|        Mailed check|      29.75000|   301.90000|            0|No phone service|            DSL|                Yes|                 No|                 No|                 No|                 No|                 No|             false|       false|        false|          false|                 false|      false|             0.0|                  1.0|                  0.0|                  2.0|                    1.0|                   1.0|                 0.0|                     0.0|                0.0|                0.0|                    0.0|         (2,[0],[1.0])|              (3,[1],[1.0])|              (1,[0],[1.0])|                  (2,[],[])|                (2,[1],[1.0])|               (2,[1],[1.0])|             (2,[0],[1.0])|                 (2,[0],[1.0])|            (2,[0],[1.0])|            (2,[0],[1.0])|                (2,[0],[1.0])|(30,[0,1,2,8,11,1...|\n",
            "|7892-POOKP|    28|Month-to-month|    Electronic check|     104.80000|  3046.05000|            0|             Yes|    Fiber optic|                 No|                 No|                Yes|                Yes|                Yes|                Yes|              true|       false|         true|          false|                  true|       true|             0.0|                  0.0|                  0.0|                  1.0|                    0.0|                   0.0|                 0.0|                     1.0|                1.0|                1.0|                    1.0|         (2,[0],[1.0])|              (3,[0],[1.0])|              (1,[0],[1.0])|              (2,[1],[1.0])|                (2,[0],[1.0])|               (2,[0],[1.0])|             (2,[0],[1.0])|                 (2,[1],[1.0])|            (2,[1],[1.0])|            (2,[1],[1.0])|                (2,[1],[1.0])|(30,[0,1,2,3,5,7,...|\n",
            "|6388-TABGU|    62|      One year|Bank transfer (au...|      56.15000|  3487.95000|            0|              No|            DSL|                Yes|                Yes|                 No|                 No|                 No|                 No|              true|        true|        false|           true|                 false|      false|             2.0|                  2.0|                  0.0|                  0.0|                    1.0|                   1.0|                 1.0|                     0.0|                0.0|                0.0|                    0.0|             (2,[],[])|              (3,[2],[1.0])|              (1,[0],[1.0])|              (2,[0],[1.0])|                (2,[1],[1.0])|               (2,[1],[1.0])|             (2,[1],[1.0])|                 (2,[0],[1.0])|            (2,[0],[1.0])|            (2,[0],[1.0])|                (2,[0],[1.0])|(30,[0,1,2,3,4,6,...|\n",
            "|9763-GRSKD|    13|Month-to-month|        Mailed check|      49.95000|   587.45000|            0|              No|            DSL|                Yes|                 No|                 No|                 No|                 No|                 No|              true|        true|         true|           true|                  true|      false|             0.0|                  1.0|                  0.0|                  0.0|                    1.0|                   1.0|                 0.0|                     0.0|                0.0|                0.0|                    0.0|         (2,[0],[1.0])|              (3,[1],[1.0])|              (1,[0],[1.0])|              (2,[0],[1.0])|                (2,[1],[1.0])|               (2,[1],[1.0])|             (2,[0],[1.0])|                 (2,[0],[1.0])|            (2,[0],[1.0])|            (2,[0],[1.0])|                (2,[0],[1.0])|[13.0,49.95,587.4...|\n",
            "|7469-LKBCI|    16|      Two year|Credit card (auto...|      18.95000|   326.80000|            0|              No|             No|No internet service|No internet service|No internet service|No internet service|No internet service|No internet service|              true|        true|        false|          false|                 false|      false|             1.0|                  3.0|                  0.0|                  0.0|                    2.0|                   2.0|                 2.0|                     2.0|                2.0|                2.0|                    2.0|         (2,[1],[1.0])|                  (3,[],[])|              (1,[0],[1.0])|              (2,[0],[1.0])|                    (2,[],[])|                   (2,[],[])|                 (2,[],[])|                     (2,[],[])|                (2,[],[])|                (2,[],[])|                    (2,[],[])|(30,[0,1,2,3,4,9,...|\n",
            "|8091-TTVAX|    58|      One year|Credit card (auto...|     100.35000|  5681.10000|            0|             Yes|    Fiber optic|                 No|                 No|                Yes|                 No|                Yes|                Yes|              true|        true|         true|          false|                 false|      false|             2.0|                  3.0|                  0.0|                  1.0|                    0.0|                   0.0|                 0.0|                     1.0|                0.0|                1.0|                    1.0|             (2,[],[])|                  (3,[],[])|              (1,[0],[1.0])|              (2,[1],[1.0])|                (2,[0],[1.0])|               (2,[0],[1.0])|             (2,[0],[1.0])|                 (2,[1],[1.0])|            (2,[0],[1.0])|            (2,[1],[1.0])|                (2,[1],[1.0])|(30,[0,1,2,3,4,5,...|\n",
            "|0280-XJGEX|    49|Month-to-month|Bank transfer (au...|     103.70000|  5036.30000|            0|             Yes|    Fiber optic|                 No|                Yes|                Yes|                 No|                Yes|                Yes|              true|        true|        false|          false|                  true|       true|             0.0|                  2.0|                  0.0|                  1.0|                    0.0|                   0.0|                 1.0|                     1.0|                0.0|                1.0|                    1.0|         (2,[0],[1.0])|              (3,[2],[1.0])|              (1,[0],[1.0])|              (2,[1],[1.0])|                (2,[0],[1.0])|               (2,[0],[1.0])|             (2,[1],[1.0])|                 (2,[1],[1.0])|            (2,[0],[1.0])|            (2,[1],[1.0])|                (2,[1],[1.0])|(30,[0,1,2,3,4,7,...|\n",
            "|5129-JLPIS|    25|Month-to-month|    Electronic check|     105.50000|  2686.05000|            0|              No|    Fiber optic|                Yes|                 No|                Yes|                Yes|                Yes|                Yes|              true|        true|        false|          false|                  true|      false|             0.0|                  0.0|                  0.0|                  0.0|                    0.0|                   1.0|                 0.0|                     1.0|                1.0|                1.0|                    1.0|         (2,[0],[1.0])|              (3,[0],[1.0])|              (1,[0],[1.0])|              (2,[0],[1.0])|                (2,[0],[1.0])|               (2,[1],[1.0])|             (2,[0],[1.0])|                 (2,[1],[1.0])|            (2,[1],[1.0])|            (2,[1],[1.0])|                (2,[1],[1.0])|(30,[0,1,2,3,4,7,...|\n",
            "|3655-SNQYZ|    69|      Two year|Credit card (auto...|     113.25000|  7895.15000|            0|             Yes|    Fiber optic|                Yes|                Yes|                Yes|                Yes|                Yes|                Yes|              true|       false|         true|           true|                 false|      false|             1.0|                  3.0|                  0.0|                  1.0|                    0.0|                   1.0|                 1.0|                     1.0|                1.0|                1.0|                    1.0|         (2,[1],[1.0])|                  (3,[],[])|              (1,[0],[1.0])|              (2,[1],[1.0])|                (2,[0],[1.0])|               (2,[1],[1.0])|             (2,[1],[1.0])|                 (2,[1],[1.0])|            (2,[1],[1.0])|            (2,[1],[1.0])|                (2,[1],[1.0])|(30,[0,1,2,3,5,6,...|\n",
            "|8191-XWSZG|    52|      One year|        Mailed check|      20.65000|  1022.95000|            0|              No|             No|No internet service|No internet service|No internet service|No internet service|No internet service|No internet service|              true|       false|        false|          false|                 false|      false|             2.0|                  1.0|                  0.0|                  0.0|                    2.0|                   2.0|                 2.0|                     2.0|                2.0|                2.0|                    2.0|             (2,[],[])|              (3,[1],[1.0])|              (1,[0],[1.0])|              (2,[0],[1.0])|                    (2,[],[])|                   (2,[],[])|                 (2,[],[])|                     (2,[],[])|                (2,[],[])|                (2,[],[])|                    (2,[],[])|(30,[0,1,2,3,11,1...|\n",
            "|9959-WOFKT|    71|      Two year|Bank transfer (au...|     106.70000|  7382.25000|            0|             Yes|    Fiber optic|                Yes|                 No|                Yes|                 No|                Yes|                Yes|              true|        true|        false|           true|                 false|      false|             1.0|                  2.0|                  0.0|                  1.0|                    0.0|                   1.0|                 0.0|                     1.0|                0.0|                1.0|                    1.0|         (2,[1],[1.0])|              (3,[2],[1.0])|              (1,[0],[1.0])|              (2,[1],[1.0])|                (2,[0],[1.0])|               (2,[1],[1.0])|             (2,[0],[1.0])|                 (2,[1],[1.0])|            (2,[0],[1.0])|            (2,[1],[1.0])|                (2,[1],[1.0])|(30,[0,1,2,3,4,6,...|\n",
            "|4190-MFLUW|    10|Month-to-month|Credit card (auto...|      55.20000|   528.35000|            0|              No|            DSL|                 No|                 No|                Yes|                Yes|                 No|                 No|              true|       false|         true|           true|                 false|       true|             0.0|                  3.0|                  0.0|                  0.0|                    1.0|                   0.0|                 0.0|                     1.0|                1.0|                0.0|                    0.0|         (2,[0],[1.0])|                  (3,[],[])|              (1,[0],[1.0])|              (2,[0],[1.0])|                (2,[1],[1.0])|               (2,[0],[1.0])|             (2,[0],[1.0])|                 (2,[1],[1.0])|            (2,[1],[1.0])|            (2,[0],[1.0])|                (2,[0],[1.0])|(30,[0,1,2,3,5,6,...|\n",
            "|4183-MYFRB|    21|Month-to-month|    Electronic check|      90.05000|  1862.90000|            0|              No|    Fiber optic|                 No|                Yes|                Yes|                 No|                 No|                Yes|              true|       false|        false|          false|                  true|      false|             0.0|                  0.0|                  0.0|                  0.0|                    0.0|                   0.0|                 1.0|                     1.0|                0.0|                0.0|                    1.0|         (2,[0],[1.0])|              (3,[0],[1.0])|              (1,[0],[1.0])|              (2,[0],[1.0])|                (2,[0],[1.0])|               (2,[0],[1.0])|             (2,[1],[1.0])|                 (2,[1],[1.0])|            (2,[0],[1.0])|            (2,[0],[1.0])|                (2,[1],[1.0])|(30,[0,1,2,3,7,8,...|\n",
            "+----------+------+--------------+--------------------+--------------+------------+-------------+----------------+---------------+-------------------+-------------------+-------------------+-------------------+-------------------+-------------------+------------------+------------+-------------+---------------+----------------------+-----------+----------------+---------------------+---------------------+---------------------+-----------------------+----------------------+--------------------+------------------------+-------------------+-------------------+-----------------------+----------------------+---------------------------+---------------------------+---------------------------+-----------------------------+----------------------------+--------------------------+------------------------------+-------------------------+-------------------------+-----------------------------+--------------------+\n",
            "only showing top 20 rows\n",
            "\n"
          ]
        }
      ]
    },
    {
      "cell_type": "code",
      "source": [
        "telecom_new.columns"
      ],
      "metadata": {
        "colab": {
          "base_uri": "https://localhost:8080/"
        },
        "id": "I1hmuJrlOvwA",
        "outputId": "4898a8db-6873-4a88-8327-9c2bf7d2ad9b"
      },
      "execution_count": 320,
      "outputs": [
        {
          "output_type": "execute_result",
          "data": {
            "text/plain": [
              "['customerID',\n",
              " 'tenure',\n",
              " 'Contract',\n",
              " 'PaymentMethod',\n",
              " 'MonthlyCharges',\n",
              " 'TotalCharges',\n",
              " 'SeniorCitizen',\n",
              " 'MultipleLines',\n",
              " 'InternetService',\n",
              " 'OnlineSecurity',\n",
              " 'OnlineBackup',\n",
              " 'DeviceProtection',\n",
              " 'TechSupport',\n",
              " 'StreamingTV',\n",
              " 'StreamingMovies',\n",
              " 'phoneService_alias',\n",
              " 'gender_alias',\n",
              " 'partner_alias',\n",
              " 'dependent_alias',\n",
              " 'paperlessBilling_alias',\n",
              " 'churn_alias',\n",
              " 'Contract_indexed',\n",
              " 'PaymentMethod_indexed',\n",
              " 'SeniorCitizen_indexed',\n",
              " 'MultipleLines_indexed',\n",
              " 'InternetService_indexed',\n",
              " 'OnlineSecurity_indexed',\n",
              " 'OnlineBackup_indexed',\n",
              " 'DeviceProtection_indexed',\n",
              " 'TechSupport_indexed',\n",
              " 'StreamingTV_indexed',\n",
              " 'StreamingMovies_indexed',\n",
              " 'Contract_indexedvector',\n",
              " 'PaymentMethod_indexedvector',\n",
              " 'SeniorCitizen_indexedvector',\n",
              " 'MultipleLines_indexedvector',\n",
              " 'InternetService_indexedvector',\n",
              " 'OnlineSecurity_indexedvector',\n",
              " 'OnlineBackup_indexedvector',\n",
              " 'DeviceProtection_indexedvector',\n",
              " 'TechSupport_indexedvector',\n",
              " 'StreamingTV_indexedvector',\n",
              " 'StreamingMovies_indexedvector',\n",
              " 'features']"
            ]
          },
          "metadata": {},
          "execution_count": 320
        }
      ]
    },
    {
      "cell_type": "code",
      "source": [
        "telechurn = telecom_new"
      ],
      "metadata": {
        "id": "a5BemUBJP8Um"
      },
      "execution_count": 321,
      "outputs": []
    },
    {
      "cell_type": "code",
      "source": [
        "telechurn = telechurn.drop('customerID',\n",
        " 'tenure',\n",
        " 'Contract',\n",
        " 'PaymentMethod',\n",
        " 'MonthlyCharges',\n",
        " 'TotalCharges',\n",
        " 'SeniorCitizen',\n",
        " 'MultipleLines',\n",
        " 'InternetService',\n",
        " 'OnlineSecurity',\n",
        " 'OnlineBackup',\n",
        " 'DeviceProtection',\n",
        " 'TechSupport',\n",
        " 'StreamingTV',\n",
        " 'StreamingMovies',\n",
        " 'phoneService_alias',\n",
        " 'gender_alias',\n",
        " 'partner_alias',\n",
        " 'dependent_alias',\n",
        " 'paperlessBilling_alias',\n",
        " 'Contract_indexed',\n",
        " 'PaymentMethod_indexed',\n",
        " 'SeniorCitizen_indexed',\n",
        " 'MultipleLines_indexed',\n",
        " 'InternetService_indexed',\n",
        " 'OnlineSecurity_indexed',\n",
        " 'OnlineBackup_indexed',\n",
        " 'DeviceProtection_indexed',\n",
        " 'TechSupport_indexed',\n",
        " 'StreamingTV_indexed',\n",
        " 'StreamingMovies_indexed',\n",
        " 'Contract_indexedvector',\n",
        " 'PaymentMethod_indexedvector',\n",
        " 'SeniorCitizen_indexedvector',\n",
        " 'MultipleLines_indexedvector',\n",
        " 'InternetService_indexedvector',\n",
        " 'OnlineSecurity_indexedvector',\n",
        " 'OnlineBackup_indexedvector',\n",
        " 'DeviceProtection_indexedvector',\n",
        " 'TechSupport_indexedvector',\n",
        " 'StreamingTV_indexedvector',\n",
        " 'StreamingMovies_indexedvector')"
      ],
      "metadata": {
        "id": "YkUGn9YkP8ZO"
      },
      "execution_count": 322,
      "outputs": []
    },
    {
      "cell_type": "code",
      "source": [
        "telechurn.show()"
      ],
      "metadata": {
        "colab": {
          "base_uri": "https://localhost:8080/"
        },
        "id": "TnA_5gXqQ807",
        "outputId": "2e0732d5-a94e-4077-b642-9fed890eadd3"
      },
      "execution_count": 323,
      "outputs": [
        {
          "output_type": "stream",
          "name": "stdout",
          "text": [
            "+-----------+--------------------+\n",
            "|churn_alias|            features|\n",
            "+-----------+--------------------+\n",
            "|      false|(30,[0,1,2,5,7,8,...|\n",
            "|      false|(30,[0,1,2,3,4,11...|\n",
            "|       true|(30,[0,1,2,3,4,7,...|\n",
            "|      false|(30,[0,1,2,4,12,1...|\n",
            "|       true|(30,[0,1,2,3,7,8,...|\n",
            "|       true|(30,[0,1,2,3,7,8,...|\n",
            "|      false|(30,[0,1,2,3,4,6,...|\n",
            "|      false|(30,[0,1,2,8,11,1...|\n",
            "|       true|(30,[0,1,2,3,5,7,...|\n",
            "|      false|(30,[0,1,2,3,4,6,...|\n",
            "|      false|[13.0,49.95,587.4...|\n",
            "|      false|(30,[0,1,2,3,4,9,...|\n",
            "|      false|(30,[0,1,2,3,4,5,...|\n",
            "|       true|(30,[0,1,2,3,4,7,...|\n",
            "|      false|(30,[0,1,2,3,4,7,...|\n",
            "|      false|(30,[0,1,2,3,5,6,...|\n",
            "|      false|(30,[0,1,2,3,11,1...|\n",
            "|      false|(30,[0,1,2,3,4,6,...|\n",
            "|       true|(30,[0,1,2,3,5,6,...|\n",
            "|      false|(30,[0,1,2,3,7,8,...|\n",
            "+-----------+--------------------+\n",
            "only showing top 20 rows\n",
            "\n"
          ]
        }
      ]
    }
  ]
}