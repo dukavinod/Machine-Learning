{
 "cells": [
  {
   "cell_type": "markdown",
   "id": "49d3242c-3c23-44dc-976d-0c2c4015d37c",
   "metadata": {},
   "source": [
    "## Problem Statement"
   ]
  },
  {
   "cell_type": "markdown",
   "id": "784ba392-0b9e-47f4-ae7d-3313d0167ff0",
   "metadata": {},
   "source": [
    "An education company named X Education sells online courses to industry professionals. After the marketing efforts through various channels like website and several search engines, the company receives the leads with lead details but the lead conversion rate is only around 30%. To improve the lead conversion the company wishes to identify Hot Leads and focus more on communicating with the potential leads rather than making efforts through calls or emails to everyone.\n",
    "\n",
    "To help them select the most promising leads, we are required to build a scientific approach or model to assign a score to each of the lead so that X Education can spend time and efforts on communicating with customers having higher chance of conversion.\n",
    "\n",
    "The CEO, in particular, has given a ballpark of the target lead conversion rate to be around 80%.\n",
    "\n"
   ]
  },
  {
   "cell_type": "markdown",
   "id": "2380777f-2022-4f4a-a52c-6742027ad1aa",
   "metadata": {},
   "source": [
    "## Table of Content\n",
    "\n",
    "* __Step 1: Importing the Relevant Libraries__\n",
    "    \n",
    "* __Step 2: Data Inspection__\n",
    "    \n",
    "* __Step 3: Data Cleaning__\n",
    "    \n",
    "* __Step 4: Exploratory Data Analysis__\n",
    "    \n",
    "* __Step 5: Building Model__\n",
    "    \n",
    "* __Step 6: Model Evaluation__\n",
    "* __Step 7: Lead Scoring__\n"
   ]
  },
  {
   "cell_type": "markdown",
   "id": "d211b12b-32a2-4052-a9c7-7f20b0765c3f",
   "metadata": {},
   "source": [
    "### Step 1: Importing the Relevant Libraries"
   ]
  },
  {
   "cell_type": "code",
   "execution_count": 1,
   "id": "18e003a5-ecd5-441b-99d5-b19e71d43c61",
   "metadata": {},
   "outputs": [],
   "source": [
    "import numpy as np\n",
    "import pandas as pd\n",
    "import matplotlib.pyplot as plt\n",
    "import seaborn as sns\n",
    "\n",
    "from sklearn.model_selection import train_test_split \n",
    "from sklearn import metrics\n",
    "\n",
    "import warnings\n",
    "warnings.filterwarnings('always')\n",
    "warnings.filterwarnings('ignore')"
   ]
  },
  {
   "cell_type": "markdown",
   "id": "da5bec4a-7df5-469c-8f28-dc602659a089",
   "metadata": {},
   "source": [
    "### Step 2: Data Inspection"
   ]
  },
  {
   "cell_type": "code",
   "execution_count": 2,
   "id": "2271d163-1a26-4f02-87f0-aa0185d9da1e",
   "metadata": {},
   "outputs": [],
   "source": [
    "leads = pd.read_csv('Leads.csv')"
   ]
  },
  {
   "cell_type": "code",
   "execution_count": 3,
   "id": "2d894630-7977-4b6e-92c0-026738aef3e1",
   "metadata": {},
   "outputs": [
    {
     "data": {
      "text/html": [
       "<div>\n",
       "<style scoped>\n",
       "    .dataframe tbody tr th:only-of-type {\n",
       "        vertical-align: middle;\n",
       "    }\n",
       "\n",
       "    .dataframe tbody tr th {\n",
       "        vertical-align: top;\n",
       "    }\n",
       "\n",
       "    .dataframe thead th {\n",
       "        text-align: right;\n",
       "    }\n",
       "</style>\n",
       "<table border=\"1\" class=\"dataframe\">\n",
       "  <thead>\n",
       "    <tr style=\"text-align: right;\">\n",
       "      <th></th>\n",
       "      <th>Prospect ID</th>\n",
       "      <th>Lead Number</th>\n",
       "      <th>Lead Origin</th>\n",
       "      <th>Lead Source</th>\n",
       "      <th>Do Not Email</th>\n",
       "      <th>Do Not Call</th>\n",
       "      <th>Converted</th>\n",
       "      <th>TotalVisits</th>\n",
       "      <th>Total Time Spent on Website</th>\n",
       "      <th>Page Views Per Visit</th>\n",
       "      <th>...</th>\n",
       "      <th>Get updates on DM Content</th>\n",
       "      <th>Lead Profile</th>\n",
       "      <th>City</th>\n",
       "      <th>Asymmetrique Activity Index</th>\n",
       "      <th>Asymmetrique Profile Index</th>\n",
       "      <th>Asymmetrique Activity Score</th>\n",
       "      <th>Asymmetrique Profile Score</th>\n",
       "      <th>I agree to pay the amount through cheque</th>\n",
       "      <th>A free copy of Mastering The Interview</th>\n",
       "      <th>Last Notable Activity</th>\n",
       "    </tr>\n",
       "  </thead>\n",
       "  <tbody>\n",
       "    <tr>\n",
       "      <th>0</th>\n",
       "      <td>7927b2df-8bba-4d29-b9a2-b6e0beafe620</td>\n",
       "      <td>660737</td>\n",
       "      <td>API</td>\n",
       "      <td>Olark Chat</td>\n",
       "      <td>No</td>\n",
       "      <td>No</td>\n",
       "      <td>0</td>\n",
       "      <td>0.0</td>\n",
       "      <td>0</td>\n",
       "      <td>0.0</td>\n",
       "      <td>...</td>\n",
       "      <td>No</td>\n",
       "      <td>Select</td>\n",
       "      <td>Select</td>\n",
       "      <td>02.Medium</td>\n",
       "      <td>02.Medium</td>\n",
       "      <td>15.0</td>\n",
       "      <td>15.0</td>\n",
       "      <td>No</td>\n",
       "      <td>No</td>\n",
       "      <td>Modified</td>\n",
       "    </tr>\n",
       "    <tr>\n",
       "      <th>1</th>\n",
       "      <td>2a272436-5132-4136-86fa-dcc88c88f482</td>\n",
       "      <td>660728</td>\n",
       "      <td>API</td>\n",
       "      <td>Organic Search</td>\n",
       "      <td>No</td>\n",
       "      <td>No</td>\n",
       "      <td>0</td>\n",
       "      <td>5.0</td>\n",
       "      <td>674</td>\n",
       "      <td>2.5</td>\n",
       "      <td>...</td>\n",
       "      <td>No</td>\n",
       "      <td>Select</td>\n",
       "      <td>Select</td>\n",
       "      <td>02.Medium</td>\n",
       "      <td>02.Medium</td>\n",
       "      <td>15.0</td>\n",
       "      <td>15.0</td>\n",
       "      <td>No</td>\n",
       "      <td>No</td>\n",
       "      <td>Email Opened</td>\n",
       "    </tr>\n",
       "    <tr>\n",
       "      <th>2</th>\n",
       "      <td>8cc8c611-a219-4f35-ad23-fdfd2656bd8a</td>\n",
       "      <td>660727</td>\n",
       "      <td>Landing Page Submission</td>\n",
       "      <td>Direct Traffic</td>\n",
       "      <td>No</td>\n",
       "      <td>No</td>\n",
       "      <td>1</td>\n",
       "      <td>2.0</td>\n",
       "      <td>1532</td>\n",
       "      <td>2.0</td>\n",
       "      <td>...</td>\n",
       "      <td>No</td>\n",
       "      <td>Potential Lead</td>\n",
       "      <td>Mumbai</td>\n",
       "      <td>02.Medium</td>\n",
       "      <td>01.High</td>\n",
       "      <td>14.0</td>\n",
       "      <td>20.0</td>\n",
       "      <td>No</td>\n",
       "      <td>Yes</td>\n",
       "      <td>Email Opened</td>\n",
       "    </tr>\n",
       "  </tbody>\n",
       "</table>\n",
       "<p>3 rows × 37 columns</p>\n",
       "</div>"
      ],
      "text/plain": [
       "                            Prospect ID  Lead Number              Lead Origin  \\\n",
       "0  7927b2df-8bba-4d29-b9a2-b6e0beafe620       660737                      API   \n",
       "1  2a272436-5132-4136-86fa-dcc88c88f482       660728                      API   \n",
       "2  8cc8c611-a219-4f35-ad23-fdfd2656bd8a       660727  Landing Page Submission   \n",
       "\n",
       "      Lead Source Do Not Email Do Not Call  Converted  TotalVisits  \\\n",
       "0      Olark Chat           No          No          0          0.0   \n",
       "1  Organic Search           No          No          0          5.0   \n",
       "2  Direct Traffic           No          No          1          2.0   \n",
       "\n",
       "   Total Time Spent on Website  Page Views Per Visit  ...  \\\n",
       "0                            0                   0.0  ...   \n",
       "1                          674                   2.5  ...   \n",
       "2                         1532                   2.0  ...   \n",
       "\n",
       "  Get updates on DM Content    Lead Profile    City  \\\n",
       "0                        No          Select  Select   \n",
       "1                        No          Select  Select   \n",
       "2                        No  Potential Lead  Mumbai   \n",
       "\n",
       "  Asymmetrique Activity Index Asymmetrique Profile Index  \\\n",
       "0                   02.Medium                  02.Medium   \n",
       "1                   02.Medium                  02.Medium   \n",
       "2                   02.Medium                    01.High   \n",
       "\n",
       "  Asymmetrique Activity Score Asymmetrique Profile Score  \\\n",
       "0                        15.0                       15.0   \n",
       "1                        15.0                       15.0   \n",
       "2                        14.0                       20.0   \n",
       "\n",
       "  I agree to pay the amount through cheque  \\\n",
       "0                                       No   \n",
       "1                                       No   \n",
       "2                                       No   \n",
       "\n",
       "  A free copy of Mastering The Interview Last Notable Activity  \n",
       "0                                     No              Modified  \n",
       "1                                     No          Email Opened  \n",
       "2                                    Yes          Email Opened  \n",
       "\n",
       "[3 rows x 37 columns]"
      ]
     },
     "execution_count": 3,
     "metadata": {},
     "output_type": "execute_result"
    }
   ],
   "source": [
    "leads.head(3)"
   ]
  },
  {
   "cell_type": "code",
   "execution_count": 4,
   "id": "888bc6af-dca1-4c65-9f87-9f8635d3f3d7",
   "metadata": {},
   "outputs": [
    {
     "data": {
      "text/plain": [
       "(9240, 37)"
      ]
     },
     "execution_count": 4,
     "metadata": {},
     "output_type": "execute_result"
    }
   ],
   "source": [
    "leads.shape"
   ]
  },
  {
   "cell_type": "code",
   "execution_count": 5,
   "id": "40339691-1fec-4bc4-a711-3407992db357",
   "metadata": {},
   "outputs": [
    {
     "data": {
      "text/plain": [
       "9240"
      ]
     },
     "execution_count": 5,
     "metadata": {},
     "output_type": "execute_result"
    }
   ],
   "source": [
    "#duplicate rows check\n",
    "(leads['Prospect ID'].value_counts()==1).sum()"
   ]
  },
  {
   "cell_type": "code",
   "execution_count": 6,
   "id": "397e2a14-8d41-40b0-ba16-8db14e57179b",
   "metadata": {},
   "outputs": [
    {
     "name": "stdout",
     "output_type": "stream",
     "text": [
      "<class 'pandas.core.frame.DataFrame'>\n",
      "RangeIndex: 9240 entries, 0 to 9239\n",
      "Data columns (total 37 columns):\n",
      " #   Column                                         Non-Null Count  Dtype  \n",
      "---  ------                                         --------------  -----  \n",
      " 0   Prospect ID                                    9240 non-null   object \n",
      " 1   Lead Number                                    9240 non-null   int64  \n",
      " 2   Lead Origin                                    9240 non-null   object \n",
      " 3   Lead Source                                    9204 non-null   object \n",
      " 4   Do Not Email                                   9240 non-null   object \n",
      " 5   Do Not Call                                    9240 non-null   object \n",
      " 6   Converted                                      9240 non-null   int64  \n",
      " 7   TotalVisits                                    9103 non-null   float64\n",
      " 8   Total Time Spent on Website                    9240 non-null   int64  \n",
      " 9   Page Views Per Visit                           9103 non-null   float64\n",
      " 10  Last Activity                                  9137 non-null   object \n",
      " 11  Country                                        6779 non-null   object \n",
      " 12  Specialization                                 7802 non-null   object \n",
      " 13  How did you hear about X Education             7033 non-null   object \n",
      " 14  What is your current occupation                6550 non-null   object \n",
      " 15  What matters most to you in choosing a course  6531 non-null   object \n",
      " 16  Search                                         9240 non-null   object \n",
      " 17  Magazine                                       9240 non-null   object \n",
      " 18  Newspaper Article                              9240 non-null   object \n",
      " 19  X Education Forums                             9240 non-null   object \n",
      " 20  Newspaper                                      9240 non-null   object \n",
      " 21  Digital Advertisement                          9240 non-null   object \n",
      " 22  Through Recommendations                        9240 non-null   object \n",
      " 23  Receive More Updates About Our Courses         9240 non-null   object \n",
      " 24  Tags                                           5887 non-null   object \n",
      " 25  Lead Quality                                   4473 non-null   object \n",
      " 26  Update me on Supply Chain Content              9240 non-null   object \n",
      " 27  Get updates on DM Content                      9240 non-null   object \n",
      " 28  Lead Profile                                   6531 non-null   object \n",
      " 29  City                                           7820 non-null   object \n",
      " 30  Asymmetrique Activity Index                    5022 non-null   object \n",
      " 31  Asymmetrique Profile Index                     5022 non-null   object \n",
      " 32  Asymmetrique Activity Score                    5022 non-null   float64\n",
      " 33  Asymmetrique Profile Score                     5022 non-null   float64\n",
      " 34  I agree to pay the amount through cheque       9240 non-null   object \n",
      " 35  A free copy of Mastering The Interview         9240 non-null   object \n",
      " 36  Last Notable Activity                          9240 non-null   object \n",
      "dtypes: float64(4), int64(3), object(30)\n",
      "memory usage: 2.6+ MB\n"
     ]
    }
   ],
   "source": [
    "leads.info()"
   ]
  },
  {
   "cell_type": "code",
   "execution_count": 7,
   "id": "7e782aca-9bcf-457e-9d7e-81a24a7e47cd",
   "metadata": {},
   "outputs": [
    {
     "data": {
      "text/html": [
       "<div>\n",
       "<style scoped>\n",
       "    .dataframe tbody tr th:only-of-type {\n",
       "        vertical-align: middle;\n",
       "    }\n",
       "\n",
       "    .dataframe tbody tr th {\n",
       "        vertical-align: top;\n",
       "    }\n",
       "\n",
       "    .dataframe thead th {\n",
       "        text-align: right;\n",
       "    }\n",
       "</style>\n",
       "<table border=\"1\" class=\"dataframe\">\n",
       "  <thead>\n",
       "    <tr style=\"text-align: right;\">\n",
       "      <th></th>\n",
       "      <th>Lead Number</th>\n",
       "      <th>Converted</th>\n",
       "      <th>TotalVisits</th>\n",
       "      <th>Total Time Spent on Website</th>\n",
       "      <th>Page Views Per Visit</th>\n",
       "      <th>Asymmetrique Activity Score</th>\n",
       "      <th>Asymmetrique Profile Score</th>\n",
       "    </tr>\n",
       "  </thead>\n",
       "  <tbody>\n",
       "    <tr>\n",
       "      <th>count</th>\n",
       "      <td>9240.000000</td>\n",
       "      <td>9240.000000</td>\n",
       "      <td>9103.000000</td>\n",
       "      <td>9240.000000</td>\n",
       "      <td>9103.000000</td>\n",
       "      <td>5022.000000</td>\n",
       "      <td>5022.000000</td>\n",
       "    </tr>\n",
       "    <tr>\n",
       "      <th>mean</th>\n",
       "      <td>617188.435606</td>\n",
       "      <td>0.385390</td>\n",
       "      <td>3.445238</td>\n",
       "      <td>487.698268</td>\n",
       "      <td>2.362820</td>\n",
       "      <td>14.306252</td>\n",
       "      <td>16.344883</td>\n",
       "    </tr>\n",
       "    <tr>\n",
       "      <th>std</th>\n",
       "      <td>23405.995698</td>\n",
       "      <td>0.486714</td>\n",
       "      <td>4.854853</td>\n",
       "      <td>548.021466</td>\n",
       "      <td>2.161418</td>\n",
       "      <td>1.386694</td>\n",
       "      <td>1.811395</td>\n",
       "    </tr>\n",
       "    <tr>\n",
       "      <th>min</th>\n",
       "      <td>579533.000000</td>\n",
       "      <td>0.000000</td>\n",
       "      <td>0.000000</td>\n",
       "      <td>0.000000</td>\n",
       "      <td>0.000000</td>\n",
       "      <td>7.000000</td>\n",
       "      <td>11.000000</td>\n",
       "    </tr>\n",
       "    <tr>\n",
       "      <th>25%</th>\n",
       "      <td>596484.500000</td>\n",
       "      <td>0.000000</td>\n",
       "      <td>1.000000</td>\n",
       "      <td>12.000000</td>\n",
       "      <td>1.000000</td>\n",
       "      <td>14.000000</td>\n",
       "      <td>15.000000</td>\n",
       "    </tr>\n",
       "    <tr>\n",
       "      <th>50%</th>\n",
       "      <td>615479.000000</td>\n",
       "      <td>0.000000</td>\n",
       "      <td>3.000000</td>\n",
       "      <td>248.000000</td>\n",
       "      <td>2.000000</td>\n",
       "      <td>14.000000</td>\n",
       "      <td>16.000000</td>\n",
       "    </tr>\n",
       "    <tr>\n",
       "      <th>75%</th>\n",
       "      <td>637387.250000</td>\n",
       "      <td>1.000000</td>\n",
       "      <td>5.000000</td>\n",
       "      <td>936.000000</td>\n",
       "      <td>3.000000</td>\n",
       "      <td>15.000000</td>\n",
       "      <td>18.000000</td>\n",
       "    </tr>\n",
       "    <tr>\n",
       "      <th>max</th>\n",
       "      <td>660737.000000</td>\n",
       "      <td>1.000000</td>\n",
       "      <td>251.000000</td>\n",
       "      <td>2272.000000</td>\n",
       "      <td>55.000000</td>\n",
       "      <td>18.000000</td>\n",
       "      <td>20.000000</td>\n",
       "    </tr>\n",
       "  </tbody>\n",
       "</table>\n",
       "</div>"
      ],
      "text/plain": [
       "         Lead Number    Converted  TotalVisits  Total Time Spent on Website  \\\n",
       "count    9240.000000  9240.000000  9103.000000                  9240.000000   \n",
       "mean   617188.435606     0.385390     3.445238                   487.698268   \n",
       "std     23405.995698     0.486714     4.854853                   548.021466   \n",
       "min    579533.000000     0.000000     0.000000                     0.000000   \n",
       "25%    596484.500000     0.000000     1.000000                    12.000000   \n",
       "50%    615479.000000     0.000000     3.000000                   248.000000   \n",
       "75%    637387.250000     1.000000     5.000000                   936.000000   \n",
       "max    660737.000000     1.000000   251.000000                  2272.000000   \n",
       "\n",
       "       Page Views Per Visit  Asymmetrique Activity Score  \\\n",
       "count           9103.000000                  5022.000000   \n",
       "mean               2.362820                    14.306252   \n",
       "std                2.161418                     1.386694   \n",
       "min                0.000000                     7.000000   \n",
       "25%                1.000000                    14.000000   \n",
       "50%                2.000000                    14.000000   \n",
       "75%                3.000000                    15.000000   \n",
       "max               55.000000                    18.000000   \n",
       "\n",
       "       Asymmetrique Profile Score  \n",
       "count                 5022.000000  \n",
       "mean                    16.344883  \n",
       "std                      1.811395  \n",
       "min                     11.000000  \n",
       "25%                     15.000000  \n",
       "50%                     16.000000  \n",
       "75%                     18.000000  \n",
       "max                     20.000000  "
      ]
     },
     "execution_count": 7,
     "metadata": {},
     "output_type": "execute_result"
    }
   ],
   "source": [
    "leads.describe()"
   ]
  },
  {
   "cell_type": "markdown",
   "id": "8fec41e7-2bb8-45ad-86a1-b7dd6b2e1abe",
   "metadata": {},
   "source": [
    "### Step 3: Data Cleaning"
   ]
  },
  {
   "cell_type": "markdown",
   "id": "34442d2d-3bfd-4082-9e4f-1062792bbd5c",
   "metadata": {},
   "source": [
    "Null value treatment and outlier treatment is done to improve the Data quality and predictive power of the model."
   ]
  },
  {
   "cell_type": "code",
   "execution_count": 8,
   "id": "5b1e864b-a1b4-4449-98b0-3b30bcfa6430",
   "metadata": {},
   "outputs": [
    {
     "data": {
      "text/plain": [
       "Prospect ID                                       0.00\n",
       "Lead Number                                       0.00\n",
       "Lead Origin                                       0.00\n",
       "Lead Source                                       0.39\n",
       "Do Not Email                                      0.00\n",
       "Do Not Call                                       0.00\n",
       "Converted                                         0.00\n",
       "TotalVisits                                       1.48\n",
       "Total Time Spent on Website                       0.00\n",
       "Page Views Per Visit                              1.48\n",
       "Last Activity                                     1.11\n",
       "Country                                          26.63\n",
       "Specialization                                   15.56\n",
       "How did you hear about X Education               23.89\n",
       "What is your current occupation                  29.11\n",
       "What matters most to you in choosing a course    29.32\n",
       "Search                                            0.00\n",
       "Magazine                                          0.00\n",
       "Newspaper Article                                 0.00\n",
       "X Education Forums                                0.00\n",
       "Newspaper                                         0.00\n",
       "Digital Advertisement                             0.00\n",
       "Through Recommendations                           0.00\n",
       "Receive More Updates About Our Courses            0.00\n",
       "Tags                                             36.29\n",
       "Lead Quality                                     51.59\n",
       "Update me on Supply Chain Content                 0.00\n",
       "Get updates on DM Content                         0.00\n",
       "Lead Profile                                     29.32\n",
       "City                                             15.37\n",
       "Asymmetrique Activity Index                      45.65\n",
       "Asymmetrique Profile Index                       45.65\n",
       "Asymmetrique Activity Score                      45.65\n",
       "Asymmetrique Profile Score                       45.65\n",
       "I agree to pay the amount through cheque          0.00\n",
       "A free copy of Mastering The Interview            0.00\n",
       "Last Notable Activity                             0.00\n",
       "dtype: float64"
      ]
     },
     "execution_count": 8,
     "metadata": {},
     "output_type": "execute_result"
    }
   ],
   "source": [
    "null_percent = round((leads.isnull().sum()/leads.shape[0])*100,2)\n",
    "null_percent"
   ]
  },
  {
   "cell_type": "code",
   "execution_count": 9,
   "id": "7ca2c370-1741-4d37-b4de-87494774b4ff",
   "metadata": {},
   "outputs": [],
   "source": [
    "leads['Specialization'] = leads['Specialization'].apply(lambda x : np.NaN if x == 'Select' else x)\n",
    "leads['City'] = leads['City'].apply(lambda x : np.NaN if x == 'Select' else x)\n",
    "leads['Lead Profile'] = leads['Lead Profile'].apply(lambda x : np.NaN if x == 'Select' else x)\n",
    "leads['How did you hear about X Education'] = leads['How did you hear about X Education'].apply(lambda x : np.NaN if x == 'Select' else x)"
   ]
  },
  {
   "cell_type": "code",
   "execution_count": 10,
   "id": "f256d5aa-746a-4b45-b982-5b70165f2bde",
   "metadata": {},
   "outputs": [
    {
     "data": {
      "text/plain": [
       "Prospect ID                                       0.00\n",
       "Lead Number                                       0.00\n",
       "Lead Origin                                       0.00\n",
       "Lead Source                                       0.39\n",
       "Do Not Email                                      0.00\n",
       "Do Not Call                                       0.00\n",
       "Converted                                         0.00\n",
       "TotalVisits                                       1.48\n",
       "Total Time Spent on Website                       0.00\n",
       "Page Views Per Visit                              1.48\n",
       "Last Activity                                     1.11\n",
       "Country                                          26.63\n",
       "Specialization                                   36.58\n",
       "How did you hear about X Education               78.46\n",
       "What is your current occupation                  29.11\n",
       "What matters most to you in choosing a course    29.32\n",
       "Search                                            0.00\n",
       "Magazine                                          0.00\n",
       "Newspaper Article                                 0.00\n",
       "X Education Forums                                0.00\n",
       "Newspaper                                         0.00\n",
       "Digital Advertisement                             0.00\n",
       "Through Recommendations                           0.00\n",
       "Receive More Updates About Our Courses            0.00\n",
       "Tags                                             36.29\n",
       "Lead Quality                                     51.59\n",
       "Update me on Supply Chain Content                 0.00\n",
       "Get updates on DM Content                         0.00\n",
       "Lead Profile                                     74.19\n",
       "City                                             39.71\n",
       "Asymmetrique Activity Index                      45.65\n",
       "Asymmetrique Profile Index                       45.65\n",
       "Asymmetrique Activity Score                      45.65\n",
       "Asymmetrique Profile Score                       45.65\n",
       "I agree to pay the amount through cheque          0.00\n",
       "A free copy of Mastering The Interview            0.00\n",
       "Last Notable Activity                             0.00\n",
       "dtype: float64"
      ]
     },
     "execution_count": 10,
     "metadata": {},
     "output_type": "execute_result"
    }
   ],
   "source": [
    "null_percent = round((leads.isnull().sum()/leads.shape[0])*100,2)\n",
    "null_percent"
   ]
  },
  {
   "cell_type": "code",
   "execution_count": 11,
   "id": "148c8b87-55a5-4d01-8f5b-549e21aa4464",
   "metadata": {},
   "outputs": [
    {
     "data": {
      "text/plain": [
       "['How did you hear about X Education',\n",
       " 'Lead Quality',\n",
       " 'Lead Profile',\n",
       " 'Asymmetrique Activity Index',\n",
       " 'Asymmetrique Profile Index',\n",
       " 'Asymmetrique Activity Score',\n",
       " 'Asymmetrique Profile Score']"
      ]
     },
     "execution_count": 11,
     "metadata": {},
     "output_type": "execute_result"
    }
   ],
   "source": [
    "drop_col = list(null_percent[null_percent.values>45].index)\n",
    "drop_col"
   ]
  },
  {
   "cell_type": "code",
   "execution_count": 12,
   "id": "421810a8-c30d-4477-b22e-b1d19e662571",
   "metadata": {},
   "outputs": [],
   "source": [
    "leads.drop(drop_col,axis = 1,inplace = True)"
   ]
  },
  {
   "cell_type": "code",
   "execution_count": 13,
   "id": "76d6839d-1f5c-4389-9065-65eaedd514d1",
   "metadata": {},
   "outputs": [
    {
     "data": {
      "text/plain": [
       "Prospect ID                                       0.00\n",
       "Lead Number                                       0.00\n",
       "Lead Origin                                       0.00\n",
       "Lead Source                                       0.39\n",
       "Do Not Email                                      0.00\n",
       "Do Not Call                                       0.00\n",
       "Converted                                         0.00\n",
       "TotalVisits                                       1.48\n",
       "Total Time Spent on Website                       0.00\n",
       "Page Views Per Visit                              1.48\n",
       "Last Activity                                     1.11\n",
       "Country                                          26.63\n",
       "Specialization                                   36.58\n",
       "What is your current occupation                  29.11\n",
       "What matters most to you in choosing a course    29.32\n",
       "Search                                            0.00\n",
       "Magazine                                          0.00\n",
       "Newspaper Article                                 0.00\n",
       "X Education Forums                                0.00\n",
       "Newspaper                                         0.00\n",
       "Digital Advertisement                             0.00\n",
       "Through Recommendations                           0.00\n",
       "Receive More Updates About Our Courses            0.00\n",
       "Tags                                             36.29\n",
       "Update me on Supply Chain Content                 0.00\n",
       "Get updates on DM Content                         0.00\n",
       "City                                             39.71\n",
       "I agree to pay the amount through cheque          0.00\n",
       "A free copy of Mastering The Interview            0.00\n",
       "Last Notable Activity                             0.00\n",
       "dtype: float64"
      ]
     },
     "execution_count": 13,
     "metadata": {},
     "output_type": "execute_result"
    }
   ],
   "source": [
    "null_percent = round((leads.isnull().sum()/leads.shape[0])*100,2)\n",
    "null_percent"
   ]
  },
  {
   "cell_type": "code",
   "execution_count": 14,
   "id": "ffc395d1-1708-4b1d-b41c-a0f8c7bd8b7a",
   "metadata": {},
   "outputs": [
    {
     "data": {
      "text/plain": [
       "['Lead Source',\n",
       " 'TotalVisits',\n",
       " 'Page Views Per Visit',\n",
       " 'Last Activity',\n",
       " 'Country',\n",
       " 'Specialization',\n",
       " 'What is your current occupation',\n",
       " 'What matters most to you in choosing a course',\n",
       " 'Tags',\n",
       " 'City']"
      ]
     },
     "execution_count": 14,
     "metadata": {},
     "output_type": "execute_result"
    }
   ],
   "source": [
    "rem_col = list(null_percent[null_percent.values>0].index)\n",
    "rem_col"
   ]
  },
  {
   "cell_type": "code",
   "execution_count": 15,
   "id": "662121e6-dbd1-49d4-acda-b8b63baea38a",
   "metadata": {},
   "outputs": [],
   "source": [
    "for x in rem_col:\n",
    "    leads[x] = leads[x].fillna(leads[x].mode()[0])\n",
    "    "
   ]
  },
  {
   "cell_type": "code",
   "execution_count": 16,
   "id": "eb3dc433-0182-4290-8917-597cd6781e4c",
   "metadata": {},
   "outputs": [
    {
     "data": {
      "text/plain": [
       "Prospect ID                                      0.0\n",
       "Lead Number                                      0.0\n",
       "Lead Origin                                      0.0\n",
       "Lead Source                                      0.0\n",
       "Do Not Email                                     0.0\n",
       "Do Not Call                                      0.0\n",
       "Converted                                        0.0\n",
       "TotalVisits                                      0.0\n",
       "Total Time Spent on Website                      0.0\n",
       "Page Views Per Visit                             0.0\n",
       "Last Activity                                    0.0\n",
       "Country                                          0.0\n",
       "Specialization                                   0.0\n",
       "What is your current occupation                  0.0\n",
       "What matters most to you in choosing a course    0.0\n",
       "Search                                           0.0\n",
       "Magazine                                         0.0\n",
       "Newspaper Article                                0.0\n",
       "X Education Forums                               0.0\n",
       "Newspaper                                        0.0\n",
       "Digital Advertisement                            0.0\n",
       "Through Recommendations                          0.0\n",
       "Receive More Updates About Our Courses           0.0\n",
       "Tags                                             0.0\n",
       "Update me on Supply Chain Content                0.0\n",
       "Get updates on DM Content                        0.0\n",
       "City                                             0.0\n",
       "I agree to pay the amount through cheque         0.0\n",
       "A free copy of Mastering The Interview           0.0\n",
       "Last Notable Activity                            0.0\n",
       "dtype: float64"
      ]
     },
     "execution_count": 16,
     "metadata": {},
     "output_type": "execute_result"
    }
   ],
   "source": [
    "null_percent = round((leads.isnull().sum()/leads.shape[0])*100,2)\n",
    "null_percent"
   ]
  },
  {
   "cell_type": "code",
   "execution_count": 17,
   "id": "e1c0ca76-1f13-4e8d-afbf-6943a07d3eac",
   "metadata": {},
   "outputs": [
    {
     "name": "stdout",
     "output_type": "stream",
     "text": [
      "Categorical Features of leads Set: 25\n",
      "Numerical Features of Leads Set: 5\n"
     ]
    }
   ],
   "source": [
    "categorical = leads.select_dtypes(include =[np.object])\n",
    "print(\"Categorical Features of leads Set:\",categorical.shape[1])\n",
    "#numerical features\n",
    "numerical = leads.select_dtypes(include = [np.int64,np.float64])\n",
    "print(\"Numerical Features of Leads Set:\",numerical.shape[1])"
   ]
  },
  {
   "cell_type": "markdown",
   "id": "aeb6e110-e2aa-4a0e-9060-7ce0b6abd4ae",
   "metadata": {},
   "source": [
    "__3.1 TotalVisits__"
   ]
  },
  {
   "cell_type": "code",
   "execution_count": 18,
   "id": "0d0560dc-26d0-4865-b8c3-868b12142fe2",
   "metadata": {},
   "outputs": [
    {
     "data": {
      "text/plain": [
       "<AxesSubplot:xlabel='TotalVisits'>"
      ]
     },
     "execution_count": 18,
     "metadata": {},
     "output_type": "execute_result"
    },
    {
     "data": {
      "image/png": "[encoded data removed]",
      "text/plain": [
       "<Figure size 576x360 with 1 Axes>"
      ]
     },
     "metadata": {
      "needs_background": "light"
     },
     "output_type": "display_data"
    }
   ],
   "source": [
    "plt.figure(figsize=(8,5))\n",
    "sns.boxplot('TotalVisits',data=leads)"
   ]
  },
  {
   "cell_type": "markdown",
   "id": "b83d255d-ad2b-4715-b9c5-2fe17b0f9788",
   "metadata": {},
   "source": [
    "__3.2 Total Time Spent on Website__"
   ]
  },
  {
   "cell_type": "code",
   "execution_count": 19,
   "id": "91996fd8-6290-4920-aad7-94ac0606ec59",
   "metadata": {},
   "outputs": [
    {
     "data": {
      "text/plain": [
       "<AxesSubplot:xlabel='Total Time Spent on Website'>"
      ]
     },
     "execution_count": 19,
     "metadata": {},
     "output_type": "execute_result"
    },
    {
     "data": {
      "image/png": "[encoded data removed]",
      "text/plain": [
       "<Figure size 576x360 with 1 Axes>"
      ]
     },
     "metadata": {
      "needs_background": "light"
     },
     "output_type": "display_data"
    }
   ],
   "source": [
    "plt.figure(figsize=(8,5))\n",
    "sns.boxplot('Total Time Spent on Website',data=leads)"
   ]
  },
  {
   "cell_type": "markdown",
   "id": "166edfb3-df2f-4b80-9305-913ff32f1dbc",
   "metadata": {},
   "source": [
    "__3.3 Page Views Per Visit__"
   ]
  },
  {
   "cell_type": "code",
   "execution_count": 20,
   "id": "cbe4ad32-b056-40f9-a0a6-b16f09d23dcb",
   "metadata": {},
   "outputs": [
    {
     "data": {
      "text/plain": [
       "<AxesSubplot:xlabel='Page Views Per Visit'>"
      ]
     },
     "execution_count": 20,
     "metadata": {},
     "output_type": "execute_result"
    },
    {
     "data": {
      "image/png": "[encoded data removed]",
      "text/plain": [
       "<Figure size 576x360 with 1 Axes>"
      ]
     },
     "metadata": {
      "needs_background": "light"
     },
     "output_type": "display_data"
    }
   ],
   "source": [
    "plt.figure(figsize=(8,5))\n",
    "sns.boxplot('Page Views Per Visit',data=leads)"
   ]
  },
  {
   "cell_type": "markdown",
   "id": "65539f2d-cad2-4956-a4cb-5f180b32ee68",
   "metadata": {},
   "source": [
    "__3.6 Outlier Check using quantiles__"
   ]
  },
  {
   "cell_type": "code",
   "execution_count": 21,
   "id": "2137737b-1e64-4bf7-aa7c-9658e9cdfaf6",
   "metadata": {},
   "outputs": [
    {
     "data": {
      "text/html": [
       "<div>\n",
       "<style scoped>\n",
       "    .dataframe tbody tr th:only-of-type {\n",
       "        vertical-align: middle;\n",
       "    }\n",
       "\n",
       "    .dataframe tbody tr th {\n",
       "        vertical-align: top;\n",
       "    }\n",
       "\n",
       "    .dataframe thead th {\n",
       "        text-align: right;\n",
       "    }\n",
       "</style>\n",
       "<table border=\"1\" class=\"dataframe\">\n",
       "  <thead>\n",
       "    <tr style=\"text-align: right;\">\n",
       "      <th></th>\n",
       "      <th>Lead Number</th>\n",
       "      <th>Converted</th>\n",
       "      <th>TotalVisits</th>\n",
       "      <th>Total Time Spent on Website</th>\n",
       "      <th>Page Views Per Visit</th>\n",
       "    </tr>\n",
       "  </thead>\n",
       "  <tbody>\n",
       "    <tr>\n",
       "      <th>0.10</th>\n",
       "      <td>586361.70</td>\n",
       "      <td>0.0</td>\n",
       "      <td>0.0</td>\n",
       "      <td>0.00</td>\n",
       "      <td>0.0</td>\n",
       "    </tr>\n",
       "    <tr>\n",
       "      <th>0.25</th>\n",
       "      <td>596484.50</td>\n",
       "      <td>0.0</td>\n",
       "      <td>0.0</td>\n",
       "      <td>12.00</td>\n",
       "      <td>0.0</td>\n",
       "    </tr>\n",
       "    <tr>\n",
       "      <th>0.50</th>\n",
       "      <td>615479.00</td>\n",
       "      <td>0.0</td>\n",
       "      <td>3.0</td>\n",
       "      <td>248.00</td>\n",
       "      <td>2.0</td>\n",
       "    </tr>\n",
       "    <tr>\n",
       "      <th>0.75</th>\n",
       "      <td>637387.25</td>\n",
       "      <td>1.0</td>\n",
       "      <td>5.0</td>\n",
       "      <td>936.00</td>\n",
       "      <td>3.0</td>\n",
       "    </tr>\n",
       "    <tr>\n",
       "      <th>0.80</th>\n",
       "      <td>641577.60</td>\n",
       "      <td>1.0</td>\n",
       "      <td>5.0</td>\n",
       "      <td>1087.20</td>\n",
       "      <td>4.0</td>\n",
       "    </tr>\n",
       "    <tr>\n",
       "      <th>0.90</th>\n",
       "      <td>650506.10</td>\n",
       "      <td>1.0</td>\n",
       "      <td>7.0</td>\n",
       "      <td>1380.00</td>\n",
       "      <td>5.0</td>\n",
       "    </tr>\n",
       "    <tr>\n",
       "      <th>0.99</th>\n",
       "      <td>659592.98</td>\n",
       "      <td>1.0</td>\n",
       "      <td>17.0</td>\n",
       "      <td>1840.61</td>\n",
       "      <td>9.0</td>\n",
       "    </tr>\n",
       "    <tr>\n",
       "      <th>1.00</th>\n",
       "      <td>660737.00</td>\n",
       "      <td>1.0</td>\n",
       "      <td>251.0</td>\n",
       "      <td>2272.00</td>\n",
       "      <td>55.0</td>\n",
       "    </tr>\n",
       "  </tbody>\n",
       "</table>\n",
       "</div>"
      ],
      "text/plain": [
       "      Lead Number  Converted  TotalVisits  Total Time Spent on Website  \\\n",
       "0.10    586361.70        0.0          0.0                         0.00   \n",
       "0.25    596484.50        0.0          0.0                        12.00   \n",
       "0.50    615479.00        0.0          3.0                       248.00   \n",
       "0.75    637387.25        1.0          5.0                       936.00   \n",
       "0.80    641577.60        1.0          5.0                      1087.20   \n",
       "0.90    650506.10        1.0          7.0                      1380.00   \n",
       "0.99    659592.98        1.0         17.0                      1840.61   \n",
       "1.00    660737.00        1.0        251.0                      2272.00   \n",
       "\n",
       "      Page Views Per Visit  \n",
       "0.10                   0.0  \n",
       "0.25                   0.0  \n",
       "0.50                   2.0  \n",
       "0.75                   3.0  \n",
       "0.80                   4.0  \n",
       "0.90                   5.0  \n",
       "0.99                   9.0  \n",
       "1.00                  55.0  "
      ]
     },
     "execution_count": 21,
     "metadata": {},
     "output_type": "execute_result"
    }
   ],
   "source": [
    "leads.quantile(q=[0.1,0.25,0.5,0.75,0.8,0.9,0.99,1],axis = 0)"
   ]
  },
  {
   "cell_type": "markdown",
   "id": "0dad2503-a2f7-442e-9c42-3af00fe2822b",
   "metadata": {},
   "source": [
    "__only two numerical columns Page Views Per Visit and TotalVisits have outliers and remaining numerical columns are increasing steadily__"
   ]
  },
  {
   "cell_type": "code",
   "execution_count": 22,
   "id": "62b755cf-eba8-4d65-a7d9-e71ad8e945fa",
   "metadata": {},
   "outputs": [
    {
     "data": {
      "text/plain": [
       "(83, 30)"
      ]
     },
     "execution_count": 22,
     "metadata": {},
     "output_type": "execute_result"
    }
   ],
   "source": [
    "leads[(leads['TotalVisits']>17)].shape"
   ]
  },
  {
   "cell_type": "code",
   "execution_count": 23,
   "id": "6e279ae0-9499-440f-8698-623ee374f2eb",
   "metadata": {},
   "outputs": [
    {
     "data": {
      "text/plain": [
       "(75, 30)"
      ]
     },
     "execution_count": 23,
     "metadata": {},
     "output_type": "execute_result"
    }
   ],
   "source": [
    "leads[(leads['Page Views Per Visit']>9)].shape"
   ]
  },
  {
   "cell_type": "markdown",
   "id": "af6b3fec-f5f1-4008-b60c-91393a0afe95",
   "metadata": {},
   "source": [
    "__since the outliers are beyond 0.99 quantile and are very few we can impute the outliers with median values in columns TotalVisits and Page Views Per Visit__"
   ]
  },
  {
   "cell_type": "code",
   "execution_count": 24,
   "id": "b50c5a0d-82fc-492f-8f9a-8ba1be71654f",
   "metadata": {},
   "outputs": [
    {
     "data": {
      "text/plain": [
       "0.0"
      ]
     },
     "execution_count": 24,
     "metadata": {},
     "output_type": "execute_result"
    }
   ],
   "source": [
    "mode1 = leads['TotalVisits'].mode()[0]\n",
    "mode1"
   ]
  },
  {
   "cell_type": "code",
   "execution_count": 25,
   "id": "58682d15-0d0a-4405-9075-a98ccacbeeb3",
   "metadata": {},
   "outputs": [],
   "source": [
    "leads['TotalVisits'] = leads['TotalVisits'].apply(lambda x : mode1 if x > 10 else x)"
   ]
  },
  {
   "cell_type": "code",
   "execution_count": 26,
   "id": "496132c6-6b69-40b5-90dd-31ef7dfd38a1",
   "metadata": {},
   "outputs": [],
   "source": [
    "mode2 = leads['Page Views Per Visit'].mode()[0]"
   ]
  },
  {
   "cell_type": "code",
   "execution_count": 27,
   "id": "3128aea1-8740-46cb-bf99-77774264e13d",
   "metadata": {},
   "outputs": [
    {
     "data": {
      "text/plain": [
       "0.0"
      ]
     },
     "execution_count": 27,
     "metadata": {},
     "output_type": "execute_result"
    }
   ],
   "source": [
    "mode2"
   ]
  },
  {
   "cell_type": "code",
   "execution_count": 28,
   "id": "8f566794-56cf-419a-8f5f-7392e1f9a1e6",
   "metadata": {},
   "outputs": [],
   "source": [
    "leads['Page Views Per Visit'] = leads['Page Views Per Visit'].apply(lambda x : mode2 if x > 7.5 else x)"
   ]
  },
  {
   "cell_type": "markdown",
   "id": "48df7727-30a3-4a03-956e-7dbc36e926bf",
   "metadata": {},
   "source": [
    "__Outliers have been treated with mode values as the number of outliers are significantly less and we can see in quantiles__"
   ]
  },
  {
   "cell_type": "code",
   "execution_count": 29,
   "id": "211ef709-f0a3-415a-89cf-bce7c8c2f070",
   "metadata": {},
   "outputs": [
    {
     "data": {
      "text/html": [
       "<div>\n",
       "<style scoped>\n",
       "    .dataframe tbody tr th:only-of-type {\n",
       "        vertical-align: middle;\n",
       "    }\n",
       "\n",
       "    .dataframe tbody tr th {\n",
       "        vertical-align: top;\n",
       "    }\n",
       "\n",
       "    .dataframe thead th {\n",
       "        text-align: right;\n",
       "    }\n",
       "</style>\n",
       "<table border=\"1\" class=\"dataframe\">\n",
       "  <thead>\n",
       "    <tr style=\"text-align: right;\">\n",
       "      <th></th>\n",
       "      <th>Lead Number</th>\n",
       "      <th>Converted</th>\n",
       "      <th>TotalVisits</th>\n",
       "      <th>Total Time Spent on Website</th>\n",
       "      <th>Page Views Per Visit</th>\n",
       "    </tr>\n",
       "  </thead>\n",
       "  <tbody>\n",
       "    <tr>\n",
       "      <th>0.10</th>\n",
       "      <td>586361.70</td>\n",
       "      <td>0.0</td>\n",
       "      <td>0.0</td>\n",
       "      <td>0.00</td>\n",
       "      <td>0.0</td>\n",
       "    </tr>\n",
       "    <tr>\n",
       "      <th>0.25</th>\n",
       "      <td>596484.50</td>\n",
       "      <td>0.0</td>\n",
       "      <td>0.0</td>\n",
       "      <td>12.00</td>\n",
       "      <td>0.0</td>\n",
       "    </tr>\n",
       "    <tr>\n",
       "      <th>0.50</th>\n",
       "      <td>615479.00</td>\n",
       "      <td>0.0</td>\n",
       "      <td>2.0</td>\n",
       "      <td>248.00</td>\n",
       "      <td>2.0</td>\n",
       "    </tr>\n",
       "    <tr>\n",
       "      <th>0.75</th>\n",
       "      <td>637387.25</td>\n",
       "      <td>1.0</td>\n",
       "      <td>4.0</td>\n",
       "      <td>936.00</td>\n",
       "      <td>3.0</td>\n",
       "    </tr>\n",
       "    <tr>\n",
       "      <th>0.80</th>\n",
       "      <td>641577.60</td>\n",
       "      <td>1.0</td>\n",
       "      <td>5.0</td>\n",
       "      <td>1087.20</td>\n",
       "      <td>4.0</td>\n",
       "    </tr>\n",
       "    <tr>\n",
       "      <th>0.90</th>\n",
       "      <td>650506.10</td>\n",
       "      <td>1.0</td>\n",
       "      <td>6.0</td>\n",
       "      <td>1380.00</td>\n",
       "      <td>5.0</td>\n",
       "    </tr>\n",
       "    <tr>\n",
       "      <th>0.99</th>\n",
       "      <td>659592.98</td>\n",
       "      <td>1.0</td>\n",
       "      <td>10.0</td>\n",
       "      <td>1840.61</td>\n",
       "      <td>7.0</td>\n",
       "    </tr>\n",
       "    <tr>\n",
       "      <th>1.00</th>\n",
       "      <td>660737.00</td>\n",
       "      <td>1.0</td>\n",
       "      <td>10.0</td>\n",
       "      <td>2272.00</td>\n",
       "      <td>7.5</td>\n",
       "    </tr>\n",
       "  </tbody>\n",
       "</table>\n",
       "</div>"
      ],
      "text/plain": [
       "      Lead Number  Converted  TotalVisits  Total Time Spent on Website  \\\n",
       "0.10    586361.70        0.0          0.0                         0.00   \n",
       "0.25    596484.50        0.0          0.0                        12.00   \n",
       "0.50    615479.00        0.0          2.0                       248.00   \n",
       "0.75    637387.25        1.0          4.0                       936.00   \n",
       "0.80    641577.60        1.0          5.0                      1087.20   \n",
       "0.90    650506.10        1.0          6.0                      1380.00   \n",
       "0.99    659592.98        1.0         10.0                      1840.61   \n",
       "1.00    660737.00        1.0         10.0                      2272.00   \n",
       "\n",
       "      Page Views Per Visit  \n",
       "0.10                   0.0  \n",
       "0.25                   0.0  \n",
       "0.50                   2.0  \n",
       "0.75                   3.0  \n",
       "0.80                   4.0  \n",
       "0.90                   5.0  \n",
       "0.99                   7.0  \n",
       "1.00                   7.5  "
      ]
     },
     "execution_count": 29,
     "metadata": {},
     "output_type": "execute_result"
    }
   ],
   "source": [
    "leads.quantile(q=[0.1,0.25,0.5,0.75,0.8,0.9,0.99,1],axis = 0)"
   ]
  },
  {
   "cell_type": "markdown",
   "id": "29af9965-cacf-43b6-95d2-9cc8243e2aa2",
   "metadata": {},
   "source": [
    "### Step 4: Exploratory Data Analysis"
   ]
  },
  {
   "cell_type": "markdown",
   "id": "7d6b8f6e-03e0-4d34-9d4b-913944d64563",
   "metadata": {},
   "source": [
    "we split the leads into non-converted leads and converted leads indicated as leads0 and leads1"
   ]
  },
  {
   "cell_type": "markdown",
   "id": "713de52f-dafe-4609-ae8b-002489e15232",
   "metadata": {},
   "source": [
    "__4.1 Univariate Analysis__"
   ]
  },
  {
   "cell_type": "code",
   "execution_count": 30,
   "id": "1fb7190a-2de4-4911-937e-5b972a58993c",
   "metadata": {},
   "outputs": [
    {
     "data": {
      "text/plain": [
       "<AxesSubplot:xlabel='Lead Origin', ylabel='count'>"
      ]
     },
     "execution_count": 30,
     "metadata": {},
     "output_type": "execute_result"
    },
    {
     "data": {
      "image/png": "[encoded data removed]",
      "text/plain": [
       "<Figure size 720x360 with 1 Axes>"
      ]
     },
     "metadata": {
      "needs_background": "light"
     },
     "output_type": "display_data"
    }
   ],
   "source": [
    "plt.figure(figsize=(10,5))\n",
    "sns.countplot(x = 'Lead Origin', hue = 'Converted', data=leads, palette='ocean')"
   ]
  },
  {
   "cell_type": "markdown",
   "id": "0437910c-0d5d-455f-b47c-ad2bd8496a15",
   "metadata": {},
   "source": [
    "__above plot shows lead_add form have higher chances of conversion__"
   ]
  },
  {
   "cell_type": "code",
   "execution_count": 31,
   "id": "7936ef13-17c7-430c-b639-5c7b97098b34",
   "metadata": {},
   "outputs": [
    {
     "data": {
      "text/plain": [
       "<AxesSubplot:xlabel='Lead Source', ylabel='count'>"
      ]
     },
     "execution_count": 31,
     "metadata": {},
     "output_type": "execute_result"
    },
    {
     "data": {
      "image/png": "[encoded data removed]",
      "text/plain": [
       "<Figure size 2160x720 with 1 Axes>"
      ]
     },
     "metadata": {
      "needs_background": "light"
     },
     "output_type": "display_data"
    }
   ],
   "source": [
    "plt.figure(figsize=(30,10))\n",
    "sns.countplot(x = 'Lead Source', hue = 'Converted', data=leads,palette='spring') "
   ]
  },
  {
   "cell_type": "markdown",
   "id": "86714c82-46cf-4178-a8fd-819ee36cae79",
   "metadata": {},
   "source": [
    "__Above plot shows that Google,Direct traffic,organic search and olark char are the major sources of leads and to increase more leads from these channels we should focus on these channels__"
   ]
  },
  {
   "cell_type": "code",
   "execution_count": 32,
   "id": "58f23247-0071-42ea-8d48-e945f6089ac0",
   "metadata": {},
   "outputs": [
    {
     "data": {
      "text/plain": [
       "<AxesSubplot:xlabel='Last Activity', ylabel='count'>"
      ]
     },
     "execution_count": 32,
     "metadata": {},
     "output_type": "execute_result"
    },
    {
     "data": {
      "image/png": "[encoded data removed]",
      "text/plain": [
       "<Figure size 2520x720 with 1 Axes>"
      ]
     },
     "metadata": {
      "needs_background": "light"
     },
     "output_type": "display_data"
    }
   ],
   "source": [
    "plt.figure(figsize=(35,10))\n",
    "sns.countplot(x = 'Last Activity', hue = 'Converted', data=leads,palette='autumn')"
   ]
  },
  {
   "cell_type": "code",
   "execution_count": 33,
   "id": "9c0310aa-8172-4348-bd29-aedb3e727aa6",
   "metadata": {},
   "outputs": [
    {
     "data": {
      "text/plain": [
       "<AxesSubplot:xlabel='What is your current occupation', ylabel='count'>"
      ]
     },
     "execution_count": 33,
     "metadata": {},
     "output_type": "execute_result"
    },
    {
     "data": {
      "image/png": "[encoded data removed]",
      "text/plain": [
       "<Figure size 2160x720 with 1 Axes>"
      ]
     },
     "metadata": {
      "needs_background": "light"
     },
     "output_type": "display_data"
    }
   ],
   "source": [
    "plt.figure(figsize=(30,10))\n",
    "sns.countplot(x = 'What is your current occupation', hue = 'Converted', data=leads,palette='spring')"
   ]
  },
  {
   "cell_type": "markdown",
   "id": "63868947-bdb1-40ed-ae1e-a7855bc2bcd8",
   "metadata": {},
   "source": [
    "__Above analysis shows us that working professional are opting for X education as the conversion is positive__"
   ]
  },
  {
   "cell_type": "code",
   "execution_count": 34,
   "id": "c96555ac-4071-41b4-8605-51a74fd0c49b",
   "metadata": {},
   "outputs": [
    {
     "data": {
      "text/plain": [
       "<AxesSubplot:xlabel='Last Notable Activity', ylabel='count'>"
      ]
     },
     "execution_count": 34,
     "metadata": {},
     "output_type": "execute_result"
    },
    {
     "data": {
      "image/png": "[encoded data removed]",
      "text/plain": [
       "<Figure size 2160x720 with 1 Axes>"
      ]
     },
     "metadata": {
      "needs_background": "light"
     },
     "output_type": "display_data"
    }
   ],
   "source": [
    "plt.figure(figsize=(30,10))\n",
    "sns.countplot(x = 'Last Notable Activity', hue = 'Converted', data=leads,palette='summer')"
   ]
  },
  {
   "cell_type": "markdown",
   "id": "f915e1f8-900f-4a60-b4a8-d0f019ead520",
   "metadata": {},
   "source": [
    "__Last Notable Activity 'SMS Sent' is high for converted leads__"
   ]
  },
  {
   "cell_type": "markdown",
   "id": "e1900788-d375-46f7-8c38-28be6076ecd1",
   "metadata": {},
   "source": [
    "## Bivariate Analysis"
   ]
  },
  {
   "cell_type": "code",
   "execution_count": 35,
   "id": "871a9f5f-4277-498e-9546-b8ba2a5c6f92",
   "metadata": {},
   "outputs": [
    {
     "data": {
      "text/plain": [
       "<AxesSubplot:>"
      ]
     },
     "execution_count": 35,
     "metadata": {},
     "output_type": "execute_result"
    },
    {
     "data": {
      "image/png": "[encoded data removed]",
      "text/plain": [
       "<Figure size 432x288 with 2 Axes>"
      ]
     },
     "metadata": {
      "needs_background": "light"
     },
     "output_type": "display_data"
    }
   ],
   "source": [
    "# Numerical Columns\n",
    "sns.heatmap(leads.corr(),annot = True,cmap = 'RdYlGn')"
   ]
  },
  {
   "cell_type": "markdown",
   "id": "7fdbef3b-985b-4e3f-99b5-d2261313faf9",
   "metadata": {},
   "source": [
    "__In the above numerical columns there is high correlation of 0.63 between TotalVisits and Pageviews per visit__"
   ]
  },
  {
   "cell_type": "code",
   "execution_count": 36,
   "id": "a420565c-f3d6-42c1-aa6d-730187f4fece",
   "metadata": {},
   "outputs": [],
   "source": [
    "## Binary Mapping"
   ]
  },
  {
   "cell_type": "markdown",
   "id": "e649e327-5fac-42a0-bc09-d8d54a50f1e5",
   "metadata": {},
   "source": [
    "__Converting Some binary variables with values Yes/No to 1/0__"
   ]
  },
  {
   "cell_type": "code",
   "execution_count": 37,
   "id": "20e1af74-a30b-49cb-80c7-2871b0640cb8",
   "metadata": {},
   "outputs": [
    {
     "data": {
      "text/plain": [
       "['Do Not Email',\n",
       " 'Do Not Call',\n",
       " 'Search',\n",
       " 'Magazine',\n",
       " 'Newspaper Article',\n",
       " 'X Education Forums',\n",
       " 'Newspaper',\n",
       " 'Digital Advertisement',\n",
       " 'Through Recommendations',\n",
       " 'Receive More Updates About Our Courses',\n",
       " 'Update me on Supply Chain Content',\n",
       " 'Get updates on DM Content',\n",
       " 'I agree to pay the amount through cheque',\n",
       " 'A free copy of Mastering The Interview']"
      ]
     },
     "execution_count": 37,
     "metadata": {},
     "output_type": "execute_result"
    }
   ],
   "source": [
    "binary_list = ['Do Not Email','Do Not Call','Search','Magazine','Newspaper Article','X Education Forums','Newspaper','Digital Advertisement','Through Recommendations','Receive More Updates About Our Courses','Update me on Supply Chain Content','Get updates on DM Content','I agree to pay the amount through cheque','A free copy of Mastering The Interview']\n",
    "binary_list"
   ]
  },
  {
   "cell_type": "code",
   "execution_count": 38,
   "id": "a8eb4958-c084-4457-a030-daede716dd6d",
   "metadata": {},
   "outputs": [],
   "source": [
    "def binary_map(x):\n",
    "    return x.map({'Yes': 1, 'No': 0})\n",
    "\n",
    "leads[binary_list] = leads[binary_list].apply(binary_map)"
   ]
  },
  {
   "cell_type": "code",
   "execution_count": 39,
   "id": "e6ac65ab-6085-4a6d-aa80-ce2cb43d2010",
   "metadata": {},
   "outputs": [],
   "source": [
    "leads = leads.drop('Prospect ID',axis = 1)"
   ]
  },
  {
   "cell_type": "code",
   "execution_count": 40,
   "id": "05941d3e-2d23-4885-bbab-6774fa0a7e48",
   "metadata": {},
   "outputs": [
    {
     "name": "stdout",
     "output_type": "stream",
     "text": [
      "Categorical Features of leads Set: 10\n",
      "Numerical Features of Leads Set: 19\n"
     ]
    }
   ],
   "source": [
    "categorical = leads.select_dtypes(include =[np.object])\n",
    "print(\"Categorical Features of leads Set:\",categorical.shape[1])\n",
    "#numerical features\n",
    "numerical = leads.select_dtypes(include = [np.int64,np.float64])\n",
    "print(\"Numerical Features of Leads Set:\",numerical.shape[1])"
   ]
  },
  {
   "cell_type": "code",
   "execution_count": 41,
   "id": "b418ac9a-3a0e-43ea-bdd2-57af5e36f793",
   "metadata": {},
   "outputs": [
    {
     "data": {
      "text/plain": [
       "Index(['Lead Origin', 'Lead Source', 'Last Activity', 'Country',\n",
       "       'Specialization', 'What is your current occupation',\n",
       "       'What matters most to you in choosing a course', 'Tags', 'City',\n",
       "       'Last Notable Activity'],\n",
       "      dtype='object')"
      ]
     },
     "execution_count": 41,
     "metadata": {},
     "output_type": "execute_result"
    }
   ],
   "source": [
    "# We create a list for categorical columns which we need to drop after dummy variable creation\n",
    "duplicate_col = categorical.columns\n",
    "duplicate_col"
   ]
  },
  {
   "cell_type": "code",
   "execution_count": 42,
   "id": "30a8e923-56da-457b-8640-e9e6bd826f4d",
   "metadata": {},
   "outputs": [],
   "source": [
    "dummy_var = pd.get_dummies(leads[categorical.columns],drop_first = True)"
   ]
  },
  {
   "cell_type": "code",
   "execution_count": 43,
   "id": "8cc1d124-586b-4a9b-9f51-0012463677a7",
   "metadata": {},
   "outputs": [],
   "source": [
    "leads = pd.concat([leads,dummy_var],axis = 1)"
   ]
  },
  {
   "cell_type": "code",
   "execution_count": 44,
   "id": "533e8ff6-2235-466f-aaf2-5de486914587",
   "metadata": {},
   "outputs": [],
   "source": [
    "leads.drop(duplicate_col,axis = 1, inplace= True)"
   ]
  },
  {
   "cell_type": "code",
   "execution_count": 45,
   "id": "24cbad8f-8a82-4603-9ed3-b0f041d4212a",
   "metadata": {},
   "outputs": [],
   "source": [
    "leads.drop('Lead Number',axis = 1,inplace = True)"
   ]
  },
  {
   "cell_type": "markdown",
   "id": "777eb7d3-db2b-4067-8cc3-c7c98f3e2421",
   "metadata": {},
   "source": [
    "### Step 5 :Building a Model"
   ]
  },
  {
   "cell_type": "markdown",
   "id": "b8c376ed-b40d-41d0-9acc-ec32ba61883c",
   "metadata": {},
   "source": [
    "* __In the X- Education leads Data set, the Target variable is 'Converted' and it is a binary column having values {0,1} '0' indicating non-converted leads and 1 indicating converted leads, so we build a logistic regression model to predict a binary class variable__"
   ]
  },
  {
   "cell_type": "code",
   "execution_count": 46,
   "id": "b10d3381-b2c7-4790-a3fd-309794df1d53",
   "metadata": {},
   "outputs": [],
   "source": [
    "y = leads.pop('Converted')"
   ]
  },
  {
   "cell_type": "code",
   "execution_count": 47,
   "id": "28fff9c7-2fb1-4014-b087-edf9c8b56c2e",
   "metadata": {},
   "outputs": [
    {
     "data": {
      "text/html": [
       "<div>\n",
       "<style scoped>\n",
       "    .dataframe tbody tr th:only-of-type {\n",
       "        vertical-align: middle;\n",
       "    }\n",
       "\n",
       "    .dataframe tbody tr th {\n",
       "        vertical-align: top;\n",
       "    }\n",
       "\n",
       "    .dataframe thead th {\n",
       "        text-align: right;\n",
       "    }\n",
       "</style>\n",
       "<table border=\"1\" class=\"dataframe\">\n",
       "  <thead>\n",
       "    <tr style=\"text-align: right;\">\n",
       "      <th></th>\n",
       "      <th>Do Not Email</th>\n",
       "      <th>Do Not Call</th>\n",
       "      <th>TotalVisits</th>\n",
       "      <th>Total Time Spent on Website</th>\n",
       "      <th>Page Views Per Visit</th>\n",
       "      <th>Search</th>\n",
       "      <th>Magazine</th>\n",
       "      <th>Newspaper Article</th>\n",
       "      <th>X Education Forums</th>\n",
       "      <th>Newspaper</th>\n",
       "      <th>...</th>\n",
       "      <th>Last Notable Activity_Form Submitted on Website</th>\n",
       "      <th>Last Notable Activity_Had a Phone Conversation</th>\n",
       "      <th>Last Notable Activity_Modified</th>\n",
       "      <th>Last Notable Activity_Olark Chat Conversation</th>\n",
       "      <th>Last Notable Activity_Page Visited on Website</th>\n",
       "      <th>Last Notable Activity_Resubscribed to emails</th>\n",
       "      <th>Last Notable Activity_SMS Sent</th>\n",
       "      <th>Last Notable Activity_Unreachable</th>\n",
       "      <th>Last Notable Activity_Unsubscribed</th>\n",
       "      <th>Last Notable Activity_View in browser link Clicked</th>\n",
       "    </tr>\n",
       "  </thead>\n",
       "  <tbody>\n",
       "    <tr>\n",
       "      <th>0</th>\n",
       "      <td>0</td>\n",
       "      <td>0</td>\n",
       "      <td>0.0</td>\n",
       "      <td>0</td>\n",
       "      <td>0.00</td>\n",
       "      <td>0</td>\n",
       "      <td>0</td>\n",
       "      <td>0</td>\n",
       "      <td>0</td>\n",
       "      <td>0</td>\n",
       "      <td>...</td>\n",
       "      <td>0</td>\n",
       "      <td>0</td>\n",
       "      <td>1</td>\n",
       "      <td>0</td>\n",
       "      <td>0</td>\n",
       "      <td>0</td>\n",
       "      <td>0</td>\n",
       "      <td>0</td>\n",
       "      <td>0</td>\n",
       "      <td>0</td>\n",
       "    </tr>\n",
       "    <tr>\n",
       "      <th>1</th>\n",
       "      <td>0</td>\n",
       "      <td>0</td>\n",
       "      <td>5.0</td>\n",
       "      <td>674</td>\n",
       "      <td>2.50</td>\n",
       "      <td>0</td>\n",
       "      <td>0</td>\n",
       "      <td>0</td>\n",
       "      <td>0</td>\n",
       "      <td>0</td>\n",
       "      <td>...</td>\n",
       "      <td>0</td>\n",
       "      <td>0</td>\n",
       "      <td>0</td>\n",
       "      <td>0</td>\n",
       "      <td>0</td>\n",
       "      <td>0</td>\n",
       "      <td>0</td>\n",
       "      <td>0</td>\n",
       "      <td>0</td>\n",
       "      <td>0</td>\n",
       "    </tr>\n",
       "    <tr>\n",
       "      <th>2</th>\n",
       "      <td>0</td>\n",
       "      <td>0</td>\n",
       "      <td>2.0</td>\n",
       "      <td>1532</td>\n",
       "      <td>2.00</td>\n",
       "      <td>0</td>\n",
       "      <td>0</td>\n",
       "      <td>0</td>\n",
       "      <td>0</td>\n",
       "      <td>0</td>\n",
       "      <td>...</td>\n",
       "      <td>0</td>\n",
       "      <td>0</td>\n",
       "      <td>0</td>\n",
       "      <td>0</td>\n",
       "      <td>0</td>\n",
       "      <td>0</td>\n",
       "      <td>0</td>\n",
       "      <td>0</td>\n",
       "      <td>0</td>\n",
       "      <td>0</td>\n",
       "    </tr>\n",
       "    <tr>\n",
       "      <th>3</th>\n",
       "      <td>0</td>\n",
       "      <td>0</td>\n",
       "      <td>1.0</td>\n",
       "      <td>305</td>\n",
       "      <td>1.00</td>\n",
       "      <td>0</td>\n",
       "      <td>0</td>\n",
       "      <td>0</td>\n",
       "      <td>0</td>\n",
       "      <td>0</td>\n",
       "      <td>...</td>\n",
       "      <td>0</td>\n",
       "      <td>0</td>\n",
       "      <td>1</td>\n",
       "      <td>0</td>\n",
       "      <td>0</td>\n",
       "      <td>0</td>\n",
       "      <td>0</td>\n",
       "      <td>0</td>\n",
       "      <td>0</td>\n",
       "      <td>0</td>\n",
       "    </tr>\n",
       "    <tr>\n",
       "      <th>4</th>\n",
       "      <td>0</td>\n",
       "      <td>0</td>\n",
       "      <td>2.0</td>\n",
       "      <td>1428</td>\n",
       "      <td>1.00</td>\n",
       "      <td>0</td>\n",
       "      <td>0</td>\n",
       "      <td>0</td>\n",
       "      <td>0</td>\n",
       "      <td>0</td>\n",
       "      <td>...</td>\n",
       "      <td>0</td>\n",
       "      <td>0</td>\n",
       "      <td>1</td>\n",
       "      <td>0</td>\n",
       "      <td>0</td>\n",
       "      <td>0</td>\n",
       "      <td>0</td>\n",
       "      <td>0</td>\n",
       "      <td>0</td>\n",
       "      <td>0</td>\n",
       "    </tr>\n",
       "    <tr>\n",
       "      <th>...</th>\n",
       "      <td>...</td>\n",
       "      <td>...</td>\n",
       "      <td>...</td>\n",
       "      <td>...</td>\n",
       "      <td>...</td>\n",
       "      <td>...</td>\n",
       "      <td>...</td>\n",
       "      <td>...</td>\n",
       "      <td>...</td>\n",
       "      <td>...</td>\n",
       "      <td>...</td>\n",
       "      <td>...</td>\n",
       "      <td>...</td>\n",
       "      <td>...</td>\n",
       "      <td>...</td>\n",
       "      <td>...</td>\n",
       "      <td>...</td>\n",
       "      <td>...</td>\n",
       "      <td>...</td>\n",
       "      <td>...</td>\n",
       "      <td>...</td>\n",
       "    </tr>\n",
       "    <tr>\n",
       "      <th>9235</th>\n",
       "      <td>1</td>\n",
       "      <td>0</td>\n",
       "      <td>8.0</td>\n",
       "      <td>1845</td>\n",
       "      <td>2.67</td>\n",
       "      <td>0</td>\n",
       "      <td>0</td>\n",
       "      <td>0</td>\n",
       "      <td>0</td>\n",
       "      <td>0</td>\n",
       "      <td>...</td>\n",
       "      <td>0</td>\n",
       "      <td>0</td>\n",
       "      <td>0</td>\n",
       "      <td>0</td>\n",
       "      <td>0</td>\n",
       "      <td>0</td>\n",
       "      <td>0</td>\n",
       "      <td>0</td>\n",
       "      <td>0</td>\n",
       "      <td>0</td>\n",
       "    </tr>\n",
       "    <tr>\n",
       "      <th>9236</th>\n",
       "      <td>0</td>\n",
       "      <td>0</td>\n",
       "      <td>2.0</td>\n",
       "      <td>238</td>\n",
       "      <td>2.00</td>\n",
       "      <td>0</td>\n",
       "      <td>0</td>\n",
       "      <td>0</td>\n",
       "      <td>0</td>\n",
       "      <td>0</td>\n",
       "      <td>...</td>\n",
       "      <td>0</td>\n",
       "      <td>0</td>\n",
       "      <td>0</td>\n",
       "      <td>0</td>\n",
       "      <td>0</td>\n",
       "      <td>0</td>\n",
       "      <td>1</td>\n",
       "      <td>0</td>\n",
       "      <td>0</td>\n",
       "      <td>0</td>\n",
       "    </tr>\n",
       "    <tr>\n",
       "      <th>9237</th>\n",
       "      <td>1</td>\n",
       "      <td>0</td>\n",
       "      <td>2.0</td>\n",
       "      <td>199</td>\n",
       "      <td>2.00</td>\n",
       "      <td>0</td>\n",
       "      <td>0</td>\n",
       "      <td>0</td>\n",
       "      <td>0</td>\n",
       "      <td>0</td>\n",
       "      <td>...</td>\n",
       "      <td>0</td>\n",
       "      <td>0</td>\n",
       "      <td>0</td>\n",
       "      <td>0</td>\n",
       "      <td>0</td>\n",
       "      <td>0</td>\n",
       "      <td>1</td>\n",
       "      <td>0</td>\n",
       "      <td>0</td>\n",
       "      <td>0</td>\n",
       "    </tr>\n",
       "    <tr>\n",
       "      <th>9238</th>\n",
       "      <td>0</td>\n",
       "      <td>0</td>\n",
       "      <td>3.0</td>\n",
       "      <td>499</td>\n",
       "      <td>3.00</td>\n",
       "      <td>0</td>\n",
       "      <td>0</td>\n",
       "      <td>0</td>\n",
       "      <td>0</td>\n",
       "      <td>0</td>\n",
       "      <td>...</td>\n",
       "      <td>0</td>\n",
       "      <td>0</td>\n",
       "      <td>0</td>\n",
       "      <td>0</td>\n",
       "      <td>0</td>\n",
       "      <td>0</td>\n",
       "      <td>1</td>\n",
       "      <td>0</td>\n",
       "      <td>0</td>\n",
       "      <td>0</td>\n",
       "    </tr>\n",
       "    <tr>\n",
       "      <th>9239</th>\n",
       "      <td>0</td>\n",
       "      <td>0</td>\n",
       "      <td>6.0</td>\n",
       "      <td>1279</td>\n",
       "      <td>3.00</td>\n",
       "      <td>0</td>\n",
       "      <td>0</td>\n",
       "      <td>0</td>\n",
       "      <td>0</td>\n",
       "      <td>0</td>\n",
       "      <td>...</td>\n",
       "      <td>0</td>\n",
       "      <td>0</td>\n",
       "      <td>1</td>\n",
       "      <td>0</td>\n",
       "      <td>0</td>\n",
       "      <td>0</td>\n",
       "      <td>0</td>\n",
       "      <td>0</td>\n",
       "      <td>0</td>\n",
       "      <td>0</td>\n",
       "    </tr>\n",
       "  </tbody>\n",
       "</table>\n",
       "<p>9240 rows × 163 columns</p>\n",
       "</div>"
      ],
      "text/plain": [
       "      Do Not Email  Do Not Call  TotalVisits  Total Time Spent on Website  \\\n",
       "0                0            0          0.0                            0   \n",
       "1                0            0          5.0                          674   \n",
       "2                0            0          2.0                         1532   \n",
       "3                0            0          1.0                          305   \n",
       "4                0            0          2.0                         1428   \n",
       "...            ...          ...          ...                          ...   \n",
       "9235             1            0          8.0                         1845   \n",
       "9236             0            0          2.0                          238   \n",
       "9237             1            0          2.0                          199   \n",
       "9238             0            0          3.0                          499   \n",
       "9239             0            0          6.0                         1279   \n",
       "\n",
       "      Page Views Per Visit  Search  Magazine  Newspaper Article  \\\n",
       "0                     0.00       0         0                  0   \n",
       "1                     2.50       0         0                  0   \n",
       "2                     2.00       0         0                  0   \n",
       "3                     1.00       0         0                  0   \n",
       "4                     1.00       0         0                  0   \n",
       "...                    ...     ...       ...                ...   \n",
       "9235                  2.67       0         0                  0   \n",
       "9236                  2.00       0         0                  0   \n",
       "9237                  2.00       0         0                  0   \n",
       "9238                  3.00       0         0                  0   \n",
       "9239                  3.00       0         0                  0   \n",
       "\n",
       "      X Education Forums  Newspaper  ...  \\\n",
       "0                      0          0  ...   \n",
       "1                      0          0  ...   \n",
       "2                      0          0  ...   \n",
       "3                      0          0  ...   \n",
       "4                      0          0  ...   \n",
       "...                  ...        ...  ...   \n",
       "9235                   0          0  ...   \n",
       "9236                   0          0  ...   \n",
       "9237                   0          0  ...   \n",
       "9238                   0          0  ...   \n",
       "9239                   0          0  ...   \n",
       "\n",
       "      Last Notable Activity_Form Submitted on Website  \\\n",
       "0                                                   0   \n",
       "1                                                   0   \n",
       "2                                                   0   \n",
       "3                                                   0   \n",
       "4                                                   0   \n",
       "...                                               ...   \n",
       "9235                                                0   \n",
       "9236                                                0   \n",
       "9237                                                0   \n",
       "9238                                                0   \n",
       "9239                                                0   \n",
       "\n",
       "      Last Notable Activity_Had a Phone Conversation  \\\n",
       "0                                                  0   \n",
       "1                                                  0   \n",
       "2                                                  0   \n",
       "3                                                  0   \n",
       "4                                                  0   \n",
       "...                                              ...   \n",
       "9235                                               0   \n",
       "9236                                               0   \n",
       "9237                                               0   \n",
       "9238                                               0   \n",
       "9239                                               0   \n",
       "\n",
       "      Last Notable Activity_Modified  \\\n",
       "0                                  1   \n",
       "1                                  0   \n",
       "2                                  0   \n",
       "3                                  1   \n",
       "4                                  1   \n",
       "...                              ...   \n",
       "9235                               0   \n",
       "9236                               0   \n",
       "9237                               0   \n",
       "9238                               0   \n",
       "9239                               1   \n",
       "\n",
       "      Last Notable Activity_Olark Chat Conversation  \\\n",
       "0                                                 0   \n",
       "1                                                 0   \n",
       "2                                                 0   \n",
       "3                                                 0   \n",
       "4                                                 0   \n",
       "...                                             ...   \n",
       "9235                                              0   \n",
       "9236                                              0   \n",
       "9237                                              0   \n",
       "9238                                              0   \n",
       "9239                                              0   \n",
       "\n",
       "      Last Notable Activity_Page Visited on Website  \\\n",
       "0                                                 0   \n",
       "1                                                 0   \n",
       "2                                                 0   \n",
       "3                                                 0   \n",
       "4                                                 0   \n",
       "...                                             ...   \n",
       "9235                                              0   \n",
       "9236                                              0   \n",
       "9237                                              0   \n",
       "9238                                              0   \n",
       "9239                                              0   \n",
       "\n",
       "      Last Notable Activity_Resubscribed to emails  \\\n",
       "0                                                0   \n",
       "1                                                0   \n",
       "2                                                0   \n",
       "3                                                0   \n",
       "4                                                0   \n",
       "...                                            ...   \n",
       "9235                                             0   \n",
       "9236                                             0   \n",
       "9237                                             0   \n",
       "9238                                             0   \n",
       "9239                                             0   \n",
       "\n",
       "      Last Notable Activity_SMS Sent  Last Notable Activity_Unreachable  \\\n",
       "0                                  0                                  0   \n",
       "1                                  0                                  0   \n",
       "2                                  0                                  0   \n",
       "3                                  0                                  0   \n",
       "4                                  0                                  0   \n",
       "...                              ...                                ...   \n",
       "9235                               0                                  0   \n",
       "9236                               1                                  0   \n",
       "9237                               1                                  0   \n",
       "9238                               1                                  0   \n",
       "9239                               0                                  0   \n",
       "\n",
       "      Last Notable Activity_Unsubscribed  \\\n",
       "0                                      0   \n",
       "1                                      0   \n",
       "2                                      0   \n",
       "3                                      0   \n",
       "4                                      0   \n",
       "...                                  ...   \n",
       "9235                                   0   \n",
       "9236                                   0   \n",
       "9237                                   0   \n",
       "9238                                   0   \n",
       "9239                                   0   \n",
       "\n",
       "      Last Notable Activity_View in browser link Clicked  \n",
       "0                                                     0   \n",
       "1                                                     0   \n",
       "2                                                     0   \n",
       "3                                                     0   \n",
       "4                                                     0   \n",
       "...                                                 ...   \n",
       "9235                                                  0   \n",
       "9236                                                  0   \n",
       "9237                                                  0   \n",
       "9238                                                  0   \n",
       "9239                                                  0   \n",
       "\n",
       "[9240 rows x 163 columns]"
      ]
     },
     "execution_count": 47,
     "metadata": {},
     "output_type": "execute_result"
    }
   ],
   "source": [
    "X = leads\n",
    "X"
   ]
  },
  {
   "cell_type": "code",
   "execution_count": 48,
   "id": "9634964a-d8f7-4db2-900c-51c42e7fc524",
   "metadata": {},
   "outputs": [],
   "source": [
    "X_train,X_test,y_train,y_test = train_test_split(X,y,train_size = 0.7,test_size=0.3,random_state = 100)"
   ]
  },
  {
   "cell_type": "markdown",
   "id": "2e26de59-f822-47e7-8b39-c33c3e516588",
   "metadata": {},
   "source": [
    "__5.1 Scaling the numerical variables using Standard Scaler__ "
   ]
  },
  {
   "cell_type": "code",
   "execution_count": 49,
   "id": "468ba2db-27e9-4afd-9ecf-e9e39b137c5e",
   "metadata": {},
   "outputs": [],
   "source": [
    "from sklearn.preprocessing import StandardScaler\n",
    "scaler = StandardScaler()"
   ]
  },
  {
   "cell_type": "code",
   "execution_count": 50,
   "id": "d9eeb78b-1870-4cf5-beb5-ecf489a86d4c",
   "metadata": {},
   "outputs": [],
   "source": [
    "scaling_var = ['TotalVisits','Total Time Spent on Website','Page Views Per Visit']"
   ]
  },
  {
   "cell_type": "code",
   "execution_count": 51,
   "id": "8029e59f-751d-49be-865d-728418fb008e",
   "metadata": {},
   "outputs": [],
   "source": [
    "X_train[scaling_var] = scaler.fit_transform(X_train[scaling_var])"
   ]
  },
  {
   "cell_type": "code",
   "execution_count": 52,
   "id": "289430b6-66a7-4298-aea2-97cb591a444b",
   "metadata": {},
   "outputs": [],
   "source": [
    "X_train.drop(['Last Notable Activity_View in browser link Clicked'],axis = 1,inplace = True)"
   ]
  },
  {
   "cell_type": "code",
   "execution_count": 53,
   "id": "fa0455b7-6b03-4502-a74f-a7c903273189",
   "metadata": {},
   "outputs": [],
   "source": [
    "from sklearn.linear_model import LogisticRegression\n",
    "logit_reg = LogisticRegression()"
   ]
  },
  {
   "cell_type": "markdown",
   "id": "8c65e216-56ae-4b07-abe2-2950c1450446",
   "metadata": {},
   "source": [
    "__Using Recursive Feature Elimination technique we do a coarse slection of Top 15 variables for our Analysis__"
   ]
  },
  {
   "cell_type": "code",
   "execution_count": 54,
   "id": "d2413ff1-1e54-4462-a36e-46eeded9d54b",
   "metadata": {},
   "outputs": [],
   "source": [
    "from sklearn.feature_selection import RFE\n",
    "rfe = RFE(logit_reg,n_features_to_select=15)\n",
    "rfe = rfe.fit(X_train, y_train)\n"
   ]
  },
  {
   "cell_type": "code",
   "execution_count": 55,
   "id": "a6ecb6af-628f-4960-9b54-e69dc7af3304",
   "metadata": {},
   "outputs": [
    {
     "data": {
      "text/plain": [
       "array([ True, False, False, False, False, False, False, False, False,\n",
       "       False, False, False, False, False, False, False, False, False,\n",
       "        True, False, False, False, False, False, False, False, False,\n",
       "       False, False, False, False, False, False, False, False, False,\n",
       "       False, False, False, False, False, False, False, False, False,\n",
       "       False, False, False, False,  True, False, False, False, False,\n",
       "       False, False, False, False, False, False, False, False, False,\n",
       "       False, False, False, False, False, False, False, False, False,\n",
       "       False, False, False, False, False, False, False, False, False,\n",
       "       False, False, False, False, False, False, False, False, False,\n",
       "       False, False, False, False, False, False, False, False, False,\n",
       "       False, False, False, False, False, False, False, False, False,\n",
       "       False, False, False, False, False, False, False,  True, False,\n",
       "       False,  True,  True, False, False, False, False,  True, False,\n",
       "        True,  True, False, False, False,  True, False, False, False,\n",
       "       False,  True,  True, False, False, False,  True, False, False,\n",
       "       False, False, False, False, False, False, False, False, False,\n",
       "       False,  True, False, False, False, False,  True, False, False])"
      ]
     },
     "execution_count": 55,
     "metadata": {},
     "output_type": "execute_result"
    }
   ],
   "source": [
    "rfe.support_"
   ]
  },
  {
   "cell_type": "code",
   "execution_count": 56,
   "id": "851d5e77-64d1-4c12-8aeb-52e9878b3283",
   "metadata": {},
   "outputs": [
    {
     "data": {
      "text/plain": [
       "Index(['Do Not Email', 'Lead Origin_Lead Add Form',\n",
       "       'Last Activity_Olark Chat Conversation',\n",
       "       'What is your current occupation_Working Professional', 'Tags_Busy',\n",
       "       'Tags_Closed by Horizzon', 'Tags_Interested in Next batch',\n",
       "       'Tags_Lateral student', 'Tags_Lost to EINS', 'Tags_Ringing',\n",
       "       'Tags_Will revert after reading the email', 'Tags_in touch with EINS',\n",
       "       'Tags_switched off', 'Last Notable Activity_Had a Phone Conversation',\n",
       "       'Last Notable Activity_SMS Sent'],\n",
       "      dtype='object')"
      ]
     },
     "execution_count": 56,
     "metadata": {},
     "output_type": "execute_result"
    }
   ],
   "source": [
    "col = X_train.columns[rfe.support_]\n",
    "col"
   ]
  },
  {
   "cell_type": "markdown",
   "id": "10659fbf-e9f5-4d1a-87e8-35eebae118f6",
   "metadata": {},
   "source": [
    "__Since we did a coarse selection of features by using RFE and now we do fine selection of features for that we need statsmodels and we analyse the p-values for finding the significance of variables and VIF for keeping the variance inflation factor around 5__"
   ]
  },
  {
   "cell_type": "code",
   "execution_count": 57,
   "id": "7d1e4de8-eb44-4849-a801-2511337e8638",
   "metadata": {},
   "outputs": [],
   "source": [
    "import statsmodels.api as sm"
   ]
  },
  {
   "cell_type": "code",
   "execution_count": 58,
   "id": "536b46f6-618f-4c03-b47a-8e0d4a1d2c9b",
   "metadata": {},
   "outputs": [],
   "source": [
    "X_train_sm = sm.add_constant(X_train[col])"
   ]
  },
  {
   "cell_type": "code",
   "execution_count": 59,
   "id": "c3c9f434-58f2-42c8-ba52-ec485c4a32dc",
   "metadata": {},
   "outputs": [],
   "source": [
    "logit1 = sm.GLM(y_train ,X_train_sm,family = sm.families.Binomial())"
   ]
  },
  {
   "cell_type": "code",
   "execution_count": 60,
   "id": "50face64-b904-4823-9b46-02fd02d25e31",
   "metadata": {},
   "outputs": [],
   "source": [
    "logit_model1 = logit1.fit()"
   ]
  },
  {
   "cell_type": "code",
   "execution_count": 61,
   "id": "ddbaeea0-a372-4fcf-a548-d99674e25a06",
   "metadata": {},
   "outputs": [
    {
     "data": {
      "text/html": [
       "<table class=\"simpletable\">\n",
       "<caption>Generalized Linear Model Regression Results</caption>\n",
       "<tr>\n",
       "  <th>Dep. Variable:</th>       <td>Converted</td>    <th>  No. Observations:  </th>  <td>  6468</td> \n",
       "</tr>\n",
       "<tr>\n",
       "  <th>Model:</th>                  <td>GLM</td>       <th>  Df Residuals:      </th>  <td>  6452</td> \n",
       "</tr>\n",
       "<tr>\n",
       "  <th>Model Family:</th>        <td>Binomial</td>     <th>  Df Model:          </th>  <td>    15</td> \n",
       "</tr>\n",
       "<tr>\n",
       "  <th>Link Function:</th>         <td>logit</td>      <th>  Scale:             </th> <td>  1.0000</td>\n",
       "</tr>\n",
       "<tr>\n",
       "  <th>Method:</th>                <td>IRLS</td>       <th>  Log-Likelihood:    </th> <td> -2073.8</td>\n",
       "</tr>\n",
       "<tr>\n",
       "  <th>Date:</th>            <td>Tue, 09 Aug 2022</td> <th>  Deviance:          </th> <td>  4147.6</td>\n",
       "</tr>\n",
       "<tr>\n",
       "  <th>Time:</th>                <td>21:27:55</td>     <th>  Pearson chi2:      </th> <td>1.16e+04</td>\n",
       "</tr>\n",
       "<tr>\n",
       "  <th>No. Iterations:</th>         <td>21</td>        <th>                     </th>     <td> </td>   \n",
       "</tr>\n",
       "<tr>\n",
       "  <th>Covariance Type:</th>     <td>nonrobust</td>    <th>                     </th>     <td> </td>   \n",
       "</tr>\n",
       "</table>\n",
       "<table class=\"simpletable\">\n",
       "<tr>\n",
       "                            <td></td>                              <th>coef</th>     <th>std err</th>      <th>z</th>      <th>P>|z|</th>  <th>[0.025</th>    <th>0.975]</th>  \n",
       "</tr>\n",
       "<tr>\n",
       "  <th>const</th>                                                <td>   -4.0978</td> <td>    0.208</td> <td>  -19.689</td> <td> 0.000</td> <td>   -4.506</td> <td>   -3.690</td>\n",
       "</tr>\n",
       "<tr>\n",
       "  <th>Do Not Email</th>                                         <td>   -1.4320</td> <td>    0.171</td> <td>   -8.354</td> <td> 0.000</td> <td>   -1.768</td> <td>   -1.096</td>\n",
       "</tr>\n",
       "<tr>\n",
       "  <th>Lead Origin_Lead Add Form</th>                            <td>    2.4038</td> <td>    0.213</td> <td>   11.271</td> <td> 0.000</td> <td>    1.986</td> <td>    2.822</td>\n",
       "</tr>\n",
       "<tr>\n",
       "  <th>Last Activity_Olark Chat Conversation</th>                <td>   -1.7036</td> <td>    0.164</td> <td>  -10.377</td> <td> 0.000</td> <td>   -2.025</td> <td>   -1.382</td>\n",
       "</tr>\n",
       "<tr>\n",
       "  <th>What is your current occupation_Working Professional</th> <td>    2.8980</td> <td>    0.232</td> <td>   12.509</td> <td> 0.000</td> <td>    2.444</td> <td>    3.352</td>\n",
       "</tr>\n",
       "<tr>\n",
       "  <th>Tags_Busy</th>                                            <td>    3.0193</td> <td>    0.298</td> <td>   10.141</td> <td> 0.000</td> <td>    2.436</td> <td>    3.603</td>\n",
       "</tr>\n",
       "<tr>\n",
       "  <th>Tags_Closed by Horizzon</th>                              <td>    8.7506</td> <td>    1.027</td> <td>    8.520</td> <td> 0.000</td> <td>    6.738</td> <td>   10.764</td>\n",
       "</tr>\n",
       "<tr>\n",
       "  <th>Tags_Interested in Next batch</th>                        <td>   24.4030</td> <td>    2e+04</td> <td>    0.001</td> <td> 0.999</td> <td>-3.91e+04</td> <td> 3.92e+04</td>\n",
       "</tr>\n",
       "<tr>\n",
       "  <th>Tags_Lateral student</th>                                 <td>   25.8717</td> <td> 2.29e+04</td> <td>    0.001</td> <td> 0.999</td> <td>-4.48e+04</td> <td> 4.49e+04</td>\n",
       "</tr>\n",
       "<tr>\n",
       "  <th>Tags_Lost to EINS</th>                                    <td>    8.2410</td> <td>    0.750</td> <td>   10.986</td> <td> 0.000</td> <td>    6.771</td> <td>    9.711</td>\n",
       "</tr>\n",
       "<tr>\n",
       "  <th>Tags_Ringing</th>                                         <td>   -1.1039</td> <td>    0.305</td> <td>   -3.622</td> <td> 0.000</td> <td>   -1.701</td> <td>   -0.507</td>\n",
       "</tr>\n",
       "<tr>\n",
       "  <th>Tags_Will revert after reading the email</th>             <td>    3.5918</td> <td>    0.209</td> <td>   17.168</td> <td> 0.000</td> <td>    3.182</td> <td>    4.002</td>\n",
       "</tr>\n",
       "<tr>\n",
       "  <th>Tags_in touch with EINS</th>                              <td>    2.9423</td> <td>    0.763</td> <td>    3.858</td> <td> 0.000</td> <td>    1.448</td> <td>    4.437</td>\n",
       "</tr>\n",
       "<tr>\n",
       "  <th>Tags_switched off</th>                                    <td>   -1.2705</td> <td>    0.555</td> <td>   -2.290</td> <td> 0.022</td> <td>   -2.358</td> <td>   -0.183</td>\n",
       "</tr>\n",
       "<tr>\n",
       "  <th>Last Notable Activity_Had a Phone Conversation</th>       <td>    3.5546</td> <td>    1.312</td> <td>    2.709</td> <td> 0.007</td> <td>    0.983</td> <td>    6.127</td>\n",
       "</tr>\n",
       "<tr>\n",
       "  <th>Last Notable Activity_SMS Sent</th>                       <td>    2.4830</td> <td>    0.109</td> <td>   22.757</td> <td> 0.000</td> <td>    2.269</td> <td>    2.697</td>\n",
       "</tr>\n",
       "</table>"
      ],
      "text/plain": [
       "<class 'statsmodels.iolib.summary.Summary'>\n",
       "\"\"\"\n",
       "                 Generalized Linear Model Regression Results                  \n",
       "==============================================================================\n",
       "Dep. Variable:              Converted   No. Observations:                 6468\n",
       "Model:                            GLM   Df Residuals:                     6452\n",
       "Model Family:                Binomial   Df Model:                           15\n",
       "Link Function:                  logit   Scale:                          1.0000\n",
       "Method:                          IRLS   Log-Likelihood:                -2073.8\n",
       "Date:                Tue, 09 Aug 2022   Deviance:                       4147.6\n",
       "Time:                        21:27:55   Pearson chi2:                 1.16e+04\n",
       "No. Iterations:                    21                                         \n",
       "Covariance Type:            nonrobust                                         \n",
       "========================================================================================================================\n",
       "                                                           coef    std err          z      P>|z|      [0.025      0.975]\n",
       "------------------------------------------------------------------------------------------------------------------------\n",
       "const                                                   -4.0978      0.208    -19.689      0.000      -4.506      -3.690\n",
       "Do Not Email                                            -1.4320      0.171     -8.354      0.000      -1.768      -1.096\n",
       "Lead Origin_Lead Add Form                                2.4038      0.213     11.271      0.000       1.986       2.822\n",
       "Last Activity_Olark Chat Conversation                   -1.7036      0.164    -10.377      0.000      -2.025      -1.382\n",
       "What is your current occupation_Working Professional     2.8980      0.232     12.509      0.000       2.444       3.352\n",
       "Tags_Busy                                                3.0193      0.298     10.141      0.000       2.436       3.603\n",
       "Tags_Closed by Horizzon                                  8.7506      1.027      8.520      0.000       6.738      10.764\n",
       "Tags_Interested in Next batch                           24.4030      2e+04      0.001      0.999   -3.91e+04    3.92e+04\n",
       "Tags_Lateral student                                    25.8717   2.29e+04      0.001      0.999   -4.48e+04    4.49e+04\n",
       "Tags_Lost to EINS                                        8.2410      0.750     10.986      0.000       6.771       9.711\n",
       "Tags_Ringing                                            -1.1039      0.305     -3.622      0.000      -1.701      -0.507\n",
       "Tags_Will revert after reading the email                 3.5918      0.209     17.168      0.000       3.182       4.002\n",
       "Tags_in touch with EINS                                  2.9423      0.763      3.858      0.000       1.448       4.437\n",
       "Tags_switched off                                       -1.2705      0.555     -2.290      0.022      -2.358      -0.183\n",
       "Last Notable Activity_Had a Phone Conversation           3.5546      1.312      2.709      0.007       0.983       6.127\n",
       "Last Notable Activity_SMS Sent                           2.4830      0.109     22.757      0.000       2.269       2.697\n",
       "========================================================================================================================\n",
       "\"\"\""
      ]
     },
     "execution_count": 61,
     "metadata": {},
     "output_type": "execute_result"
    }
   ],
   "source": [
    "logit_model1.summary()"
   ]
  },
  {
   "cell_type": "code",
   "execution_count": 62,
   "id": "beda3177-6dfc-4775-8357-50fd9a6f1a3a",
   "metadata": {},
   "outputs": [
    {
     "data": {
      "text/plain": [
       "Index(['Do Not Email', 'Lead Origin_Lead Add Form',\n",
       "       'Last Activity_Olark Chat Conversation',\n",
       "       'What is your current occupation_Working Professional', 'Tags_Busy',\n",
       "       'Tags_Closed by Horizzon', 'Tags_Interested in Next batch',\n",
       "       'Tags_Lost to EINS', 'Tags_Ringing',\n",
       "       'Tags_Will revert after reading the email', 'Tags_in touch with EINS',\n",
       "       'Tags_switched off', 'Last Notable Activity_Had a Phone Conversation',\n",
       "       'Last Notable Activity_SMS Sent'],\n",
       "      dtype='object')"
      ]
     },
     "execution_count": 62,
     "metadata": {},
     "output_type": "execute_result"
    }
   ],
   "source": [
    "# we drop Tags_lateral student variable because Tags_interested in next batch seems to be more interpetable by business \n",
    "col = col.drop('Tags_Lateral student')\n",
    "col"
   ]
  },
  {
   "cell_type": "markdown",
   "id": "92aaf3c6-46c2-4bdf-98ab-5b459e24d1c9",
   "metadata": {},
   "source": [
    "__After dropping a variable we build the second model__"
   ]
  },
  {
   "cell_type": "code",
   "execution_count": 63,
   "id": "082b37d4-6913-4097-89ef-24b72c1dee12",
   "metadata": {},
   "outputs": [
    {
     "data": {
      "text/html": [
       "<table class=\"simpletable\">\n",
       "<caption>Generalized Linear Model Regression Results</caption>\n",
       "<tr>\n",
       "  <th>Dep. Variable:</th>       <td>Converted</td>    <th>  No. Observations:  </th>  <td>  6468</td> \n",
       "</tr>\n",
       "<tr>\n",
       "  <th>Model:</th>                  <td>GLM</td>       <th>  Df Residuals:      </th>  <td>  6453</td> \n",
       "</tr>\n",
       "<tr>\n",
       "  <th>Model Family:</th>        <td>Binomial</td>     <th>  Df Model:          </th>  <td>    14</td> \n",
       "</tr>\n",
       "<tr>\n",
       "  <th>Link Function:</th>         <td>logit</td>      <th>  Scale:             </th> <td>  1.0000</td>\n",
       "</tr>\n",
       "<tr>\n",
       "  <th>Method:</th>                <td>IRLS</td>       <th>  Log-Likelihood:    </th> <td> -2082.3</td>\n",
       "</tr>\n",
       "<tr>\n",
       "  <th>Date:</th>            <td>Tue, 09 Aug 2022</td> <th>  Deviance:          </th> <td>  4164.6</td>\n",
       "</tr>\n",
       "<tr>\n",
       "  <th>Time:</th>                <td>21:27:55</td>     <th>  Pearson chi2:      </th> <td>1.16e+04</td>\n",
       "</tr>\n",
       "<tr>\n",
       "  <th>No. Iterations:</th>         <td>20</td>        <th>                     </th>     <td> </td>   \n",
       "</tr>\n",
       "<tr>\n",
       "  <th>Covariance Type:</th>     <td>nonrobust</td>    <th>                     </th>     <td> </td>   \n",
       "</tr>\n",
       "</table>\n",
       "<table class=\"simpletable\">\n",
       "<tr>\n",
       "                            <td></td>                              <th>coef</th>     <th>std err</th>      <th>z</th>      <th>P>|z|</th>  <th>[0.025</th>    <th>0.975]</th>  \n",
       "</tr>\n",
       "<tr>\n",
       "  <th>const</th>                                                <td>   -4.0051</td> <td>    0.200</td> <td>  -20.018</td> <td> 0.000</td> <td>   -4.397</td> <td>   -3.613</td>\n",
       "</tr>\n",
       "<tr>\n",
       "  <th>Do Not Email</th>                                         <td>   -1.4352</td> <td>    0.171</td> <td>   -8.381</td> <td> 0.000</td> <td>   -1.771</td> <td>   -1.100</td>\n",
       "</tr>\n",
       "<tr>\n",
       "  <th>Lead Origin_Lead Add Form</th>                            <td>    2.4128</td> <td>    0.213</td> <td>   11.342</td> <td> 0.000</td> <td>    1.996</td> <td>    2.830</td>\n",
       "</tr>\n",
       "<tr>\n",
       "  <th>Last Activity_Olark Chat Conversation</th>                <td>   -1.7054</td> <td>    0.164</td> <td>  -10.394</td> <td> 0.000</td> <td>   -2.027</td> <td>   -1.384</td>\n",
       "</tr>\n",
       "<tr>\n",
       "  <th>What is your current occupation_Working Professional</th> <td>    2.8789</td> <td>    0.230</td> <td>   12.535</td> <td> 0.000</td> <td>    2.429</td> <td>    3.329</td>\n",
       "</tr>\n",
       "<tr>\n",
       "  <th>Tags_Busy</th>                                            <td>    2.9285</td> <td>    0.292</td> <td>   10.027</td> <td> 0.000</td> <td>    2.356</td> <td>    3.501</td>\n",
       "</tr>\n",
       "<tr>\n",
       "  <th>Tags_Closed by Horizzon</th>                              <td>    8.6576</td> <td>    1.025</td> <td>    8.443</td> <td> 0.000</td> <td>    6.648</td> <td>   10.667</td>\n",
       "</tr>\n",
       "<tr>\n",
       "  <th>Tags_Interested in Next batch</th>                        <td>   23.3148</td> <td> 1.21e+04</td> <td>    0.002</td> <td> 0.998</td> <td>-2.37e+04</td> <td> 2.37e+04</td>\n",
       "</tr>\n",
       "<tr>\n",
       "  <th>Tags_Lost to EINS</th>                                    <td>    8.1489</td> <td>    0.748</td> <td>   10.895</td> <td> 0.000</td> <td>    6.683</td> <td>    9.615</td>\n",
       "</tr>\n",
       "<tr>\n",
       "  <th>Tags_Ringing</th>                                         <td>   -1.1940</td> <td>    0.299</td> <td>   -3.991</td> <td> 0.000</td> <td>   -1.780</td> <td>   -0.608</td>\n",
       "</tr>\n",
       "<tr>\n",
       "  <th>Tags_Will revert after reading the email</th>             <td>    3.5002</td> <td>    0.201</td> <td>   17.394</td> <td> 0.000</td> <td>    3.106</td> <td>    3.895</td>\n",
       "</tr>\n",
       "<tr>\n",
       "  <th>Tags_in touch with EINS</th>                              <td>    2.8500</td> <td>    0.760</td> <td>    3.749</td> <td> 0.000</td> <td>    1.360</td> <td>    4.340</td>\n",
       "</tr>\n",
       "<tr>\n",
       "  <th>Tags_switched off</th>                                    <td>   -1.3590</td> <td>    0.552</td> <td>   -2.463</td> <td> 0.014</td> <td>   -2.440</td> <td>   -0.278</td>\n",
       "</tr>\n",
       "<tr>\n",
       "  <th>Last Notable Activity_Had a Phone Conversation</th>       <td>    3.5174</td> <td>    1.295</td> <td>    2.715</td> <td> 0.007</td> <td>    0.978</td> <td>    6.056</td>\n",
       "</tr>\n",
       "<tr>\n",
       "  <th>Last Notable Activity_SMS Sent</th>                       <td>    2.4790</td> <td>    0.109</td> <td>   22.799</td> <td> 0.000</td> <td>    2.266</td> <td>    2.692</td>\n",
       "</tr>\n",
       "</table>"
      ],
      "text/plain": [
       "<class 'statsmodels.iolib.summary.Summary'>\n",
       "\"\"\"\n",
       "                 Generalized Linear Model Regression Results                  \n",
       "==============================================================================\n",
       "Dep. Variable:              Converted   No. Observations:                 6468\n",
       "Model:                            GLM   Df Residuals:                     6453\n",
       "Model Family:                Binomial   Df Model:                           14\n",
       "Link Function:                  logit   Scale:                          1.0000\n",
       "Method:                          IRLS   Log-Likelihood:                -2082.3\n",
       "Date:                Tue, 09 Aug 2022   Deviance:                       4164.6\n",
       "Time:                        21:27:55   Pearson chi2:                 1.16e+04\n",
       "No. Iterations:                    20                                         \n",
       "Covariance Type:            nonrobust                                         \n",
       "========================================================================================================================\n",
       "                                                           coef    std err          z      P>|z|      [0.025      0.975]\n",
       "------------------------------------------------------------------------------------------------------------------------\n",
       "const                                                   -4.0051      0.200    -20.018      0.000      -4.397      -3.613\n",
       "Do Not Email                                            -1.4352      0.171     -8.381      0.000      -1.771      -1.100\n",
       "Lead Origin_Lead Add Form                                2.4128      0.213     11.342      0.000       1.996       2.830\n",
       "Last Activity_Olark Chat Conversation                   -1.7054      0.164    -10.394      0.000      -2.027      -1.384\n",
       "What is your current occupation_Working Professional     2.8789      0.230     12.535      0.000       2.429       3.329\n",
       "Tags_Busy                                                2.9285      0.292     10.027      0.000       2.356       3.501\n",
       "Tags_Closed by Horizzon                                  8.6576      1.025      8.443      0.000       6.648      10.667\n",
       "Tags_Interested in Next batch                           23.3148   1.21e+04      0.002      0.998   -2.37e+04    2.37e+04\n",
       "Tags_Lost to EINS                                        8.1489      0.748     10.895      0.000       6.683       9.615\n",
       "Tags_Ringing                                            -1.1940      0.299     -3.991      0.000      -1.780      -0.608\n",
       "Tags_Will revert after reading the email                 3.5002      0.201     17.394      0.000       3.106       3.895\n",
       "Tags_in touch with EINS                                  2.8500      0.760      3.749      0.000       1.360       4.340\n",
       "Tags_switched off                                       -1.3590      0.552     -2.463      0.014      -2.440      -0.278\n",
       "Last Notable Activity_Had a Phone Conversation           3.5174      1.295      2.715      0.007       0.978       6.056\n",
       "Last Notable Activity_SMS Sent                           2.4790      0.109     22.799      0.000       2.266       2.692\n",
       "========================================================================================================================\n",
       "\"\"\""
      ]
     },
     "execution_count": 63,
     "metadata": {},
     "output_type": "execute_result"
    }
   ],
   "source": [
    "X_train_sm = sm.add_constant(X_train[col])\n",
    "logit2 = sm.GLM(y_train ,X_train_sm,family = sm.families.Binomial())\n",
    "logit_model2 = logit2.fit()\n",
    "logit_model2.summary()"
   ]
  },
  {
   "cell_type": "code",
   "execution_count": 64,
   "id": "fffed712-8f10-40fc-9c96-d4c9b16e054c",
   "metadata": {},
   "outputs": [
    {
     "data": {
      "text/plain": [
       "Index(['Do Not Email', 'Lead Origin_Lead Add Form',\n",
       "       'Last Activity_Olark Chat Conversation',\n",
       "       'What is your current occupation_Working Professional', 'Tags_Busy',\n",
       "       'Tags_Closed by Horizzon', 'Tags_Lost to EINS', 'Tags_Ringing',\n",
       "       'Tags_Will revert after reading the email', 'Tags_in touch with EINS',\n",
       "       'Tags_switched off', 'Last Notable Activity_Had a Phone Conversation',\n",
       "       'Last Notable Activity_SMS Sent'],\n",
       "      dtype='object')"
      ]
     },
     "execution_count": 64,
     "metadata": {},
     "output_type": "execute_result"
    }
   ],
   "source": [
    "# we drop Tags_interested in next batch as well because the significance level has not improved from its p- value\n",
    "col = col.drop('Tags_Interested in Next batch')\n",
    "col"
   ]
  },
  {
   "cell_type": "markdown",
   "id": "4b912bc0-45f1-4de7-a2e7-5461a639fd2b",
   "metadata": {},
   "source": [
    "__We rebuild the Third model__"
   ]
  },
  {
   "cell_type": "code",
   "execution_count": 65,
   "id": "22edd958-2c8d-44ce-8ded-d87d9e8b11f8",
   "metadata": {},
   "outputs": [
    {
     "data": {
      "text/html": [
       "<table class=\"simpletable\">\n",
       "<caption>Generalized Linear Model Regression Results</caption>\n",
       "<tr>\n",
       "  <th>Dep. Variable:</th>       <td>Converted</td>    <th>  No. Observations:  </th>  <td>  6468</td> \n",
       "</tr>\n",
       "<tr>\n",
       "  <th>Model:</th>                  <td>GLM</td>       <th>  Df Residuals:      </th>  <td>  6454</td> \n",
       "</tr>\n",
       "<tr>\n",
       "  <th>Model Family:</th>        <td>Binomial</td>     <th>  Df Model:          </th>  <td>    13</td> \n",
       "</tr>\n",
       "<tr>\n",
       "  <th>Link Function:</th>         <td>logit</td>      <th>  Scale:             </th> <td>  1.0000</td>\n",
       "</tr>\n",
       "<tr>\n",
       "  <th>Method:</th>                <td>IRLS</td>       <th>  Log-Likelihood:    </th> <td> -2090.5</td>\n",
       "</tr>\n",
       "<tr>\n",
       "  <th>Date:</th>            <td>Tue, 09 Aug 2022</td> <th>  Deviance:          </th> <td>  4181.1</td>\n",
       "</tr>\n",
       "<tr>\n",
       "  <th>Time:</th>                <td>21:27:55</td>     <th>  Pearson chi2:      </th> <td>1.14e+04</td>\n",
       "</tr>\n",
       "<tr>\n",
       "  <th>No. Iterations:</th>          <td>8</td>        <th>                     </th>     <td> </td>   \n",
       "</tr>\n",
       "<tr>\n",
       "  <th>Covariance Type:</th>     <td>nonrobust</td>    <th>                     </th>     <td> </td>   \n",
       "</tr>\n",
       "</table>\n",
       "<table class=\"simpletable\">\n",
       "<tr>\n",
       "                            <td></td>                              <th>coef</th>     <th>std err</th>      <th>z</th>      <th>P>|z|</th>  <th>[0.025</th>    <th>0.975]</th>  \n",
       "</tr>\n",
       "<tr>\n",
       "  <th>const</th>                                                <td>   -3.8818</td> <td>    0.188</td> <td>  -20.594</td> <td> 0.000</td> <td>   -4.251</td> <td>   -3.512</td>\n",
       "</tr>\n",
       "<tr>\n",
       "  <th>Do Not Email</th>                                         <td>   -1.4143</td> <td>    0.170</td> <td>   -8.306</td> <td> 0.000</td> <td>   -1.748</td> <td>   -1.081</td>\n",
       "</tr>\n",
       "<tr>\n",
       "  <th>Lead Origin_Lead Add Form</th>                            <td>    2.4157</td> <td>    0.212</td> <td>   11.395</td> <td> 0.000</td> <td>    2.000</td> <td>    2.831</td>\n",
       "</tr>\n",
       "<tr>\n",
       "  <th>Last Activity_Olark Chat Conversation</th>                <td>   -1.7018</td> <td>    0.164</td> <td>  -10.380</td> <td> 0.000</td> <td>   -2.023</td> <td>   -1.380</td>\n",
       "</tr>\n",
       "<tr>\n",
       "  <th>What is your current occupation_Working Professional</th> <td>    2.8545</td> <td>    0.227</td> <td>   12.575</td> <td> 0.000</td> <td>    2.410</td> <td>    3.299</td>\n",
       "</tr>\n",
       "<tr>\n",
       "  <th>Tags_Busy</th>                                            <td>    2.7904</td> <td>    0.285</td> <td>    9.806</td> <td> 0.000</td> <td>    2.233</td> <td>    3.348</td>\n",
       "</tr>\n",
       "<tr>\n",
       "  <th>Tags_Closed by Horizzon</th>                              <td>    8.5334</td> <td>    1.023</td> <td>    8.340</td> <td> 0.000</td> <td>    6.528</td> <td>   10.539</td>\n",
       "</tr>\n",
       "<tr>\n",
       "  <th>Tags_Lost to EINS</th>                                    <td>    8.0240</td> <td>    0.745</td> <td>   10.772</td> <td> 0.000</td> <td>    6.564</td> <td>    9.484</td>\n",
       "</tr>\n",
       "<tr>\n",
       "  <th>Tags_Ringing</th>                                         <td>   -1.3429</td> <td>    0.291</td> <td>   -4.611</td> <td> 0.000</td> <td>   -1.914</td> <td>   -0.772</td>\n",
       "</tr>\n",
       "<tr>\n",
       "  <th>Tags_Will revert after reading the email</th>             <td>    3.3717</td> <td>    0.190</td> <td>   17.778</td> <td> 0.000</td> <td>    3.000</td> <td>    3.743</td>\n",
       "</tr>\n",
       "<tr>\n",
       "  <th>Tags_in touch with EINS</th>                              <td>    2.7239</td> <td>    0.758</td> <td>    3.592</td> <td> 0.000</td> <td>    1.238</td> <td>    4.210</td>\n",
       "</tr>\n",
       "<tr>\n",
       "  <th>Tags_switched off</th>                                    <td>   -1.5079</td> <td>    0.548</td> <td>   -2.754</td> <td> 0.006</td> <td>   -2.581</td> <td>   -0.435</td>\n",
       "</tr>\n",
       "<tr>\n",
       "  <th>Last Notable Activity_Had a Phone Conversation</th>       <td>    3.4726</td> <td>    1.273</td> <td>    2.728</td> <td> 0.006</td> <td>    0.978</td> <td>    5.968</td>\n",
       "</tr>\n",
       "<tr>\n",
       "  <th>Last Notable Activity_SMS Sent</th>                       <td>    2.5090</td> <td>    0.109</td> <td>   23.031</td> <td> 0.000</td> <td>    2.295</td> <td>    2.722</td>\n",
       "</tr>\n",
       "</table>"
      ],
      "text/plain": [
       "<class 'statsmodels.iolib.summary.Summary'>\n",
       "\"\"\"\n",
       "                 Generalized Linear Model Regression Results                  \n",
       "==============================================================================\n",
       "Dep. Variable:              Converted   No. Observations:                 6468\n",
       "Model:                            GLM   Df Residuals:                     6454\n",
       "Model Family:                Binomial   Df Model:                           13\n",
       "Link Function:                  logit   Scale:                          1.0000\n",
       "Method:                          IRLS   Log-Likelihood:                -2090.5\n",
       "Date:                Tue, 09 Aug 2022   Deviance:                       4181.1\n",
       "Time:                        21:27:55   Pearson chi2:                 1.14e+04\n",
       "No. Iterations:                     8                                         \n",
       "Covariance Type:            nonrobust                                         \n",
       "========================================================================================================================\n",
       "                                                           coef    std err          z      P>|z|      [0.025      0.975]\n",
       "------------------------------------------------------------------------------------------------------------------------\n",
       "const                                                   -3.8818      0.188    -20.594      0.000      -4.251      -3.512\n",
       "Do Not Email                                            -1.4143      0.170     -8.306      0.000      -1.748      -1.081\n",
       "Lead Origin_Lead Add Form                                2.4157      0.212     11.395      0.000       2.000       2.831\n",
       "Last Activity_Olark Chat Conversation                   -1.7018      0.164    -10.380      0.000      -2.023      -1.380\n",
       "What is your current occupation_Working Professional     2.8545      0.227     12.575      0.000       2.410       3.299\n",
       "Tags_Busy                                                2.7904      0.285      9.806      0.000       2.233       3.348\n",
       "Tags_Closed by Horizzon                                  8.5334      1.023      8.340      0.000       6.528      10.539\n",
       "Tags_Lost to EINS                                        8.0240      0.745     10.772      0.000       6.564       9.484\n",
       "Tags_Ringing                                            -1.3429      0.291     -4.611      0.000      -1.914      -0.772\n",
       "Tags_Will revert after reading the email                 3.3717      0.190     17.778      0.000       3.000       3.743\n",
       "Tags_in touch with EINS                                  2.7239      0.758      3.592      0.000       1.238       4.210\n",
       "Tags_switched off                                       -1.5079      0.548     -2.754      0.006      -2.581      -0.435\n",
       "Last Notable Activity_Had a Phone Conversation           3.4726      1.273      2.728      0.006       0.978       5.968\n",
       "Last Notable Activity_SMS Sent                           2.5090      0.109     23.031      0.000       2.295       2.722\n",
       "========================================================================================================================\n",
       "\"\"\""
      ]
     },
     "execution_count": 65,
     "metadata": {},
     "output_type": "execute_result"
    }
   ],
   "source": [
    "X_train_sm = sm.add_constant(X_train[col])\n",
    "logit3 = sm.GLM(y_train ,X_train_sm,family = sm.families.Binomial())\n",
    "logit_model3 = logit3.fit()\n",
    "logit_model3.summary()"
   ]
  },
  {
   "cell_type": "markdown",
   "id": "7f8d200e-4e13-48cb-aee5-05e447e7bf91",
   "metadata": {},
   "source": [
    "__Now All the above features have significant p-values so we do not drop any furthur columns__"
   ]
  },
  {
   "cell_type": "code",
   "execution_count": 66,
   "id": "4e3f36bb-7ef0-45da-9c98-6b8eedbbb429",
   "metadata": {},
   "outputs": [],
   "source": [
    "# We check for multicollinearity between variables using VIF\n",
    "from statsmodels.stats.outliers_influence import variance_inflation_factor"
   ]
  },
  {
   "cell_type": "code",
   "execution_count": 67,
   "id": "75aaf345-14a3-49ce-9d5f-ed80690a5996",
   "metadata": {},
   "outputs": [
    {
     "data": {
      "text/html": [
       "<div>\n",
       "<style scoped>\n",
       "    .dataframe tbody tr th:only-of-type {\n",
       "        vertical-align: middle;\n",
       "    }\n",
       "\n",
       "    .dataframe tbody tr th {\n",
       "        vertical-align: top;\n",
       "    }\n",
       "\n",
       "    .dataframe thead th {\n",
       "        text-align: right;\n",
       "    }\n",
       "</style>\n",
       "<table border=\"1\" class=\"dataframe\">\n",
       "  <thead>\n",
       "    <tr style=\"text-align: right;\">\n",
       "      <th></th>\n",
       "      <th>features</th>\n",
       "      <th>vif</th>\n",
       "    </tr>\n",
       "  </thead>\n",
       "  <tbody>\n",
       "    <tr>\n",
       "      <th>0</th>\n",
       "      <td>const</td>\n",
       "      <td>6.128651</td>\n",
       "    </tr>\n",
       "    <tr>\n",
       "      <th>9</th>\n",
       "      <td>Tags_Will revert after reading the email</td>\n",
       "      <td>1.873031</td>\n",
       "    </tr>\n",
       "    <tr>\n",
       "      <th>8</th>\n",
       "      <td>Tags_Ringing</td>\n",
       "      <td>1.575313</td>\n",
       "    </tr>\n",
       "    <tr>\n",
       "      <th>6</th>\n",
       "      <td>Tags_Closed by Horizzon</td>\n",
       "      <td>1.364268</td>\n",
       "    </tr>\n",
       "    <tr>\n",
       "      <th>2</th>\n",
       "      <td>Lead Origin_Lead Add Form</td>\n",
       "      <td>1.201378</td>\n",
       "    </tr>\n",
       "    <tr>\n",
       "      <th>13</th>\n",
       "      <td>Last Notable Activity_SMS Sent</td>\n",
       "      <td>1.157102</td>\n",
       "    </tr>\n",
       "    <tr>\n",
       "      <th>11</th>\n",
       "      <td>Tags_switched off</td>\n",
       "      <td>1.147691</td>\n",
       "    </tr>\n",
       "    <tr>\n",
       "      <th>5</th>\n",
       "      <td>Tags_Busy</td>\n",
       "      <td>1.113735</td>\n",
       "    </tr>\n",
       "    <tr>\n",
       "      <th>4</th>\n",
       "      <td>What is your current occupation_Working Profes...</td>\n",
       "      <td>1.092352</td>\n",
       "    </tr>\n",
       "    <tr>\n",
       "      <th>7</th>\n",
       "      <td>Tags_Lost to EINS</td>\n",
       "      <td>1.085516</td>\n",
       "    </tr>\n",
       "    <tr>\n",
       "      <th>3</th>\n",
       "      <td>Last Activity_Olark Chat Conversation</td>\n",
       "      <td>1.069544</td>\n",
       "    </tr>\n",
       "    <tr>\n",
       "      <th>1</th>\n",
       "      <td>Do Not Email</td>\n",
       "      <td>1.019084</td>\n",
       "    </tr>\n",
       "    <tr>\n",
       "      <th>10</th>\n",
       "      <td>Tags_in touch with EINS</td>\n",
       "      <td>1.008211</td>\n",
       "    </tr>\n",
       "    <tr>\n",
       "      <th>12</th>\n",
       "      <td>Last Notable Activity_Had a Phone Conversation</td>\n",
       "      <td>1.002576</td>\n",
       "    </tr>\n",
       "  </tbody>\n",
       "</table>\n",
       "</div>"
      ],
      "text/plain": [
       "                                             features       vif\n",
       "0                                               const  6.128651\n",
       "9            Tags_Will revert after reading the email  1.873031\n",
       "8                                        Tags_Ringing  1.575313\n",
       "6                             Tags_Closed by Horizzon  1.364268\n",
       "2                           Lead Origin_Lead Add Form  1.201378\n",
       "13                     Last Notable Activity_SMS Sent  1.157102\n",
       "11                                  Tags_switched off  1.147691\n",
       "5                                           Tags_Busy  1.113735\n",
       "4   What is your current occupation_Working Profes...  1.092352\n",
       "7                                   Tags_Lost to EINS  1.085516\n",
       "3               Last Activity_Olark Chat Conversation  1.069544\n",
       "1                                        Do Not Email  1.019084\n",
       "10                            Tags_in touch with EINS  1.008211\n",
       "12     Last Notable Activity_Had a Phone Conversation  1.002576"
      ]
     },
     "execution_count": 67,
     "metadata": {},
     "output_type": "execute_result"
    }
   ],
   "source": [
    "vif = pd.DataFrame()\n",
    "\n",
    "vif['features'] = X_train_sm.columns\n",
    "vif['vif'] = [variance_inflation_factor(X_train_sm.values,i) for i in range(0,X_train_sm.shape[1])]\n",
    "vif = vif.sort_values(by = 'vif',ascending = False)\n",
    "vif"
   ]
  },
  {
   "cell_type": "markdown",
   "id": "7c6aa594-991c-4047-8fd7-52e1d19ec30d",
   "metadata": {},
   "source": [
    "__All the above VIF's are < 5 which indicates all the features are non collinear, now we stop the model building process__"
   ]
  },
  {
   "cell_type": "code",
   "execution_count": 68,
   "id": "dd5603f7-0817-48f0-9364-d1617577f657",
   "metadata": {},
   "outputs": [
    {
     "data": {
      "text/plain": [
       "1871    0.005354\n",
       "6795    0.375188\n",
       "3516    0.005354\n",
       "8105    0.062056\n",
       "3934    0.375188\n",
       "          ...   \n",
       "350     0.870530\n",
       "79      0.991508\n",
       "8039    0.375188\n",
       "6936    0.020198\n",
       "5640    0.375188\n",
       "Length: 6468, dtype: float64"
      ]
     },
     "execution_count": 68,
     "metadata": {},
     "output_type": "execute_result"
    }
   ],
   "source": [
    "y_train_pred = logit_model3.predict(X_train_sm)\n",
    "y_train_pred"
   ]
  },
  {
   "cell_type": "code",
   "execution_count": 69,
   "id": "fdfa2499-b65e-4bb8-a809-565677784a4b",
   "metadata": {},
   "outputs": [
    {
     "data": {
      "text/plain": [
       "array([0.00535355, 0.37518844, 0.00535355, ..., 0.37518844, 0.02019793,\n",
       "       0.37518844])"
      ]
     },
     "execution_count": 69,
     "metadata": {},
     "output_type": "execute_result"
    }
   ],
   "source": [
    "y_train_pred = logit_model3.predict(X_train_sm).values.reshape(-1)\n",
    "y_train_pred"
   ]
  },
  {
   "cell_type": "markdown",
   "id": "d1e47784-d65c-49ba-842f-6aacf63f5a16",
   "metadata": {},
   "source": [
    "__Here we got the probabilities for the 'converted' column based on the features that we used for model building using logistic regression algorithm. This logistic algorithm assigns the probabilities for the leads and we use them to recommend high probability leads to X Education__"
   ]
  },
  {
   "cell_type": "code",
   "execution_count": 70,
   "id": "48ef9e60-6281-4c53-b2e6-2ecc41851b6b",
   "metadata": {},
   "outputs": [
    {
     "data": {
      "text/plain": [
       "array([0, 0, 0, ..., 1, 0, 0], dtype=int64)"
      ]
     },
     "execution_count": 70,
     "metadata": {},
     "output_type": "execute_result"
    }
   ],
   "source": [
    "y_train.values"
   ]
  },
  {
   "cell_type": "code",
   "execution_count": 71,
   "id": "cbf8050c-a7b4-46a8-ae77-35233c85e9f3",
   "metadata": {},
   "outputs": [
    {
     "data": {
      "text/html": [
       "<div>\n",
       "<style scoped>\n",
       "    .dataframe tbody tr th:only-of-type {\n",
       "        vertical-align: middle;\n",
       "    }\n",
       "\n",
       "    .dataframe tbody tr th {\n",
       "        vertical-align: top;\n",
       "    }\n",
       "\n",
       "    .dataframe thead th {\n",
       "        text-align: right;\n",
       "    }\n",
       "</style>\n",
       "<table border=\"1\" class=\"dataframe\">\n",
       "  <thead>\n",
       "    <tr style=\"text-align: right;\">\n",
       "      <th></th>\n",
       "      <th>converted</th>\n",
       "      <th>converted_prob</th>\n",
       "      <th>lead_index</th>\n",
       "    </tr>\n",
       "  </thead>\n",
       "  <tbody>\n",
       "    <tr>\n",
       "      <th>0</th>\n",
       "      <td>0</td>\n",
       "      <td>0.005354</td>\n",
       "      <td>1871</td>\n",
       "    </tr>\n",
       "    <tr>\n",
       "      <th>1</th>\n",
       "      <td>0</td>\n",
       "      <td>0.375188</td>\n",
       "      <td>6795</td>\n",
       "    </tr>\n",
       "    <tr>\n",
       "      <th>2</th>\n",
       "      <td>0</td>\n",
       "      <td>0.005354</td>\n",
       "      <td>3516</td>\n",
       "    </tr>\n",
       "    <tr>\n",
       "      <th>3</th>\n",
       "      <td>0</td>\n",
       "      <td>0.062056</td>\n",
       "      <td>8105</td>\n",
       "    </tr>\n",
       "    <tr>\n",
       "      <th>4</th>\n",
       "      <td>0</td>\n",
       "      <td>0.375188</td>\n",
       "      <td>3934</td>\n",
       "    </tr>\n",
       "    <tr>\n",
       "      <th>...</th>\n",
       "      <td>...</td>\n",
       "      <td>...</td>\n",
       "      <td>...</td>\n",
       "    </tr>\n",
       "    <tr>\n",
       "      <th>6463</th>\n",
       "      <td>1</td>\n",
       "      <td>0.870530</td>\n",
       "      <td>350</td>\n",
       "    </tr>\n",
       "    <tr>\n",
       "      <th>6464</th>\n",
       "      <td>1</td>\n",
       "      <td>0.991508</td>\n",
       "      <td>79</td>\n",
       "    </tr>\n",
       "    <tr>\n",
       "      <th>6465</th>\n",
       "      <td>1</td>\n",
       "      <td>0.375188</td>\n",
       "      <td>8039</td>\n",
       "    </tr>\n",
       "    <tr>\n",
       "      <th>6466</th>\n",
       "      <td>0</td>\n",
       "      <td>0.020198</td>\n",
       "      <td>6936</td>\n",
       "    </tr>\n",
       "    <tr>\n",
       "      <th>6467</th>\n",
       "      <td>0</td>\n",
       "      <td>0.375188</td>\n",
       "      <td>5640</td>\n",
       "    </tr>\n",
       "  </tbody>\n",
       "</table>\n",
       "<p>6468 rows × 3 columns</p>\n",
       "</div>"
      ],
      "text/plain": [
       "      converted  converted_prob  lead_index\n",
       "0             0        0.005354        1871\n",
       "1             0        0.375188        6795\n",
       "2             0        0.005354        3516\n",
       "3             0        0.062056        8105\n",
       "4             0        0.375188        3934\n",
       "...         ...             ...         ...\n",
       "6463          1        0.870530         350\n",
       "6464          1        0.991508          79\n",
       "6465          1        0.375188        8039\n",
       "6466          0        0.020198        6936\n",
       "6467          0        0.375188        5640\n",
       "\n",
       "[6468 rows x 3 columns]"
      ]
     },
     "execution_count": 71,
     "metadata": {},
     "output_type": "execute_result"
    }
   ],
   "source": [
    "## We create a DataFrame such that actual and predicted are shown in the y_train_pred_final\n",
    "y_train_pred_final = pd.DataFrame({'converted': y_train.values, 'converted_prob' : y_train_pred})\n",
    "y_train_pred_final['lead_index'] = y_train.index\n",
    "y_train_pred_final\n",
    "                                "
   ]
  },
  {
   "cell_type": "markdown",
   "id": "eb3134e1-30ff-41ae-bcbd-3c755f46cd0f",
   "metadata": {},
   "source": [
    "__Now we choose a random cutoff at 0.5 and find the evaluation metrics__"
   ]
  },
  {
   "cell_type": "code",
   "execution_count": 72,
   "id": "9b12c0cb-bd30-4af2-b205-a7d73a59ec64",
   "metadata": {},
   "outputs": [
    {
     "data": {
      "text/html": [
       "<div>\n",
       "<style scoped>\n",
       "    .dataframe tbody tr th:only-of-type {\n",
       "        vertical-align: middle;\n",
       "    }\n",
       "\n",
       "    .dataframe tbody tr th {\n",
       "        vertical-align: top;\n",
       "    }\n",
       "\n",
       "    .dataframe thead th {\n",
       "        text-align: right;\n",
       "    }\n",
       "</style>\n",
       "<table border=\"1\" class=\"dataframe\">\n",
       "  <thead>\n",
       "    <tr style=\"text-align: right;\">\n",
       "      <th></th>\n",
       "      <th>converted</th>\n",
       "      <th>converted_prob</th>\n",
       "      <th>lead_index</th>\n",
       "      <th>predicted</th>\n",
       "    </tr>\n",
       "  </thead>\n",
       "  <tbody>\n",
       "    <tr>\n",
       "      <th>0</th>\n",
       "      <td>0</td>\n",
       "      <td>0.005354</td>\n",
       "      <td>1871</td>\n",
       "      <td>0</td>\n",
       "    </tr>\n",
       "    <tr>\n",
       "      <th>1</th>\n",
       "      <td>0</td>\n",
       "      <td>0.375188</td>\n",
       "      <td>6795</td>\n",
       "      <td>0</td>\n",
       "    </tr>\n",
       "    <tr>\n",
       "      <th>2</th>\n",
       "      <td>0</td>\n",
       "      <td>0.005354</td>\n",
       "      <td>3516</td>\n",
       "      <td>0</td>\n",
       "    </tr>\n",
       "    <tr>\n",
       "      <th>3</th>\n",
       "      <td>0</td>\n",
       "      <td>0.062056</td>\n",
       "      <td>8105</td>\n",
       "      <td>0</td>\n",
       "    </tr>\n",
       "    <tr>\n",
       "      <th>4</th>\n",
       "      <td>0</td>\n",
       "      <td>0.375188</td>\n",
       "      <td>3934</td>\n",
       "      <td>0</td>\n",
       "    </tr>\n",
       "    <tr>\n",
       "      <th>...</th>\n",
       "      <td>...</td>\n",
       "      <td>...</td>\n",
       "      <td>...</td>\n",
       "      <td>...</td>\n",
       "    </tr>\n",
       "    <tr>\n",
       "      <th>6463</th>\n",
       "      <td>1</td>\n",
       "      <td>0.870530</td>\n",
       "      <td>350</td>\n",
       "      <td>1</td>\n",
       "    </tr>\n",
       "    <tr>\n",
       "      <th>6464</th>\n",
       "      <td>1</td>\n",
       "      <td>0.991508</td>\n",
       "      <td>79</td>\n",
       "      <td>1</td>\n",
       "    </tr>\n",
       "    <tr>\n",
       "      <th>6465</th>\n",
       "      <td>1</td>\n",
       "      <td>0.375188</td>\n",
       "      <td>8039</td>\n",
       "      <td>0</td>\n",
       "    </tr>\n",
       "    <tr>\n",
       "      <th>6466</th>\n",
       "      <td>0</td>\n",
       "      <td>0.020198</td>\n",
       "      <td>6936</td>\n",
       "      <td>0</td>\n",
       "    </tr>\n",
       "    <tr>\n",
       "      <th>6467</th>\n",
       "      <td>0</td>\n",
       "      <td>0.375188</td>\n",
       "      <td>5640</td>\n",
       "      <td>0</td>\n",
       "    </tr>\n",
       "  </tbody>\n",
       "</table>\n",
       "<p>6468 rows × 4 columns</p>\n",
       "</div>"
      ],
      "text/plain": [
       "      converted  converted_prob  lead_index  predicted\n",
       "0             0        0.005354        1871          0\n",
       "1             0        0.375188        6795          0\n",
       "2             0        0.005354        3516          0\n",
       "3             0        0.062056        8105          0\n",
       "4             0        0.375188        3934          0\n",
       "...         ...             ...         ...        ...\n",
       "6463          1        0.870530         350          1\n",
       "6464          1        0.991508          79          1\n",
       "6465          1        0.375188        8039          0\n",
       "6466          0        0.020198        6936          0\n",
       "6467          0        0.375188        5640          0\n",
       "\n",
       "[6468 rows x 4 columns]"
      ]
     },
     "execution_count": 72,
     "metadata": {},
     "output_type": "execute_result"
    }
   ],
   "source": [
    "y_train_pred_final['predicted'] = y_train_pred_final.converted_prob.map(lambda x: 1 if x > 0.5 else 0)\n",
    "y_train_pred_final"
   ]
  },
  {
   "cell_type": "markdown",
   "id": "ce41e5dc-6e0f-452a-ba5c-6e1ebc4c06a6",
   "metadata": {},
   "source": [
    "### Step 6: Model Evaluation"
   ]
  },
  {
   "cell_type": "code",
   "execution_count": 73,
   "id": "f1953e73-f903-4b2f-aff9-fe8e6fe8833c",
   "metadata": {},
   "outputs": [],
   "source": [
    "from sklearn import metrics"
   ]
  },
  {
   "cell_type": "code",
   "execution_count": 74,
   "id": "7b88f09b-c7be-472a-bc27-48ba4f6f18c3",
   "metadata": {},
   "outputs": [
    {
     "name": "stdout",
     "output_type": "stream",
     "text": [
      "[[3869  133]\n",
      " [ 786 1680]]\n"
     ]
    }
   ],
   "source": [
    "#Confusion matrix \n",
    "confusion_train = metrics.confusion_matrix(y_train_pred_final.converted, y_train_pred_final.predicted )\n",
    "print(confusion_train)"
   ]
  },
  {
   "cell_type": "code",
   "execution_count": 75,
   "id": "050b4fb4-f3f9-4249-b654-05cab0f7b342",
   "metadata": {},
   "outputs": [
    {
     "name": "stdout",
     "output_type": "stream",
     "text": [
      "0.8579158936301794\n"
     ]
    }
   ],
   "source": [
    "print(metrics.accuracy_score(y_train_pred_final.converted, y_train_pred_final.predicted))"
   ]
  },
  {
   "cell_type": "code",
   "execution_count": 76,
   "id": "243706df-a032-4176-a693-871f858aad95",
   "metadata": {},
   "outputs": [
    {
     "name": "stdout",
     "output_type": "stream",
     "text": [
      "0.7852301939705538\n"
     ]
    }
   ],
   "source": [
    "print(metrics.f1_score(y_train_pred_final.converted, y_train_pred_final.predicted))"
   ]
  },
  {
   "cell_type": "code",
   "execution_count": 77,
   "id": "ae87a39b-9ab2-4dcc-b032-9ffab93b0f85",
   "metadata": {},
   "outputs": [
    {
     "name": "stdout",
     "output_type": "stream",
     "text": [
      "0.9266409266409267\n"
     ]
    }
   ],
   "source": [
    "print(metrics.precision_score(y_train_pred_final.converted, y_train_pred_final.predicted))"
   ]
  },
  {
   "cell_type": "code",
   "execution_count": 78,
   "id": "23446fe4-9a8c-451d-8efd-3fa3f63a712f",
   "metadata": {},
   "outputs": [
    {
     "name": "stdout",
     "output_type": "stream",
     "text": [
      "0.681265206812652\n"
     ]
    }
   ],
   "source": [
    "print(metrics.recall_score(y_train_pred_final.converted, y_train_pred_final.predicted))"
   ]
  },
  {
   "cell_type": "code",
   "execution_count": 79,
   "id": "1bb1fdbb-8daa-4e46-81a4-6535f55a9ee4",
   "metadata": {},
   "outputs": [],
   "source": [
    "TP = confusion_train[1,1] # true positive \n",
    "TN = confusion_train[0,0] # true negatives\n",
    "FP = confusion_train[0,1] # false positives\n",
    "FN = confusion_train[1,0] # false negatives"
   ]
  },
  {
   "cell_type": "code",
   "execution_count": 80,
   "id": "00cdf3c5-a280-4ff0-8228-f405e1d42f02",
   "metadata": {},
   "outputs": [
    {
     "data": {
      "text/plain": [
       "0.681265206812652"
      ]
     },
     "execution_count": 80,
     "metadata": {},
     "output_type": "execute_result"
    }
   ],
   "source": [
    "# sensitivity: Predicted number of leads as converted out of Total converted\n",
    "TP / float(TP+FN)"
   ]
  },
  {
   "cell_type": "code",
   "execution_count": 81,
   "id": "9a6367c7-14e8-4075-a73a-2b3484dba0ff",
   "metadata": {},
   "outputs": [
    {
     "data": {
      "text/plain": [
       "0.9667666166916542"
      ]
     },
     "execution_count": 81,
     "metadata": {},
     "output_type": "execute_result"
    }
   ],
   "source": [
    "# specificity: predicted number of leads as non converted out of total non converted\n",
    "TN / float(TN+FP)"
   ]
  },
  {
   "cell_type": "code",
   "execution_count": 82,
   "id": "c613fe2a-3c43-49ed-b3d2-a5902d21f2f5",
   "metadata": {},
   "outputs": [
    {
     "name": "stdout",
     "output_type": "stream",
     "text": [
      "0.033233383308345826\n"
     ]
    }
   ],
   "source": [
    "# false postive rate : predicted the number of lead as converted when lead did not have converted\n",
    "print(FP/ float(TN+FP))"
   ]
  },
  {
   "cell_type": "code",
   "execution_count": 83,
   "id": "431f6db6-df81-4fdc-aeb6-d0fbff32001f",
   "metadata": {},
   "outputs": [
    {
     "name": "stdout",
     "output_type": "stream",
     "text": [
      "0.9266409266409267\n"
     ]
    }
   ],
   "source": [
    "# positive predictive value - Total positive correctly predicted / total positive predicted\n",
    "print (TP / float(TP+FP))"
   ]
  },
  {
   "cell_type": "code",
   "execution_count": 84,
   "id": "7296845b-3d35-456d-a2ab-f6f77de989a4",
   "metadata": {},
   "outputs": [
    {
     "name": "stdout",
     "output_type": "stream",
     "text": [
      "0.8311493018259936\n"
     ]
    }
   ],
   "source": [
    "# Negative predictive value - Total negative correctly predicted / total negative predicted\n",
    "print (TN / float(TN+ FN))"
   ]
  },
  {
   "cell_type": "code",
   "execution_count": 85,
   "id": "f254cb57-0fdc-45b5-9e6a-99e8664c1a3f",
   "metadata": {},
   "outputs": [],
   "source": [
    "def draw_roc( actual, probs ):\n",
    "    fpr, tpr, thresholds = metrics.roc_curve( actual, probs,\n",
    "                                              drop_intermediate = False )\n",
    "    auc_score = metrics.roc_auc_score( actual, probs )\n",
    "    plt.figure(figsize=(5, 5))\n",
    "    plt.plot( fpr, tpr, label='ROC curve (area = %0.2f)' % auc_score )\n",
    "    plt.plot([0, 1], [0, 1], 'k--')\n",
    "    plt.xlim([0.0, 1.0])\n",
    "    plt.ylim([0.0, 1.05])\n",
    "    plt.xlabel('False Positive Rate or [1 - True Negative Rate]')\n",
    "    plt.ylabel('True Positive Rate')\n",
    "    plt.title('Receiver operating characteristic example')\n",
    "    plt.legend(loc=\"lower right\")\n",
    "    plt.show()\n",
    "\n",
    "    return None"
   ]
  },
  {
   "cell_type": "code",
   "execution_count": 86,
   "id": "0938c31b-530a-43f3-8137-18ce41ee399f",
   "metadata": {},
   "outputs": [],
   "source": [
    "fpr, tpr, thresholds = metrics.roc_curve( y_train_pred_final.converted, y_train_pred_final.converted_prob, drop_intermediate = False )"
   ]
  },
  {
   "cell_type": "code",
   "execution_count": 87,
   "id": "b25a548e-599a-48bb-8cef-9f657ac3adaa",
   "metadata": {},
   "outputs": [
    {
     "data": {
      "image/png": "[encoded data removed]",
      "text/plain": [
       "<Figure size 360x360 with 1 Axes>"
      ]
     },
     "metadata": {
      "needs_background": "light"
     },
     "output_type": "display_data"
    }
   ],
   "source": [
    "draw_roc(y_train_pred_final.converted, y_train_pred_final.converted_prob)"
   ]
  },
  {
   "cell_type": "code",
   "execution_count": 88,
   "id": "a356c23f-7453-480a-a494-aa3b6e071548",
   "metadata": {},
   "outputs": [
    {
     "data": {
      "text/html": [
       "<div>\n",
       "<style scoped>\n",
       "    .dataframe tbody tr th:only-of-type {\n",
       "        vertical-align: middle;\n",
       "    }\n",
       "\n",
       "    .dataframe tbody tr th {\n",
       "        vertical-align: top;\n",
       "    }\n",
       "\n",
       "    .dataframe thead th {\n",
       "        text-align: right;\n",
       "    }\n",
       "</style>\n",
       "<table border=\"1\" class=\"dataframe\">\n",
       "  <thead>\n",
       "    <tr style=\"text-align: right;\">\n",
       "      <th></th>\n",
       "      <th>converted</th>\n",
       "      <th>converted_prob</th>\n",
       "      <th>lead_index</th>\n",
       "      <th>predicted</th>\n",
       "      <th>0.0</th>\n",
       "      <th>0.1</th>\n",
       "      <th>0.2</th>\n",
       "      <th>0.3</th>\n",
       "      <th>0.4</th>\n",
       "      <th>0.5</th>\n",
       "      <th>0.6</th>\n",
       "      <th>0.7</th>\n",
       "      <th>0.8</th>\n",
       "      <th>0.9</th>\n",
       "    </tr>\n",
       "  </thead>\n",
       "  <tbody>\n",
       "    <tr>\n",
       "      <th>0</th>\n",
       "      <td>0</td>\n",
       "      <td>0.005354</td>\n",
       "      <td>1871</td>\n",
       "      <td>0</td>\n",
       "      <td>1</td>\n",
       "      <td>0</td>\n",
       "      <td>0</td>\n",
       "      <td>0</td>\n",
       "      <td>0</td>\n",
       "      <td>0</td>\n",
       "      <td>0</td>\n",
       "      <td>0</td>\n",
       "      <td>0</td>\n",
       "      <td>0</td>\n",
       "    </tr>\n",
       "    <tr>\n",
       "      <th>1</th>\n",
       "      <td>0</td>\n",
       "      <td>0.375188</td>\n",
       "      <td>6795</td>\n",
       "      <td>0</td>\n",
       "      <td>1</td>\n",
       "      <td>1</td>\n",
       "      <td>1</td>\n",
       "      <td>1</td>\n",
       "      <td>0</td>\n",
       "      <td>0</td>\n",
       "      <td>0</td>\n",
       "      <td>0</td>\n",
       "      <td>0</td>\n",
       "      <td>0</td>\n",
       "    </tr>\n",
       "    <tr>\n",
       "      <th>2</th>\n",
       "      <td>0</td>\n",
       "      <td>0.005354</td>\n",
       "      <td>3516</td>\n",
       "      <td>0</td>\n",
       "      <td>1</td>\n",
       "      <td>0</td>\n",
       "      <td>0</td>\n",
       "      <td>0</td>\n",
       "      <td>0</td>\n",
       "      <td>0</td>\n",
       "      <td>0</td>\n",
       "      <td>0</td>\n",
       "      <td>0</td>\n",
       "      <td>0</td>\n",
       "    </tr>\n",
       "    <tr>\n",
       "      <th>3</th>\n",
       "      <td>0</td>\n",
       "      <td>0.062056</td>\n",
       "      <td>8105</td>\n",
       "      <td>0</td>\n",
       "      <td>1</td>\n",
       "      <td>0</td>\n",
       "      <td>0</td>\n",
       "      <td>0</td>\n",
       "      <td>0</td>\n",
       "      <td>0</td>\n",
       "      <td>0</td>\n",
       "      <td>0</td>\n",
       "      <td>0</td>\n",
       "      <td>0</td>\n",
       "    </tr>\n",
       "    <tr>\n",
       "      <th>4</th>\n",
       "      <td>0</td>\n",
       "      <td>0.375188</td>\n",
       "      <td>3934</td>\n",
       "      <td>0</td>\n",
       "      <td>1</td>\n",
       "      <td>1</td>\n",
       "      <td>1</td>\n",
       "      <td>1</td>\n",
       "      <td>0</td>\n",
       "      <td>0</td>\n",
       "      <td>0</td>\n",
       "      <td>0</td>\n",
       "      <td>0</td>\n",
       "      <td>0</td>\n",
       "    </tr>\n",
       "  </tbody>\n",
       "</table>\n",
       "</div>"
      ],
      "text/plain": [
       "   converted  converted_prob  lead_index  predicted  0.0  0.1  0.2  0.3  0.4  \\\n",
       "0          0        0.005354        1871          0    1    0    0    0    0   \n",
       "1          0        0.375188        6795          0    1    1    1    1    0   \n",
       "2          0        0.005354        3516          0    1    0    0    0    0   \n",
       "3          0        0.062056        8105          0    1    0    0    0    0   \n",
       "4          0        0.375188        3934          0    1    1    1    1    0   \n",
       "\n",
       "   0.5  0.6  0.7  0.8  0.9  \n",
       "0    0    0    0    0    0  \n",
       "1    0    0    0    0    0  \n",
       "2    0    0    0    0    0  \n",
       "3    0    0    0    0    0  \n",
       "4    0    0    0    0    0  "
      ]
     },
     "execution_count": 88,
     "metadata": {},
     "output_type": "execute_result"
    }
   ],
   "source": [
    "# Let's create columns with different probability cutoffs to find out optimum threshold cutoff\n",
    "numbers = [float(x)/10 for x in range(10)]\n",
    "for i in numbers:\n",
    "    y_train_pred_final[i]= y_train_pred_final.converted_prob.map(lambda x: 1 if x > i else 0)\n",
    "y_train_pred_final.head()"
   ]
  },
  {
   "cell_type": "code",
   "execution_count": 89,
   "id": "effd4055-efe1-4924-9fca-8e54b77c6bcb",
   "metadata": {},
   "outputs": [
    {
     "name": "stdout",
     "output_type": "stream",
     "text": [
      "     prob  accuracy     sensi     speci\n",
      "0.0   0.0  0.381262  1.000000  0.000000\n",
      "0.1   0.1  0.747372  0.964315  0.613693\n",
      "0.2   0.2  0.774273  0.956610  0.661919\n",
      "0.3   0.3  0.781385  0.938767  0.684408\n",
      "0.4   0.4  0.856215  0.681265  0.964018\n",
      "0.5   0.5  0.857916  0.681265  0.966767\n",
      "0.6   0.6  0.858689  0.681265  0.968016\n",
      "0.7   0.7  0.855133  0.667478  0.970765\n",
      "0.8   0.8  0.854669  0.665045  0.971514\n",
      "0.9   0.9  0.750773  0.350770  0.997251\n"
     ]
    }
   ],
   "source": [
    "# Now let's calculate accuracy sensitivity and specificity for various probability cutoffs.\n",
    "cutoff_df = pd.DataFrame( columns = ['prob','accuracy','sensi','speci'])\n",
    "from sklearn.metrics import confusion_matrix\n",
    "\n",
    "#TP = confusion_train[1,1] # true positive \n",
    "#TN = confusion_train[0,0] # true negatives\n",
    "#FP = confusion_train[0,1] # false positives\n",
    "#FN = confusion_train[1,0] # false negatives\n",
    "\n",
    "num = [0.0,0.1,0.2,0.3,0.4,0.5,0.6,0.7,0.8,0.9]\n",
    "for i in num:\n",
    "    cm1 = metrics.confusion_matrix(y_train_pred_final.converted, y_train_pred_final[i] )\n",
    "    total1=sum(sum(cm1))\n",
    "    accuracy = (cm1[0,0]+cm1[1,1])/total1\n",
    "    \n",
    "    speci = cm1[0,0]/(cm1[0,0]+cm1[0,1])\n",
    "    sensi = cm1[1,1]/(cm1[1,0]+cm1[1,1])\n",
    "    cutoff_df.loc[i] =[ i ,accuracy,sensi,speci]\n",
    "print(cutoff_df)"
   ]
  },
  {
   "cell_type": "code",
   "execution_count": 90,
   "id": "67db6729-7f0b-4383-9f7c-2685c50eb30d",
   "metadata": {},
   "outputs": [
    {
     "data": {
      "image/png": "[encoded data removed]",
      "text/plain": [
       "<Figure size 432x288 with 1 Axes>"
      ]
     },
     "metadata": {
      "needs_background": "light"
     },
     "output_type": "display_data"
    }
   ],
   "source": [
    "# Let's plot accuracy sensitivity and specificity for various probabilities.\n",
    "cutoff_df.plot.line(x='prob', y=['accuracy','sensi','speci'])\n",
    "plt.vlines(0.35, 1, 0, color='red')\n",
    "plt.show()"
   ]
  },
  {
   "cell_type": "markdown",
   "id": "ecde7206-0492-46ff-a167-9ac4158e08f1",
   "metadata": {},
   "source": [
    "__We choose probability cutoff at optimum level of 0.35__"
   ]
  },
  {
   "cell_type": "markdown",
   "id": "989d3b4e-20c5-4caf-95a4-f562a623016a",
   "metadata": {},
   "source": [
    "* __As we increase the probability threshold the sensitivity drops and specificity increases which indicates that True positive(converted leads) correctly Predicted decreases over actual positives but at the same time predicted true negatives(non converted leads) predicted increases out of total true negatives, so we choose the optimum cutoff at 0.35__"
   ]
  },
  {
   "cell_type": "code",
   "execution_count": 91,
   "id": "cefc01a2-4382-4a2a-847e-f89ae8c55798",
   "metadata": {},
   "outputs": [
    {
     "data": {
      "text/html": [
       "<div>\n",
       "<style scoped>\n",
       "    .dataframe tbody tr th:only-of-type {\n",
       "        vertical-align: middle;\n",
       "    }\n",
       "\n",
       "    .dataframe tbody tr th {\n",
       "        vertical-align: top;\n",
       "    }\n",
       "\n",
       "    .dataframe thead th {\n",
       "        text-align: right;\n",
       "    }\n",
       "</style>\n",
       "<table border=\"1\" class=\"dataframe\">\n",
       "  <thead>\n",
       "    <tr style=\"text-align: right;\">\n",
       "      <th></th>\n",
       "      <th>converted</th>\n",
       "      <th>converted_prob</th>\n",
       "      <th>lead_index</th>\n",
       "      <th>predicted</th>\n",
       "      <th>0.0</th>\n",
       "      <th>0.1</th>\n",
       "      <th>0.2</th>\n",
       "      <th>0.3</th>\n",
       "      <th>0.4</th>\n",
       "      <th>0.5</th>\n",
       "      <th>0.6</th>\n",
       "      <th>0.7</th>\n",
       "      <th>0.8</th>\n",
       "      <th>0.9</th>\n",
       "      <th>final_predicted</th>\n",
       "    </tr>\n",
       "  </thead>\n",
       "  <tbody>\n",
       "    <tr>\n",
       "      <th>0</th>\n",
       "      <td>0</td>\n",
       "      <td>0.005354</td>\n",
       "      <td>1871</td>\n",
       "      <td>0</td>\n",
       "      <td>1</td>\n",
       "      <td>0</td>\n",
       "      <td>0</td>\n",
       "      <td>0</td>\n",
       "      <td>0</td>\n",
       "      <td>0</td>\n",
       "      <td>0</td>\n",
       "      <td>0</td>\n",
       "      <td>0</td>\n",
       "      <td>0</td>\n",
       "      <td>0</td>\n",
       "    </tr>\n",
       "    <tr>\n",
       "      <th>1</th>\n",
       "      <td>0</td>\n",
       "      <td>0.375188</td>\n",
       "      <td>6795</td>\n",
       "      <td>0</td>\n",
       "      <td>1</td>\n",
       "      <td>1</td>\n",
       "      <td>1</td>\n",
       "      <td>1</td>\n",
       "      <td>0</td>\n",
       "      <td>0</td>\n",
       "      <td>0</td>\n",
       "      <td>0</td>\n",
       "      <td>0</td>\n",
       "      <td>0</td>\n",
       "      <td>1</td>\n",
       "    </tr>\n",
       "    <tr>\n",
       "      <th>2</th>\n",
       "      <td>0</td>\n",
       "      <td>0.005354</td>\n",
       "      <td>3516</td>\n",
       "      <td>0</td>\n",
       "      <td>1</td>\n",
       "      <td>0</td>\n",
       "      <td>0</td>\n",
       "      <td>0</td>\n",
       "      <td>0</td>\n",
       "      <td>0</td>\n",
       "      <td>0</td>\n",
       "      <td>0</td>\n",
       "      <td>0</td>\n",
       "      <td>0</td>\n",
       "      <td>0</td>\n",
       "    </tr>\n",
       "    <tr>\n",
       "      <th>3</th>\n",
       "      <td>0</td>\n",
       "      <td>0.062056</td>\n",
       "      <td>8105</td>\n",
       "      <td>0</td>\n",
       "      <td>1</td>\n",
       "      <td>0</td>\n",
       "      <td>0</td>\n",
       "      <td>0</td>\n",
       "      <td>0</td>\n",
       "      <td>0</td>\n",
       "      <td>0</td>\n",
       "      <td>0</td>\n",
       "      <td>0</td>\n",
       "      <td>0</td>\n",
       "      <td>0</td>\n",
       "    </tr>\n",
       "    <tr>\n",
       "      <th>4</th>\n",
       "      <td>0</td>\n",
       "      <td>0.375188</td>\n",
       "      <td>3934</td>\n",
       "      <td>0</td>\n",
       "      <td>1</td>\n",
       "      <td>1</td>\n",
       "      <td>1</td>\n",
       "      <td>1</td>\n",
       "      <td>0</td>\n",
       "      <td>0</td>\n",
       "      <td>0</td>\n",
       "      <td>0</td>\n",
       "      <td>0</td>\n",
       "      <td>0</td>\n",
       "      <td>1</td>\n",
       "    </tr>\n",
       "  </tbody>\n",
       "</table>\n",
       "</div>"
      ],
      "text/plain": [
       "   converted  converted_prob  lead_index  predicted  0.0  0.1  0.2  0.3  0.4  \\\n",
       "0          0        0.005354        1871          0    1    0    0    0    0   \n",
       "1          0        0.375188        6795          0    1    1    1    1    0   \n",
       "2          0        0.005354        3516          0    1    0    0    0    0   \n",
       "3          0        0.062056        8105          0    1    0    0    0    0   \n",
       "4          0        0.375188        3934          0    1    1    1    1    0   \n",
       "\n",
       "   0.5  0.6  0.7  0.8  0.9  final_predicted  \n",
       "0    0    0    0    0    0                0  \n",
       "1    0    0    0    0    0                1  \n",
       "2    0    0    0    0    0                0  \n",
       "3    0    0    0    0    0                0  \n",
       "4    0    0    0    0    0                1  "
      ]
     },
     "execution_count": 91,
     "metadata": {},
     "output_type": "execute_result"
    }
   ],
   "source": [
    "y_train_pred_final['final_predicted'] = y_train_pred_final.converted_prob.map( lambda x: 1 if x > 0.35 else 0)\n",
    "\n",
    "y_train_pred_final.head()"
   ]
  },
  {
   "cell_type": "code",
   "execution_count": 92,
   "id": "3e81acf7-8568-41b5-9081-993fa0a1200a",
   "metadata": {},
   "outputs": [
    {
     "name": "stdout",
     "output_type": "stream",
     "text": [
      "[[2739 1263]\n",
      " [ 151 2315]]\n"
     ]
    }
   ],
   "source": [
    "confusion2 = metrics.confusion_matrix(y_train_pred_final.converted, y_train_pred_final.final_predicted )\n",
    "print(confusion2)"
   ]
  },
  {
   "cell_type": "code",
   "execution_count": 93,
   "id": "6c1ddd32-3a64-4148-be46-b79ac63dcd82",
   "metadata": {},
   "outputs": [],
   "source": [
    "TP = confusion2[1,1] # true positive \n",
    "TN = confusion2[0,0] # true negatives\n",
    "FP = confusion2[0,1] # false positives\n",
    "FN = confusion2[1,0] # false negatives"
   ]
  },
  {
   "cell_type": "code",
   "execution_count": 94,
   "id": "4d70a152-ee92-47c4-8c25-6bc7e11d10bd",
   "metadata": {},
   "outputs": [
    {
     "data": {
      "text/plain": [
       "0.7813852813852814"
      ]
     },
     "execution_count": 94,
     "metadata": {},
     "output_type": "execute_result"
    }
   ],
   "source": [
    "# Let's check the overall accuracy.\n",
    "metrics.accuracy_score(y_train_pred_final.converted, y_train_pred_final.final_predicted)"
   ]
  },
  {
   "cell_type": "code",
   "execution_count": 95,
   "id": "87da6cdc-1d62-499a-9f0c-9dcb8b45bde6",
   "metadata": {},
   "outputs": [
    {
     "name": "stdout",
     "output_type": "stream",
     "text": [
      "0.681265206812652\n"
     ]
    }
   ],
   "source": [
    "print(metrics.recall_score(y_train_pred_final.converted, y_train_pred_final.predicted))"
   ]
  },
  {
   "cell_type": "code",
   "execution_count": 96,
   "id": "c28c4cf8-39b3-47b1-8ee4-33611d147c12",
   "metadata": {},
   "outputs": [
    {
     "name": "stdout",
     "output_type": "stream",
     "text": [
      "0.7852301939705538\n"
     ]
    }
   ],
   "source": [
    "print(metrics.f1_score(y_train_pred_final.converted, y_train_pred_final.predicted))"
   ]
  },
  {
   "cell_type": "code",
   "execution_count": 97,
   "id": "e227dac1-b2e7-4973-ad78-82c3e071acff",
   "metadata": {},
   "outputs": [
    {
     "name": "stdout",
     "output_type": "stream",
     "text": [
      "0.9266409266409267\n"
     ]
    }
   ],
   "source": [
    "print(metrics.precision_score(y_train_pred_final.converted, y_train_pred_final.predicted))"
   ]
  },
  {
   "cell_type": "code",
   "execution_count": 98,
   "id": "0d6c8188-4f66-47ad-85cc-9ce4f1526858",
   "metadata": {},
   "outputs": [
    {
     "data": {
      "text/plain": [
       "0.684407796101949"
      ]
     },
     "execution_count": 98,
     "metadata": {},
     "output_type": "execute_result"
    }
   ],
   "source": [
    "# specificity: Predicted number of leads as non converted out of total non converted\n",
    "TN / float(TN+FP)"
   ]
  },
  {
   "cell_type": "code",
   "execution_count": 99,
   "id": "831ff54b-1e52-4bea-a186-7d7235c3bc0d",
   "metadata": {},
   "outputs": [
    {
     "name": "stdout",
     "output_type": "stream",
     "text": [
      "0.315592203898051\n"
     ]
    }
   ],
   "source": [
    "# false postive rate : predicted the number of lead as converted when lead did not have converted\n",
    "print(FP/ float(TN+FP))"
   ]
  },
  {
   "cell_type": "code",
   "execution_count": 100,
   "id": "7bb6b386-146b-4d5a-a11f-9e70c02f7b41",
   "metadata": {},
   "outputs": [
    {
     "name": "stdout",
     "output_type": "stream",
     "text": [
      "0.6470095025153717\n"
     ]
    }
   ],
   "source": [
    "# positive predictive value - Total positive correctly predicted / total positive predicted\n",
    "print (TP / float(TP+FP))"
   ]
  },
  {
   "cell_type": "markdown",
   "id": "7231b5a0-1d72-4e95-8fa3-b92e3f233e0f",
   "metadata": {},
   "source": [
    "__Precision and Recall Curve - for a second view on threshold__"
   ]
  },
  {
   "cell_type": "code",
   "execution_count": 101,
   "id": "1f711ab7-6bd5-430a-aaeb-9e02828df6e5",
   "metadata": {},
   "outputs": [],
   "source": [
    "from sklearn.metrics import precision_recall_curve"
   ]
  },
  {
   "cell_type": "code",
   "execution_count": 102,
   "id": "11ba04b0-ea34-4666-abf2-aefeef569fbc",
   "metadata": {},
   "outputs": [],
   "source": [
    "pre, recal,thresholds =  precision_recall_curve(y_train_pred_final.converted, y_train_pred_final.converted_prob)"
   ]
  },
  {
   "cell_type": "code",
   "execution_count": 103,
   "id": "752cdf4d-14a1-41f8-8603-efba26aaad92",
   "metadata": {},
   "outputs": [
    {
     "data": {
      "image/png": "[encoded data removed]",
      "text/plain": [
       "<Figure size 432x288 with 1 Axes>"
      ]
     },
     "metadata": {
      "needs_background": "light"
     },
     "output_type": "display_data"
    }
   ],
   "source": [
    "plt.plot(thresholds, pre[:-1], \"g-\")\n",
    "plt.plot(thresholds, recal[:-1], \"r-\")\n",
    "plt.show()"
   ]
  },
  {
   "cell_type": "markdown",
   "id": "273d5959-610b-4473-bfef-65270f846785",
   "metadata": {},
   "source": [
    "__We choose probability cutoff at optimum level of 0.4__"
   ]
  },
  {
   "cell_type": "markdown",
   "id": "9fd2302a-0dae-4bef-a9a9-5bfae9417031",
   "metadata": {},
   "source": [
    "### Second view for optimum threshold cutoff \n",
    "* __As we increase the threshold the precision improves whereas recall drops which indicates that for lower thresholds non converted will also shown as converted which the company do not want so the company may like to go for higher precision but at the same time when threshold is high leads which are actual converted may not be detected, so we have to maintain a tradeoff and we choose the optimal cutoff as 0.4__\n",
    "\n",
    "* __With this second view The threshold is at 0.4 as compared to 0.35 with sensitivity vs specificity view__\n",
    "\n"
   ]
  },
  {
   "cell_type": "code",
   "execution_count": 104,
   "id": "26294e7e-ca5d-4fd0-8976-9ceb1b152068",
   "metadata": {},
   "outputs": [],
   "source": [
    "y_train_pred_final['Score'] = y_train_pred_final.converted_prob*100"
   ]
  },
  {
   "cell_type": "code",
   "execution_count": 105,
   "id": "6902fdfa-3db6-4e12-a810-1ae47a3bc6af",
   "metadata": {},
   "outputs": [
    {
     "data": {
      "text/html": [
       "<div>\n",
       "<style scoped>\n",
       "    .dataframe tbody tr th:only-of-type {\n",
       "        vertical-align: middle;\n",
       "    }\n",
       "\n",
       "    .dataframe tbody tr th {\n",
       "        vertical-align: top;\n",
       "    }\n",
       "\n",
       "    .dataframe thead th {\n",
       "        text-align: right;\n",
       "    }\n",
       "</style>\n",
       "<table border=\"1\" class=\"dataframe\">\n",
       "  <thead>\n",
       "    <tr style=\"text-align: right;\">\n",
       "      <th></th>\n",
       "      <th>converted</th>\n",
       "      <th>converted_prob</th>\n",
       "      <th>lead_index</th>\n",
       "      <th>predicted</th>\n",
       "      <th>0.0</th>\n",
       "      <th>0.1</th>\n",
       "      <th>0.2</th>\n",
       "      <th>0.3</th>\n",
       "      <th>0.4</th>\n",
       "      <th>0.5</th>\n",
       "      <th>0.6</th>\n",
       "      <th>0.7</th>\n",
       "      <th>0.8</th>\n",
       "      <th>0.9</th>\n",
       "      <th>final_predicted</th>\n",
       "      <th>Score</th>\n",
       "    </tr>\n",
       "  </thead>\n",
       "  <tbody>\n",
       "    <tr>\n",
       "      <th>0</th>\n",
       "      <td>0</td>\n",
       "      <td>0.005354</td>\n",
       "      <td>1871</td>\n",
       "      <td>0</td>\n",
       "      <td>1</td>\n",
       "      <td>0</td>\n",
       "      <td>0</td>\n",
       "      <td>0</td>\n",
       "      <td>0</td>\n",
       "      <td>0</td>\n",
       "      <td>0</td>\n",
       "      <td>0</td>\n",
       "      <td>0</td>\n",
       "      <td>0</td>\n",
       "      <td>0</td>\n",
       "      <td>0.535355</td>\n",
       "    </tr>\n",
       "    <tr>\n",
       "      <th>1</th>\n",
       "      <td>0</td>\n",
       "      <td>0.375188</td>\n",
       "      <td>6795</td>\n",
       "      <td>0</td>\n",
       "      <td>1</td>\n",
       "      <td>1</td>\n",
       "      <td>1</td>\n",
       "      <td>1</td>\n",
       "      <td>0</td>\n",
       "      <td>0</td>\n",
       "      <td>0</td>\n",
       "      <td>0</td>\n",
       "      <td>0</td>\n",
       "      <td>0</td>\n",
       "      <td>1</td>\n",
       "      <td>37.518844</td>\n",
       "    </tr>\n",
       "    <tr>\n",
       "      <th>2</th>\n",
       "      <td>0</td>\n",
       "      <td>0.005354</td>\n",
       "      <td>3516</td>\n",
       "      <td>0</td>\n",
       "      <td>1</td>\n",
       "      <td>0</td>\n",
       "      <td>0</td>\n",
       "      <td>0</td>\n",
       "      <td>0</td>\n",
       "      <td>0</td>\n",
       "      <td>0</td>\n",
       "      <td>0</td>\n",
       "      <td>0</td>\n",
       "      <td>0</td>\n",
       "      <td>0</td>\n",
       "      <td>0.535355</td>\n",
       "    </tr>\n",
       "    <tr>\n",
       "      <th>3</th>\n",
       "      <td>0</td>\n",
       "      <td>0.062056</td>\n",
       "      <td>8105</td>\n",
       "      <td>0</td>\n",
       "      <td>1</td>\n",
       "      <td>0</td>\n",
       "      <td>0</td>\n",
       "      <td>0</td>\n",
       "      <td>0</td>\n",
       "      <td>0</td>\n",
       "      <td>0</td>\n",
       "      <td>0</td>\n",
       "      <td>0</td>\n",
       "      <td>0</td>\n",
       "      <td>0</td>\n",
       "      <td>6.205559</td>\n",
       "    </tr>\n",
       "    <tr>\n",
       "      <th>4</th>\n",
       "      <td>0</td>\n",
       "      <td>0.375188</td>\n",
       "      <td>3934</td>\n",
       "      <td>0</td>\n",
       "      <td>1</td>\n",
       "      <td>1</td>\n",
       "      <td>1</td>\n",
       "      <td>1</td>\n",
       "      <td>0</td>\n",
       "      <td>0</td>\n",
       "      <td>0</td>\n",
       "      <td>0</td>\n",
       "      <td>0</td>\n",
       "      <td>0</td>\n",
       "      <td>1</td>\n",
       "      <td>37.518844</td>\n",
       "    </tr>\n",
       "    <tr>\n",
       "      <th>...</th>\n",
       "      <td>...</td>\n",
       "      <td>...</td>\n",
       "      <td>...</td>\n",
       "      <td>...</td>\n",
       "      <td>...</td>\n",
       "      <td>...</td>\n",
       "      <td>...</td>\n",
       "      <td>...</td>\n",
       "      <td>...</td>\n",
       "      <td>...</td>\n",
       "      <td>...</td>\n",
       "      <td>...</td>\n",
       "      <td>...</td>\n",
       "      <td>...</td>\n",
       "      <td>...</td>\n",
       "      <td>...</td>\n",
       "    </tr>\n",
       "    <tr>\n",
       "      <th>6463</th>\n",
       "      <td>1</td>\n",
       "      <td>0.870530</td>\n",
       "      <td>350</td>\n",
       "      <td>1</td>\n",
       "      <td>1</td>\n",
       "      <td>1</td>\n",
       "      <td>1</td>\n",
       "      <td>1</td>\n",
       "      <td>1</td>\n",
       "      <td>1</td>\n",
       "      <td>1</td>\n",
       "      <td>1</td>\n",
       "      <td>1</td>\n",
       "      <td>0</td>\n",
       "      <td>1</td>\n",
       "      <td>87.053050</td>\n",
       "    </tr>\n",
       "    <tr>\n",
       "      <th>6464</th>\n",
       "      <td>1</td>\n",
       "      <td>0.991508</td>\n",
       "      <td>79</td>\n",
       "      <td>1</td>\n",
       "      <td>1</td>\n",
       "      <td>1</td>\n",
       "      <td>1</td>\n",
       "      <td>1</td>\n",
       "      <td>1</td>\n",
       "      <td>1</td>\n",
       "      <td>1</td>\n",
       "      <td>1</td>\n",
       "      <td>1</td>\n",
       "      <td>1</td>\n",
       "      <td>1</td>\n",
       "      <td>99.150811</td>\n",
       "    </tr>\n",
       "    <tr>\n",
       "      <th>6465</th>\n",
       "      <td>1</td>\n",
       "      <td>0.375188</td>\n",
       "      <td>8039</td>\n",
       "      <td>0</td>\n",
       "      <td>1</td>\n",
       "      <td>1</td>\n",
       "      <td>1</td>\n",
       "      <td>1</td>\n",
       "      <td>0</td>\n",
       "      <td>0</td>\n",
       "      <td>0</td>\n",
       "      <td>0</td>\n",
       "      <td>0</td>\n",
       "      <td>0</td>\n",
       "      <td>1</td>\n",
       "      <td>37.518844</td>\n",
       "    </tr>\n",
       "    <tr>\n",
       "      <th>6466</th>\n",
       "      <td>0</td>\n",
       "      <td>0.020198</td>\n",
       "      <td>6936</td>\n",
       "      <td>0</td>\n",
       "      <td>1</td>\n",
       "      <td>0</td>\n",
       "      <td>0</td>\n",
       "      <td>0</td>\n",
       "      <td>0</td>\n",
       "      <td>0</td>\n",
       "      <td>0</td>\n",
       "      <td>0</td>\n",
       "      <td>0</td>\n",
       "      <td>0</td>\n",
       "      <td>0</td>\n",
       "      <td>2.019793</td>\n",
       "    </tr>\n",
       "    <tr>\n",
       "      <th>6467</th>\n",
       "      <td>0</td>\n",
       "      <td>0.375188</td>\n",
       "      <td>5640</td>\n",
       "      <td>0</td>\n",
       "      <td>1</td>\n",
       "      <td>1</td>\n",
       "      <td>1</td>\n",
       "      <td>1</td>\n",
       "      <td>0</td>\n",
       "      <td>0</td>\n",
       "      <td>0</td>\n",
       "      <td>0</td>\n",
       "      <td>0</td>\n",
       "      <td>0</td>\n",
       "      <td>1</td>\n",
       "      <td>37.518844</td>\n",
       "    </tr>\n",
       "  </tbody>\n",
       "</table>\n",
       "<p>6468 rows × 16 columns</p>\n",
       "</div>"
      ],
      "text/plain": [
       "      converted  converted_prob  lead_index  predicted  0.0  0.1  0.2  0.3  \\\n",
       "0             0        0.005354        1871          0    1    0    0    0   \n",
       "1             0        0.375188        6795          0    1    1    1    1   \n",
       "2             0        0.005354        3516          0    1    0    0    0   \n",
       "3             0        0.062056        8105          0    1    0    0    0   \n",
       "4             0        0.375188        3934          0    1    1    1    1   \n",
       "...         ...             ...         ...        ...  ...  ...  ...  ...   \n",
       "6463          1        0.870530         350          1    1    1    1    1   \n",
       "6464          1        0.991508          79          1    1    1    1    1   \n",
       "6465          1        0.375188        8039          0    1    1    1    1   \n",
       "6466          0        0.020198        6936          0    1    0    0    0   \n",
       "6467          0        0.375188        5640          0    1    1    1    1   \n",
       "\n",
       "      0.4  0.5  0.6  0.7  0.8  0.9  final_predicted      Score  \n",
       "0       0    0    0    0    0    0                0   0.535355  \n",
       "1       0    0    0    0    0    0                1  37.518844  \n",
       "2       0    0    0    0    0    0                0   0.535355  \n",
       "3       0    0    0    0    0    0                0   6.205559  \n",
       "4       0    0    0    0    0    0                1  37.518844  \n",
       "...   ...  ...  ...  ...  ...  ...              ...        ...  \n",
       "6463    1    1    1    1    1    0                1  87.053050  \n",
       "6464    1    1    1    1    1    1                1  99.150811  \n",
       "6465    0    0    0    0    0    0                1  37.518844  \n",
       "6466    0    0    0    0    0    0                0   2.019793  \n",
       "6467    0    0    0    0    0    0                1  37.518844  \n",
       "\n",
       "[6468 rows x 16 columns]"
      ]
     },
     "execution_count": 105,
     "metadata": {},
     "output_type": "execute_result"
    }
   ],
   "source": [
    "y_train_pred_final"
   ]
  },
  {
   "cell_type": "code",
   "execution_count": 106,
   "id": "5dbda4b0-dc0b-49fd-bdbe-55b23ba56dd7",
   "metadata": {},
   "outputs": [],
   "source": [
    "X_test = X_test[col]"
   ]
  },
  {
   "cell_type": "code",
   "execution_count": 107,
   "id": "129b346c-42d0-49de-b01c-b99f2b89ea71",
   "metadata": {},
   "outputs": [
    {
     "data": {
      "text/html": [
       "<div>\n",
       "<style scoped>\n",
       "    .dataframe tbody tr th:only-of-type {\n",
       "        vertical-align: middle;\n",
       "    }\n",
       "\n",
       "    .dataframe tbody tr th {\n",
       "        vertical-align: top;\n",
       "    }\n",
       "\n",
       "    .dataframe thead th {\n",
       "        text-align: right;\n",
       "    }\n",
       "</style>\n",
       "<table border=\"1\" class=\"dataframe\">\n",
       "  <thead>\n",
       "    <tr style=\"text-align: right;\">\n",
       "      <th></th>\n",
       "      <th>Do Not Email</th>\n",
       "      <th>Lead Origin_Lead Add Form</th>\n",
       "      <th>Last Activity_Olark Chat Conversation</th>\n",
       "      <th>What is your current occupation_Working Professional</th>\n",
       "      <th>Tags_Busy</th>\n",
       "      <th>Tags_Closed by Horizzon</th>\n",
       "      <th>Tags_Lost to EINS</th>\n",
       "      <th>Tags_Ringing</th>\n",
       "      <th>Tags_Will revert after reading the email</th>\n",
       "      <th>Tags_in touch with EINS</th>\n",
       "      <th>Tags_switched off</th>\n",
       "      <th>Last Notable Activity_Had a Phone Conversation</th>\n",
       "      <th>Last Notable Activity_SMS Sent</th>\n",
       "    </tr>\n",
       "  </thead>\n",
       "  <tbody>\n",
       "    <tr>\n",
       "      <th>4269</th>\n",
       "      <td>0</td>\n",
       "      <td>0</td>\n",
       "      <td>0</td>\n",
       "      <td>0</td>\n",
       "      <td>0</td>\n",
       "      <td>0</td>\n",
       "      <td>0</td>\n",
       "      <td>0</td>\n",
       "      <td>1</td>\n",
       "      <td>0</td>\n",
       "      <td>0</td>\n",
       "      <td>0</td>\n",
       "      <td>1</td>\n",
       "    </tr>\n",
       "    <tr>\n",
       "      <th>2376</th>\n",
       "      <td>0</td>\n",
       "      <td>1</td>\n",
       "      <td>0</td>\n",
       "      <td>0</td>\n",
       "      <td>0</td>\n",
       "      <td>0</td>\n",
       "      <td>0</td>\n",
       "      <td>0</td>\n",
       "      <td>1</td>\n",
       "      <td>0</td>\n",
       "      <td>0</td>\n",
       "      <td>0</td>\n",
       "      <td>1</td>\n",
       "    </tr>\n",
       "    <tr>\n",
       "      <th>7766</th>\n",
       "      <td>0</td>\n",
       "      <td>0</td>\n",
       "      <td>0</td>\n",
       "      <td>1</td>\n",
       "      <td>0</td>\n",
       "      <td>0</td>\n",
       "      <td>0</td>\n",
       "      <td>0</td>\n",
       "      <td>1</td>\n",
       "      <td>0</td>\n",
       "      <td>0</td>\n",
       "      <td>0</td>\n",
       "      <td>0</td>\n",
       "    </tr>\n",
       "    <tr>\n",
       "      <th>9199</th>\n",
       "      <td>0</td>\n",
       "      <td>0</td>\n",
       "      <td>1</td>\n",
       "      <td>0</td>\n",
       "      <td>0</td>\n",
       "      <td>0</td>\n",
       "      <td>0</td>\n",
       "      <td>0</td>\n",
       "      <td>0</td>\n",
       "      <td>0</td>\n",
       "      <td>0</td>\n",
       "      <td>0</td>\n",
       "      <td>0</td>\n",
       "    </tr>\n",
       "    <tr>\n",
       "      <th>4359</th>\n",
       "      <td>0</td>\n",
       "      <td>1</td>\n",
       "      <td>0</td>\n",
       "      <td>0</td>\n",
       "      <td>0</td>\n",
       "      <td>0</td>\n",
       "      <td>0</td>\n",
       "      <td>0</td>\n",
       "      <td>1</td>\n",
       "      <td>0</td>\n",
       "      <td>0</td>\n",
       "      <td>0</td>\n",
       "      <td>0</td>\n",
       "    </tr>\n",
       "  </tbody>\n",
       "</table>\n",
       "</div>"
      ],
      "text/plain": [
       "      Do Not Email  Lead Origin_Lead Add Form  \\\n",
       "4269             0                          0   \n",
       "2376             0                          1   \n",
       "7766             0                          0   \n",
       "9199             0                          0   \n",
       "4359             0                          1   \n",
       "\n",
       "      Last Activity_Olark Chat Conversation  \\\n",
       "4269                                      0   \n",
       "2376                                      0   \n",
       "7766                                      0   \n",
       "9199                                      1   \n",
       "4359                                      0   \n",
       "\n",
       "      What is your current occupation_Working Professional  Tags_Busy  \\\n",
       "4269                                                  0             0   \n",
       "2376                                                  0             0   \n",
       "7766                                                  1             0   \n",
       "9199                                                  0             0   \n",
       "4359                                                  0             0   \n",
       "\n",
       "      Tags_Closed by Horizzon  Tags_Lost to EINS  Tags_Ringing  \\\n",
       "4269                        0                  0             0   \n",
       "2376                        0                  0             0   \n",
       "7766                        0                  0             0   \n",
       "9199                        0                  0             0   \n",
       "4359                        0                  0             0   \n",
       "\n",
       "      Tags_Will revert after reading the email  Tags_in touch with EINS  \\\n",
       "4269                                         1                        0   \n",
       "2376                                         1                        0   \n",
       "7766                                         1                        0   \n",
       "9199                                         0                        0   \n",
       "4359                                         1                        0   \n",
       "\n",
       "      Tags_switched off  Last Notable Activity_Had a Phone Conversation  \\\n",
       "4269                  0                                               0   \n",
       "2376                  0                                               0   \n",
       "7766                  0                                               0   \n",
       "9199                  0                                               0   \n",
       "4359                  0                                               0   \n",
       "\n",
       "      Last Notable Activity_SMS Sent  \n",
       "4269                               1  \n",
       "2376                               1  \n",
       "7766                               0  \n",
       "9199                               0  \n",
       "4359                               0  "
      ]
     },
     "execution_count": 107,
     "metadata": {},
     "output_type": "execute_result"
    }
   ],
   "source": [
    "X_test.head()"
   ]
  },
  {
   "cell_type": "markdown",
   "id": "4f517939-d4df-436f-bf11-c6386c569d83",
   "metadata": {},
   "source": [
    "We are not doing the scaling for the columns of X_test ['TotalVisits','Total Time Spent on Website','Page Views Per Visit'] as these are essentially dropped from col"
   ]
  },
  {
   "cell_type": "code",
   "execution_count": 108,
   "id": "2b15ee0a-812b-4e2c-8ac5-0455336afee5",
   "metadata": {},
   "outputs": [],
   "source": [
    "X_test_sm = sm.add_constant(X_test)"
   ]
  },
  {
   "cell_type": "code",
   "execution_count": 109,
   "id": "5328164f-f542-4f44-b143-c279c0a9722e",
   "metadata": {},
   "outputs": [],
   "source": [
    "y_test_pred = logit_model3.predict(X_test_sm)"
   ]
  },
  {
   "cell_type": "code",
   "execution_count": 110,
   "id": "f25173ae-d4a1-4686-b77d-67c5e0abe010",
   "metadata": {},
   "outputs": [
    {
     "data": {
      "text/plain": [
       "4269    0.880686\n",
       "2376    0.988046\n",
       "7766    0.912491\n",
       "9199    0.003745\n",
       "4359    0.870530\n",
       "          ...   \n",
       "8649    0.375188\n",
       "2152    0.988046\n",
       "7101    0.020198\n",
       "5331    0.127378\n",
       "2960    0.988046\n",
       "Length: 2772, dtype: float64"
      ]
     },
     "execution_count": 110,
     "metadata": {},
     "output_type": "execute_result"
    }
   ],
   "source": [
    "y_test_pred"
   ]
  },
  {
   "cell_type": "code",
   "execution_count": 111,
   "id": "d0ba44b8-4002-492f-ab6c-ea548f439d0c",
   "metadata": {},
   "outputs": [],
   "source": [
    "y_test_pred = pd.DataFrame(y_test_pred)"
   ]
  },
  {
   "cell_type": "code",
   "execution_count": 112,
   "id": "826fff33-b067-49df-a7a6-037a39e119a9",
   "metadata": {},
   "outputs": [],
   "source": [
    "y_test_pred['converted'] = y_test.values"
   ]
  },
  {
   "cell_type": "code",
   "execution_count": 113,
   "id": "61de47f1-b87a-492d-8d7c-afaf60405e00",
   "metadata": {},
   "outputs": [],
   "source": [
    "y_test_pred['lead_index'] = y_test_pred.index"
   ]
  },
  {
   "cell_type": "code",
   "execution_count": 114,
   "id": "8a1f58d1-ed98-41e0-803a-50f80d6dfc88",
   "metadata": {},
   "outputs": [
    {
     "data": {
      "text/html": [
       "<div>\n",
       "<style scoped>\n",
       "    .dataframe tbody tr th:only-of-type {\n",
       "        vertical-align: middle;\n",
       "    }\n",
       "\n",
       "    .dataframe tbody tr th {\n",
       "        vertical-align: top;\n",
       "    }\n",
       "\n",
       "    .dataframe thead th {\n",
       "        text-align: right;\n",
       "    }\n",
       "</style>\n",
       "<table border=\"1\" class=\"dataframe\">\n",
       "  <thead>\n",
       "    <tr style=\"text-align: right;\">\n",
       "      <th></th>\n",
       "      <th>0</th>\n",
       "      <th>converted</th>\n",
       "      <th>lead_index</th>\n",
       "    </tr>\n",
       "  </thead>\n",
       "  <tbody>\n",
       "    <tr>\n",
       "      <th>4269</th>\n",
       "      <td>0.880686</td>\n",
       "      <td>1</td>\n",
       "      <td>4269</td>\n",
       "    </tr>\n",
       "    <tr>\n",
       "      <th>2376</th>\n",
       "      <td>0.988046</td>\n",
       "      <td>1</td>\n",
       "      <td>2376</td>\n",
       "    </tr>\n",
       "    <tr>\n",
       "      <th>7766</th>\n",
       "      <td>0.912491</td>\n",
       "      <td>1</td>\n",
       "      <td>7766</td>\n",
       "    </tr>\n",
       "    <tr>\n",
       "      <th>9199</th>\n",
       "      <td>0.003745</td>\n",
       "      <td>0</td>\n",
       "      <td>9199</td>\n",
       "    </tr>\n",
       "    <tr>\n",
       "      <th>4359</th>\n",
       "      <td>0.870530</td>\n",
       "      <td>1</td>\n",
       "      <td>4359</td>\n",
       "    </tr>\n",
       "    <tr>\n",
       "      <th>...</th>\n",
       "      <td>...</td>\n",
       "      <td>...</td>\n",
       "      <td>...</td>\n",
       "    </tr>\n",
       "    <tr>\n",
       "      <th>8649</th>\n",
       "      <td>0.375188</td>\n",
       "      <td>0</td>\n",
       "      <td>8649</td>\n",
       "    </tr>\n",
       "    <tr>\n",
       "      <th>2152</th>\n",
       "      <td>0.988046</td>\n",
       "      <td>1</td>\n",
       "      <td>2152</td>\n",
       "    </tr>\n",
       "    <tr>\n",
       "      <th>7101</th>\n",
       "      <td>0.020198</td>\n",
       "      <td>0</td>\n",
       "      <td>7101</td>\n",
       "    </tr>\n",
       "    <tr>\n",
       "      <th>5331</th>\n",
       "      <td>0.127378</td>\n",
       "      <td>0</td>\n",
       "      <td>5331</td>\n",
       "    </tr>\n",
       "    <tr>\n",
       "      <th>2960</th>\n",
       "      <td>0.988046</td>\n",
       "      <td>1</td>\n",
       "      <td>2960</td>\n",
       "    </tr>\n",
       "  </tbody>\n",
       "</table>\n",
       "<p>2772 rows × 3 columns</p>\n",
       "</div>"
      ],
      "text/plain": [
       "             0  converted  lead_index\n",
       "4269  0.880686          1        4269\n",
       "2376  0.988046          1        2376\n",
       "7766  0.912491          1        7766\n",
       "9199  0.003745          0        9199\n",
       "4359  0.870530          1        4359\n",
       "...        ...        ...         ...\n",
       "8649  0.375188          0        8649\n",
       "2152  0.988046          1        2152\n",
       "7101  0.020198          0        7101\n",
       "5331  0.127378          0        5331\n",
       "2960  0.988046          1        2960\n",
       "\n",
       "[2772 rows x 3 columns]"
      ]
     },
     "execution_count": 114,
     "metadata": {},
     "output_type": "execute_result"
    }
   ],
   "source": [
    "y_test_pred"
   ]
  },
  {
   "cell_type": "code",
   "execution_count": 115,
   "id": "bab92644-7ae8-44c6-b6f6-986a0ebe7e43",
   "metadata": {},
   "outputs": [],
   "source": [
    "y_test_pred = y_test_pred.rename(columns = {0:'Converted_prob'})"
   ]
  },
  {
   "cell_type": "code",
   "execution_count": 116,
   "id": "4c9b7466-e493-42c7-960e-df3769e3fc53",
   "metadata": {},
   "outputs": [],
   "source": [
    "y_test_pred['final_predicted'] = y_test_pred.Converted_prob.map(lambda x: 1 if x > 0.35 else 0)"
   ]
  },
  {
   "cell_type": "code",
   "execution_count": 117,
   "id": "c6d4714b-7922-464d-8216-f454893a973b",
   "metadata": {},
   "outputs": [
    {
     "data": {
      "text/html": [
       "<div>\n",
       "<style scoped>\n",
       "    .dataframe tbody tr th:only-of-type {\n",
       "        vertical-align: middle;\n",
       "    }\n",
       "\n",
       "    .dataframe tbody tr th {\n",
       "        vertical-align: top;\n",
       "    }\n",
       "\n",
       "    .dataframe thead th {\n",
       "        text-align: right;\n",
       "    }\n",
       "</style>\n",
       "<table border=\"1\" class=\"dataframe\">\n",
       "  <thead>\n",
       "    <tr style=\"text-align: right;\">\n",
       "      <th></th>\n",
       "      <th>Converted_prob</th>\n",
       "      <th>converted</th>\n",
       "      <th>lead_index</th>\n",
       "      <th>final_predicted</th>\n",
       "    </tr>\n",
       "  </thead>\n",
       "  <tbody>\n",
       "    <tr>\n",
       "      <th>4269</th>\n",
       "      <td>0.880686</td>\n",
       "      <td>1</td>\n",
       "      <td>4269</td>\n",
       "      <td>1</td>\n",
       "    </tr>\n",
       "    <tr>\n",
       "      <th>2376</th>\n",
       "      <td>0.988046</td>\n",
       "      <td>1</td>\n",
       "      <td>2376</td>\n",
       "      <td>1</td>\n",
       "    </tr>\n",
       "    <tr>\n",
       "      <th>7766</th>\n",
       "      <td>0.912491</td>\n",
       "      <td>1</td>\n",
       "      <td>7766</td>\n",
       "      <td>1</td>\n",
       "    </tr>\n",
       "    <tr>\n",
       "      <th>9199</th>\n",
       "      <td>0.003745</td>\n",
       "      <td>0</td>\n",
       "      <td>9199</td>\n",
       "      <td>0</td>\n",
       "    </tr>\n",
       "    <tr>\n",
       "      <th>4359</th>\n",
       "      <td>0.870530</td>\n",
       "      <td>1</td>\n",
       "      <td>4359</td>\n",
       "      <td>1</td>\n",
       "    </tr>\n",
       "    <tr>\n",
       "      <th>...</th>\n",
       "      <td>...</td>\n",
       "      <td>...</td>\n",
       "      <td>...</td>\n",
       "      <td>...</td>\n",
       "    </tr>\n",
       "    <tr>\n",
       "      <th>8649</th>\n",
       "      <td>0.375188</td>\n",
       "      <td>0</td>\n",
       "      <td>8649</td>\n",
       "      <td>1</td>\n",
       "    </tr>\n",
       "    <tr>\n",
       "      <th>2152</th>\n",
       "      <td>0.988046</td>\n",
       "      <td>1</td>\n",
       "      <td>2152</td>\n",
       "      <td>1</td>\n",
       "    </tr>\n",
       "    <tr>\n",
       "      <th>7101</th>\n",
       "      <td>0.020198</td>\n",
       "      <td>0</td>\n",
       "      <td>7101</td>\n",
       "      <td>0</td>\n",
       "    </tr>\n",
       "    <tr>\n",
       "      <th>5331</th>\n",
       "      <td>0.127378</td>\n",
       "      <td>0</td>\n",
       "      <td>5331</td>\n",
       "      <td>0</td>\n",
       "    </tr>\n",
       "    <tr>\n",
       "      <th>2960</th>\n",
       "      <td>0.988046</td>\n",
       "      <td>1</td>\n",
       "      <td>2960</td>\n",
       "      <td>1</td>\n",
       "    </tr>\n",
       "  </tbody>\n",
       "</table>\n",
       "<p>2772 rows × 4 columns</p>\n",
       "</div>"
      ],
      "text/plain": [
       "      Converted_prob  converted  lead_index  final_predicted\n",
       "4269        0.880686          1        4269                1\n",
       "2376        0.988046          1        2376                1\n",
       "7766        0.912491          1        7766                1\n",
       "9199        0.003745          0        9199                0\n",
       "4359        0.870530          1        4359                1\n",
       "...              ...        ...         ...              ...\n",
       "8649        0.375188          0        8649                1\n",
       "2152        0.988046          1        2152                1\n",
       "7101        0.020198          0        7101                0\n",
       "5331        0.127378          0        5331                0\n",
       "2960        0.988046          1        2960                1\n",
       "\n",
       "[2772 rows x 4 columns]"
      ]
     },
     "execution_count": 117,
     "metadata": {},
     "output_type": "execute_result"
    }
   ],
   "source": [
    "y_test_pred"
   ]
  },
  {
   "cell_type": "code",
   "execution_count": 118,
   "id": "1c31e2c6-a037-4b9b-a5c4-0f0daea89321",
   "metadata": {},
   "outputs": [
    {
     "name": "stdout",
     "output_type": "stream",
     "text": [
      "[[1132  545]\n",
      " [  57 1038]]\n"
     ]
    }
   ],
   "source": [
    "# Confusion matrix \n",
    "confusion_test = metrics.confusion_matrix(y_test_pred.converted,y_test_pred.final_predicted)\n",
    "print(confusion_test)"
   ]
  },
  {
   "cell_type": "code",
   "execution_count": 119,
   "id": "c6570311-e840-44a7-89be-9f90a8f3fe66",
   "metadata": {},
   "outputs": [
    {
     "data": {
      "text/plain": [
       "0.7828282828282829"
      ]
     },
     "execution_count": 119,
     "metadata": {},
     "output_type": "execute_result"
    }
   ],
   "source": [
    "# Let's check the overall accuracy.\n",
    "metrics.accuracy_score(y_test_pred.converted, y_test_pred.final_predicted)"
   ]
  },
  {
   "cell_type": "code",
   "execution_count": 120,
   "id": "d5e2b9be-f206-4db4-a453-5068ea5d0327",
   "metadata": {},
   "outputs": [],
   "source": [
    "TP = confusion_test[1,1] # true positive \n",
    "TN = confusion_test[0,0] # true negatives\n",
    "FP = confusion_test[0,1] # false positives\n",
    "FN = confusion_test[1,0] # false negatives"
   ]
  },
  {
   "cell_type": "code",
   "execution_count": 121,
   "id": "2244396a-458f-406f-8d6c-b01818e9e874",
   "metadata": {},
   "outputs": [
    {
     "name": "stdout",
     "output_type": "stream",
     "text": [
      "0.947945205479452\n"
     ]
    }
   ],
   "source": [
    "print(metrics.recall_score(y_test_pred.converted, y_test_pred.final_predicted))"
   ]
  },
  {
   "cell_type": "code",
   "execution_count": 122,
   "id": "2cd62c9e-3a1e-43fc-b541-59b37b1c0283",
   "metadata": {},
   "outputs": [
    {
     "data": {
      "text/plain": [
       "0.6750149075730472"
      ]
     },
     "execution_count": 122,
     "metadata": {},
     "output_type": "execute_result"
    }
   ],
   "source": [
    "# Let us calculate specificity\n",
    "TN / float(TN+FP)"
   ]
  },
  {
   "cell_type": "code",
   "execution_count": 123,
   "id": "adbe11d4-a549-4a0d-b020-af9be1841bc0",
   "metadata": {},
   "outputs": [
    {
     "name": "stdout",
     "output_type": "stream",
     "text": [
      "0.3249850924269529\n"
     ]
    }
   ],
   "source": [
    "# false postive rate : predicted the number of lead as converted when lead did not have converted\n",
    "print(FP/ float(TN+FP))"
   ]
  },
  {
   "cell_type": "code",
   "execution_count": 124,
   "id": "bee0d856-9908-4196-86e3-ba6ad5bebd59",
   "metadata": {},
   "outputs": [
    {
     "name": "stdout",
     "output_type": "stream",
     "text": [
      "0.6557169930511687\n"
     ]
    }
   ],
   "source": [
    "print(metrics.precision_score(y_test_pred.converted, y_test_pred.final_predicted))"
   ]
  },
  {
   "cell_type": "code",
   "execution_count": 125,
   "id": "f1015b40-7061-48e3-b5c1-8f5c5f5366f8",
   "metadata": {},
   "outputs": [],
   "source": [
    "y_test_pred['Score'] = y_test_pred['Converted_prob']*100"
   ]
  },
  {
   "cell_type": "code",
   "execution_count": 126,
   "id": "a5d5eb9d-8465-4bbe-aff8-67c945dacc3b",
   "metadata": {},
   "outputs": [
    {
     "data": {
      "text/html": [
       "<div>\n",
       "<style scoped>\n",
       "    .dataframe tbody tr th:only-of-type {\n",
       "        vertical-align: middle;\n",
       "    }\n",
       "\n",
       "    .dataframe tbody tr th {\n",
       "        vertical-align: top;\n",
       "    }\n",
       "\n",
       "    .dataframe thead th {\n",
       "        text-align: right;\n",
       "    }\n",
       "</style>\n",
       "<table border=\"1\" class=\"dataframe\">\n",
       "  <thead>\n",
       "    <tr style=\"text-align: right;\">\n",
       "      <th></th>\n",
       "      <th>Converted_prob</th>\n",
       "      <th>converted</th>\n",
       "      <th>lead_index</th>\n",
       "      <th>final_predicted</th>\n",
       "      <th>Score</th>\n",
       "    </tr>\n",
       "  </thead>\n",
       "  <tbody>\n",
       "    <tr>\n",
       "      <th>4269</th>\n",
       "      <td>0.880686</td>\n",
       "      <td>1</td>\n",
       "      <td>4269</td>\n",
       "      <td>1</td>\n",
       "      <td>88.068641</td>\n",
       "    </tr>\n",
       "    <tr>\n",
       "      <th>2376</th>\n",
       "      <td>0.988046</td>\n",
       "      <td>1</td>\n",
       "      <td>2376</td>\n",
       "      <td>1</td>\n",
       "      <td>98.804555</td>\n",
       "    </tr>\n",
       "    <tr>\n",
       "      <th>7766</th>\n",
       "      <td>0.912491</td>\n",
       "      <td>1</td>\n",
       "      <td>7766</td>\n",
       "      <td>1</td>\n",
       "      <td>91.249101</td>\n",
       "    </tr>\n",
       "    <tr>\n",
       "      <th>9199</th>\n",
       "      <td>0.003745</td>\n",
       "      <td>0</td>\n",
       "      <td>9199</td>\n",
       "      <td>0</td>\n",
       "      <td>0.374512</td>\n",
       "    </tr>\n",
       "    <tr>\n",
       "      <th>4359</th>\n",
       "      <td>0.870530</td>\n",
       "      <td>1</td>\n",
       "      <td>4359</td>\n",
       "      <td>1</td>\n",
       "      <td>87.053050</td>\n",
       "    </tr>\n",
       "    <tr>\n",
       "      <th>...</th>\n",
       "      <td>...</td>\n",
       "      <td>...</td>\n",
       "      <td>...</td>\n",
       "      <td>...</td>\n",
       "      <td>...</td>\n",
       "    </tr>\n",
       "    <tr>\n",
       "      <th>8649</th>\n",
       "      <td>0.375188</td>\n",
       "      <td>0</td>\n",
       "      <td>8649</td>\n",
       "      <td>1</td>\n",
       "      <td>37.518844</td>\n",
       "    </tr>\n",
       "    <tr>\n",
       "      <th>2152</th>\n",
       "      <td>0.988046</td>\n",
       "      <td>1</td>\n",
       "      <td>2152</td>\n",
       "      <td>1</td>\n",
       "      <td>98.804555</td>\n",
       "    </tr>\n",
       "    <tr>\n",
       "      <th>7101</th>\n",
       "      <td>0.020198</td>\n",
       "      <td>0</td>\n",
       "      <td>7101</td>\n",
       "      <td>0</td>\n",
       "      <td>2.019793</td>\n",
       "    </tr>\n",
       "    <tr>\n",
       "      <th>5331</th>\n",
       "      <td>0.127378</td>\n",
       "      <td>0</td>\n",
       "      <td>5331</td>\n",
       "      <td>0</td>\n",
       "      <td>12.737758</td>\n",
       "    </tr>\n",
       "    <tr>\n",
       "      <th>2960</th>\n",
       "      <td>0.988046</td>\n",
       "      <td>1</td>\n",
       "      <td>2960</td>\n",
       "      <td>1</td>\n",
       "      <td>98.804555</td>\n",
       "    </tr>\n",
       "  </tbody>\n",
       "</table>\n",
       "<p>2772 rows × 5 columns</p>\n",
       "</div>"
      ],
      "text/plain": [
       "      Converted_prob  converted  lead_index  final_predicted      Score\n",
       "4269        0.880686          1        4269                1  88.068641\n",
       "2376        0.988046          1        2376                1  98.804555\n",
       "7766        0.912491          1        7766                1  91.249101\n",
       "9199        0.003745          0        9199                0   0.374512\n",
       "4359        0.870530          1        4359                1  87.053050\n",
       "...              ...        ...         ...              ...        ...\n",
       "8649        0.375188          0        8649                1  37.518844\n",
       "2152        0.988046          1        2152                1  98.804555\n",
       "7101        0.020198          0        7101                0   2.019793\n",
       "5331        0.127378          0        5331                0  12.737758\n",
       "2960        0.988046          1        2960                1  98.804555\n",
       "\n",
       "[2772 rows x 5 columns]"
      ]
     },
     "execution_count": 126,
     "metadata": {},
     "output_type": "execute_result"
    }
   ],
   "source": [
    "y_test_pred"
   ]
  },
  {
   "cell_type": "markdown",
   "id": "4d76970e-4d42-4590-8315-3444d47ccd36",
   "metadata": {},
   "source": [
    "### Step 7: Lead Scoring"
   ]
  },
  {
   "cell_type": "code",
   "execution_count": 127,
   "id": "62c34a60-319b-46ca-bb29-8ab8f289e039",
   "metadata": {},
   "outputs": [],
   "source": [
    "test_df = pd.DataFrame(y_test_pred[['lead_index','Score']])"
   ]
  },
  {
   "cell_type": "code",
   "execution_count": 128,
   "id": "3196e001-06f7-48ad-8138-2af237695fe1",
   "metadata": {},
   "outputs": [
    {
     "data": {
      "text/html": [
       "<div>\n",
       "<style scoped>\n",
       "    .dataframe tbody tr th:only-of-type {\n",
       "        vertical-align: middle;\n",
       "    }\n",
       "\n",
       "    .dataframe tbody tr th {\n",
       "        vertical-align: top;\n",
       "    }\n",
       "\n",
       "    .dataframe thead th {\n",
       "        text-align: right;\n",
       "    }\n",
       "</style>\n",
       "<table border=\"1\" class=\"dataframe\">\n",
       "  <thead>\n",
       "    <tr style=\"text-align: right;\">\n",
       "      <th></th>\n",
       "      <th>lead_index</th>\n",
       "      <th>Score</th>\n",
       "    </tr>\n",
       "  </thead>\n",
       "  <tbody>\n",
       "    <tr>\n",
       "      <th>4269</th>\n",
       "      <td>4269</td>\n",
       "      <td>88.068641</td>\n",
       "    </tr>\n",
       "    <tr>\n",
       "      <th>2376</th>\n",
       "      <td>2376</td>\n",
       "      <td>98.804555</td>\n",
       "    </tr>\n",
       "    <tr>\n",
       "      <th>7766</th>\n",
       "      <td>7766</td>\n",
       "      <td>91.249101</td>\n",
       "    </tr>\n",
       "    <tr>\n",
       "      <th>9199</th>\n",
       "      <td>9199</td>\n",
       "      <td>0.374512</td>\n",
       "    </tr>\n",
       "    <tr>\n",
       "      <th>4359</th>\n",
       "      <td>4359</td>\n",
       "      <td>87.053050</td>\n",
       "    </tr>\n",
       "    <tr>\n",
       "      <th>...</th>\n",
       "      <td>...</td>\n",
       "      <td>...</td>\n",
       "    </tr>\n",
       "    <tr>\n",
       "      <th>8649</th>\n",
       "      <td>8649</td>\n",
       "      <td>37.518844</td>\n",
       "    </tr>\n",
       "    <tr>\n",
       "      <th>2152</th>\n",
       "      <td>2152</td>\n",
       "      <td>98.804555</td>\n",
       "    </tr>\n",
       "    <tr>\n",
       "      <th>7101</th>\n",
       "      <td>7101</td>\n",
       "      <td>2.019793</td>\n",
       "    </tr>\n",
       "    <tr>\n",
       "      <th>5331</th>\n",
       "      <td>5331</td>\n",
       "      <td>12.737758</td>\n",
       "    </tr>\n",
       "    <tr>\n",
       "      <th>2960</th>\n",
       "      <td>2960</td>\n",
       "      <td>98.804555</td>\n",
       "    </tr>\n",
       "  </tbody>\n",
       "</table>\n",
       "<p>2772 rows × 2 columns</p>\n",
       "</div>"
      ],
      "text/plain": [
       "      lead_index      Score\n",
       "4269        4269  88.068641\n",
       "2376        2376  98.804555\n",
       "7766        7766  91.249101\n",
       "9199        9199   0.374512\n",
       "4359        4359  87.053050\n",
       "...          ...        ...\n",
       "8649        8649  37.518844\n",
       "2152        2152  98.804555\n",
       "7101        7101   2.019793\n",
       "5331        5331  12.737758\n",
       "2960        2960  98.804555\n",
       "\n",
       "[2772 rows x 2 columns]"
      ]
     },
     "execution_count": 128,
     "metadata": {},
     "output_type": "execute_result"
    }
   ],
   "source": [
    "test_df"
   ]
  },
  {
   "cell_type": "code",
   "execution_count": 129,
   "id": "732ad1f1-b0b1-4da7-b9eb-2ed25c8a6f0a",
   "metadata": {},
   "outputs": [],
   "source": [
    "train_df = pd.DataFrame(y_train_pred_final[['lead_index','Score']])"
   ]
  },
  {
   "cell_type": "code",
   "execution_count": 130,
   "id": "d1eed0c6-381c-435e-bfa0-a04b34bfab83",
   "metadata": {},
   "outputs": [
    {
     "data": {
      "text/html": [
       "<div>\n",
       "<style scoped>\n",
       "    .dataframe tbody tr th:only-of-type {\n",
       "        vertical-align: middle;\n",
       "    }\n",
       "\n",
       "    .dataframe tbody tr th {\n",
       "        vertical-align: top;\n",
       "    }\n",
       "\n",
       "    .dataframe thead th {\n",
       "        text-align: right;\n",
       "    }\n",
       "</style>\n",
       "<table border=\"1\" class=\"dataframe\">\n",
       "  <thead>\n",
       "    <tr style=\"text-align: right;\">\n",
       "      <th></th>\n",
       "      <th>lead_index</th>\n",
       "      <th>Score</th>\n",
       "    </tr>\n",
       "  </thead>\n",
       "  <tbody>\n",
       "    <tr>\n",
       "      <th>0</th>\n",
       "      <td>1871</td>\n",
       "      <td>0.535355</td>\n",
       "    </tr>\n",
       "    <tr>\n",
       "      <th>1</th>\n",
       "      <td>6795</td>\n",
       "      <td>37.518844</td>\n",
       "    </tr>\n",
       "    <tr>\n",
       "      <th>2</th>\n",
       "      <td>3516</td>\n",
       "      <td>0.535355</td>\n",
       "    </tr>\n",
       "    <tr>\n",
       "      <th>3</th>\n",
       "      <td>8105</td>\n",
       "      <td>6.205559</td>\n",
       "    </tr>\n",
       "    <tr>\n",
       "      <th>4</th>\n",
       "      <td>3934</td>\n",
       "      <td>37.518844</td>\n",
       "    </tr>\n",
       "    <tr>\n",
       "      <th>...</th>\n",
       "      <td>...</td>\n",
       "      <td>...</td>\n",
       "    </tr>\n",
       "    <tr>\n",
       "      <th>6463</th>\n",
       "      <td>350</td>\n",
       "      <td>87.053050</td>\n",
       "    </tr>\n",
       "    <tr>\n",
       "      <th>6464</th>\n",
       "      <td>79</td>\n",
       "      <td>99.150811</td>\n",
       "    </tr>\n",
       "    <tr>\n",
       "      <th>6465</th>\n",
       "      <td>8039</td>\n",
       "      <td>37.518844</td>\n",
       "    </tr>\n",
       "    <tr>\n",
       "      <th>6466</th>\n",
       "      <td>6936</td>\n",
       "      <td>2.019793</td>\n",
       "    </tr>\n",
       "    <tr>\n",
       "      <th>6467</th>\n",
       "      <td>5640</td>\n",
       "      <td>37.518844</td>\n",
       "    </tr>\n",
       "  </tbody>\n",
       "</table>\n",
       "<p>6468 rows × 2 columns</p>\n",
       "</div>"
      ],
      "text/plain": [
       "      lead_index      Score\n",
       "0           1871   0.535355\n",
       "1           6795  37.518844\n",
       "2           3516   0.535355\n",
       "3           8105   6.205559\n",
       "4           3934  37.518844\n",
       "...          ...        ...\n",
       "6463         350  87.053050\n",
       "6464          79  99.150811\n",
       "6465        8039  37.518844\n",
       "6466        6936   2.019793\n",
       "6467        5640  37.518844\n",
       "\n",
       "[6468 rows x 2 columns]"
      ]
     },
     "execution_count": 130,
     "metadata": {},
     "output_type": "execute_result"
    }
   ],
   "source": [
    "train_df"
   ]
  },
  {
   "cell_type": "markdown",
   "id": "5c5809cf-e90e-455e-82d5-5ee0e46e7825",
   "metadata": {},
   "source": [
    "### Hot Leads"
   ]
  },
  {
   "cell_type": "code",
   "execution_count": 131,
   "id": "9732179b-0a72-4c0d-a854-f7e773f731e8",
   "metadata": {},
   "outputs": [
    {
     "data": {
      "text/html": [
       "<div>\n",
       "<style scoped>\n",
       "    .dataframe tbody tr th:only-of-type {\n",
       "        vertical-align: middle;\n",
       "    }\n",
       "\n",
       "    .dataframe tbody tr th {\n",
       "        vertical-align: top;\n",
       "    }\n",
       "\n",
       "    .dataframe thead th {\n",
       "        text-align: right;\n",
       "    }\n",
       "</style>\n",
       "<table border=\"1\" class=\"dataframe\">\n",
       "  <thead>\n",
       "    <tr style=\"text-align: right;\">\n",
       "      <th></th>\n",
       "      <th>lead_index</th>\n",
       "      <th>Score</th>\n",
       "    </tr>\n",
       "  </thead>\n",
       "  <tbody>\n",
       "    <tr>\n",
       "      <th>5</th>\n",
       "      <td>4844</td>\n",
       "      <td>99.225863</td>\n",
       "    </tr>\n",
       "    <tr>\n",
       "      <th>7</th>\n",
       "      <td>8071</td>\n",
       "      <td>99.995091</td>\n",
       "    </tr>\n",
       "    <tr>\n",
       "      <th>9</th>\n",
       "      <td>7423</td>\n",
       "      <td>88.068641</td>\n",
       "    </tr>\n",
       "    <tr>\n",
       "      <th>10</th>\n",
       "      <td>1032</td>\n",
       "      <td>88.068641</td>\n",
       "    </tr>\n",
       "    <tr>\n",
       "      <th>11</th>\n",
       "      <td>6542</td>\n",
       "      <td>88.068641</td>\n",
       "    </tr>\n",
       "    <tr>\n",
       "      <th>...</th>\n",
       "      <td>...</td>\n",
       "      <td>...</td>\n",
       "    </tr>\n",
       "    <tr>\n",
       "      <th>6459</th>\n",
       "      <td>802</td>\n",
       "      <td>87.053050</td>\n",
       "    </tr>\n",
       "    <tr>\n",
       "      <th>6460</th>\n",
       "      <td>5646</td>\n",
       "      <td>99.914818</td>\n",
       "    </tr>\n",
       "    <tr>\n",
       "      <th>6462</th>\n",
       "      <td>4149</td>\n",
       "      <td>99.914818</td>\n",
       "    </tr>\n",
       "    <tr>\n",
       "      <th>6463</th>\n",
       "      <td>350</td>\n",
       "      <td>87.053050</td>\n",
       "    </tr>\n",
       "    <tr>\n",
       "      <th>6464</th>\n",
       "      <td>79</td>\n",
       "      <td>99.150811</td>\n",
       "    </tr>\n",
       "  </tbody>\n",
       "</table>\n",
       "<p>1754 rows × 2 columns</p>\n",
       "</div>"
      ],
      "text/plain": [
       "      lead_index      Score\n",
       "5           4844  99.225863\n",
       "7           8071  99.995091\n",
       "9           7423  88.068641\n",
       "10          1032  88.068641\n",
       "11          6542  88.068641\n",
       "...          ...        ...\n",
       "6459         802  87.053050\n",
       "6460        5646  99.914818\n",
       "6462        4149  99.914818\n",
       "6463         350  87.053050\n",
       "6464          79  99.150811\n",
       "\n",
       "[1754 rows x 2 columns]"
      ]
     },
     "execution_count": 131,
     "metadata": {},
     "output_type": "execute_result"
    }
   ],
   "source": [
    "Final_train = train_df[train_df['Score']>80]\n",
    "Final_train"
   ]
  },
  {
   "cell_type": "code",
   "execution_count": 132,
   "id": "b45f3c0b-5161-455b-841f-b70ec6cf39a8",
   "metadata": {},
   "outputs": [
    {
     "data": {
      "text/html": [
       "<div>\n",
       "<style scoped>\n",
       "    .dataframe tbody tr th:only-of-type {\n",
       "        vertical-align: middle;\n",
       "    }\n",
       "\n",
       "    .dataframe tbody tr th {\n",
       "        vertical-align: top;\n",
       "    }\n",
       "\n",
       "    .dataframe thead th {\n",
       "        text-align: right;\n",
       "    }\n",
       "</style>\n",
       "<table border=\"1\" class=\"dataframe\">\n",
       "  <thead>\n",
       "    <tr style=\"text-align: right;\">\n",
       "      <th></th>\n",
       "      <th>lead_index</th>\n",
       "      <th>Score</th>\n",
       "    </tr>\n",
       "  </thead>\n",
       "  <tbody>\n",
       "    <tr>\n",
       "      <th>4269</th>\n",
       "      <td>4269</td>\n",
       "      <td>88.068641</td>\n",
       "    </tr>\n",
       "    <tr>\n",
       "      <th>2376</th>\n",
       "      <td>2376</td>\n",
       "      <td>98.804555</td>\n",
       "    </tr>\n",
       "    <tr>\n",
       "      <th>7766</th>\n",
       "      <td>7766</td>\n",
       "      <td>91.249101</td>\n",
       "    </tr>\n",
       "    <tr>\n",
       "      <th>4359</th>\n",
       "      <td>4359</td>\n",
       "      <td>87.053050</td>\n",
       "    </tr>\n",
       "    <tr>\n",
       "      <th>9186</th>\n",
       "      <td>9186</td>\n",
       "      <td>88.068641</td>\n",
       "    </tr>\n",
       "    <tr>\n",
       "      <th>...</th>\n",
       "      <td>...</td>\n",
       "      <td>...</td>\n",
       "    </tr>\n",
       "    <tr>\n",
       "      <th>6649</th>\n",
       "      <td>6649</td>\n",
       "      <td>88.068641</td>\n",
       "    </tr>\n",
       "    <tr>\n",
       "      <th>3820</th>\n",
       "      <td>3820</td>\n",
       "      <td>99.054397</td>\n",
       "    </tr>\n",
       "    <tr>\n",
       "      <th>3118</th>\n",
       "      <td>3118</td>\n",
       "      <td>88.068641</td>\n",
       "    </tr>\n",
       "    <tr>\n",
       "      <th>2152</th>\n",
       "      <td>2152</td>\n",
       "      <td>98.804555</td>\n",
       "    </tr>\n",
       "    <tr>\n",
       "      <th>2960</th>\n",
       "      <td>2960</td>\n",
       "      <td>98.804555</td>\n",
       "    </tr>\n",
       "  </tbody>\n",
       "</table>\n",
       "<p>781 rows × 2 columns</p>\n",
       "</div>"
      ],
      "text/plain": [
       "      lead_index      Score\n",
       "4269        4269  88.068641\n",
       "2376        2376  98.804555\n",
       "7766        7766  91.249101\n",
       "4359        4359  87.053050\n",
       "9186        9186  88.068641\n",
       "...          ...        ...\n",
       "6649        6649  88.068641\n",
       "3820        3820  99.054397\n",
       "3118        3118  88.068641\n",
       "2152        2152  98.804555\n",
       "2960        2960  98.804555\n",
       "\n",
       "[781 rows x 2 columns]"
      ]
     },
     "execution_count": 132,
     "metadata": {},
     "output_type": "execute_result"
    }
   ],
   "source": [
    "Final_test = test_df[test_df['Score']>80]\n",
    "Final_test"
   ]
  },
  {
   "cell_type": "markdown",
   "id": "41714e10-3e30-46bb-a622-f7aabff0aaab",
   "metadata": {},
   "source": [
    "### Potential Leads - Lead Score > 35 - Predicted as converted by model"
   ]
  },
  {
   "cell_type": "code",
   "execution_count": 133,
   "id": "4407f72e-eb18-4dae-b609-99c8b44e2a7f",
   "metadata": {},
   "outputs": [
    {
     "data": {
      "text/html": [
       "<div>\n",
       "<style scoped>\n",
       "    .dataframe tbody tr th:only-of-type {\n",
       "        vertical-align: middle;\n",
       "    }\n",
       "\n",
       "    .dataframe tbody tr th {\n",
       "        vertical-align: top;\n",
       "    }\n",
       "\n",
       "    .dataframe thead th {\n",
       "        text-align: right;\n",
       "    }\n",
       "</style>\n",
       "<table border=\"1\" class=\"dataframe\">\n",
       "  <thead>\n",
       "    <tr style=\"text-align: right;\">\n",
       "      <th></th>\n",
       "      <th>lead_index</th>\n",
       "      <th>Score</th>\n",
       "    </tr>\n",
       "  </thead>\n",
       "  <tbody>\n",
       "    <tr>\n",
       "      <th>1</th>\n",
       "      <td>6795</td>\n",
       "      <td>37.518844</td>\n",
       "    </tr>\n",
       "    <tr>\n",
       "      <th>4</th>\n",
       "      <td>3934</td>\n",
       "      <td>37.518844</td>\n",
       "    </tr>\n",
       "    <tr>\n",
       "      <th>5</th>\n",
       "      <td>4844</td>\n",
       "      <td>99.225863</td>\n",
       "    </tr>\n",
       "    <tr>\n",
       "      <th>7</th>\n",
       "      <td>8071</td>\n",
       "      <td>99.995091</td>\n",
       "    </tr>\n",
       "    <tr>\n",
       "      <th>8</th>\n",
       "      <td>987</td>\n",
       "      <td>37.518844</td>\n",
       "    </tr>\n",
       "    <tr>\n",
       "      <th>...</th>\n",
       "      <td>...</td>\n",
       "      <td>...</td>\n",
       "    </tr>\n",
       "    <tr>\n",
       "      <th>6462</th>\n",
       "      <td>4149</td>\n",
       "      <td>99.914818</td>\n",
       "    </tr>\n",
       "    <tr>\n",
       "      <th>6463</th>\n",
       "      <td>350</td>\n",
       "      <td>87.053050</td>\n",
       "    </tr>\n",
       "    <tr>\n",
       "      <th>6464</th>\n",
       "      <td>79</td>\n",
       "      <td>99.150811</td>\n",
       "    </tr>\n",
       "    <tr>\n",
       "      <th>6465</th>\n",
       "      <td>8039</td>\n",
       "      <td>37.518844</td>\n",
       "    </tr>\n",
       "    <tr>\n",
       "      <th>6467</th>\n",
       "      <td>5640</td>\n",
       "      <td>37.518844</td>\n",
       "    </tr>\n",
       "  </tbody>\n",
       "</table>\n",
       "<p>3578 rows × 2 columns</p>\n",
       "</div>"
      ],
      "text/plain": [
       "      lead_index      Score\n",
       "1           6795  37.518844\n",
       "4           3934  37.518844\n",
       "5           4844  99.225863\n",
       "7           8071  99.995091\n",
       "8            987  37.518844\n",
       "...          ...        ...\n",
       "6462        4149  99.914818\n",
       "6463         350  87.053050\n",
       "6464          79  99.150811\n",
       "6465        8039  37.518844\n",
       "6467        5640  37.518844\n",
       "\n",
       "[3578 rows x 2 columns]"
      ]
     },
     "execution_count": 133,
     "metadata": {},
     "output_type": "execute_result"
    }
   ],
   "source": [
    "Final_train_potential = train_df[train_df['Score']>35]\n",
    "Final_train_potential"
   ]
  },
  {
   "cell_type": "markdown",
   "id": "daa04ddd-ff40-47f0-9fa6-801bd0774d24",
   "metadata": {},
   "source": [
    "### Potential Leads - Lead Score > 35 - Predicted as converted by model"
   ]
  },
  {
   "cell_type": "code",
   "execution_count": 134,
   "id": "e9fa5f28-979d-4ddf-8676-e8552689dce2",
   "metadata": {},
   "outputs": [
    {
     "data": {
      "text/html": [
       "<div>\n",
       "<style scoped>\n",
       "    .dataframe tbody tr th:only-of-type {\n",
       "        vertical-align: middle;\n",
       "    }\n",
       "\n",
       "    .dataframe tbody tr th {\n",
       "        vertical-align: top;\n",
       "    }\n",
       "\n",
       "    .dataframe thead th {\n",
       "        text-align: right;\n",
       "    }\n",
       "</style>\n",
       "<table border=\"1\" class=\"dataframe\">\n",
       "  <thead>\n",
       "    <tr style=\"text-align: right;\">\n",
       "      <th></th>\n",
       "      <th>lead_index</th>\n",
       "      <th>Score</th>\n",
       "    </tr>\n",
       "  </thead>\n",
       "  <tbody>\n",
       "    <tr>\n",
       "      <th>4269</th>\n",
       "      <td>4269</td>\n",
       "      <td>88.068641</td>\n",
       "    </tr>\n",
       "    <tr>\n",
       "      <th>2376</th>\n",
       "      <td>2376</td>\n",
       "      <td>98.804555</td>\n",
       "    </tr>\n",
       "    <tr>\n",
       "      <th>7766</th>\n",
       "      <td>7766</td>\n",
       "      <td>91.249101</td>\n",
       "    </tr>\n",
       "    <tr>\n",
       "      <th>4359</th>\n",
       "      <td>4359</td>\n",
       "      <td>87.053050</td>\n",
       "    </tr>\n",
       "    <tr>\n",
       "      <th>9186</th>\n",
       "      <td>9186</td>\n",
       "      <td>88.068641</td>\n",
       "    </tr>\n",
       "    <tr>\n",
       "      <th>...</th>\n",
       "      <td>...</td>\n",
       "      <td>...</td>\n",
       "    </tr>\n",
       "    <tr>\n",
       "      <th>621</th>\n",
       "      <td>621</td>\n",
       "      <td>37.518844</td>\n",
       "    </tr>\n",
       "    <tr>\n",
       "      <th>3118</th>\n",
       "      <td>3118</td>\n",
       "      <td>88.068641</td>\n",
       "    </tr>\n",
       "    <tr>\n",
       "      <th>8649</th>\n",
       "      <td>8649</td>\n",
       "      <td>37.518844</td>\n",
       "    </tr>\n",
       "    <tr>\n",
       "      <th>2152</th>\n",
       "      <td>2152</td>\n",
       "      <td>98.804555</td>\n",
       "    </tr>\n",
       "    <tr>\n",
       "      <th>2960</th>\n",
       "      <td>2960</td>\n",
       "      <td>98.804555</td>\n",
       "    </tr>\n",
       "  </tbody>\n",
       "</table>\n",
       "<p>1583 rows × 2 columns</p>\n",
       "</div>"
      ],
      "text/plain": [
       "      lead_index      Score\n",
       "4269        4269  88.068641\n",
       "2376        2376  98.804555\n",
       "7766        7766  91.249101\n",
       "4359        4359  87.053050\n",
       "9186        9186  88.068641\n",
       "...          ...        ...\n",
       "621          621  37.518844\n",
       "3118        3118  88.068641\n",
       "8649        8649  37.518844\n",
       "2152        2152  98.804555\n",
       "2960        2960  98.804555\n",
       "\n",
       "[1583 rows x 2 columns]"
      ]
     },
     "execution_count": 134,
     "metadata": {},
     "output_type": "execute_result"
    }
   ],
   "source": [
    "Final_test_potential = test_df[test_df['Score']>35]\n",
    "Final_test_potential"
   ]
  },
  {
   "cell_type": "code",
   "execution_count": null,
   "id": "40ae309f-0593-4642-9b67-bbcc21d0cfd5",
   "metadata": {},
   "outputs": [],
   "source": []
  }
 ],
 "metadata": {
  "kernelspec": {
   "display_name": "Python 3 (ipykernel)",
   "language": "python",
   "name": "python3"
  },
  "language_info": {
   "codemirror_mode": {
    "name": "ipython",
    "version": 3
   },
   "file_extension": ".py",
   "mimetype": "text/x-python",
   "name": "python",
   "nbconvert_exporter": "python",
   "pygments_lexer": "ipython3",
   "version": "3.8.12"
  }
 },
 "nbformat": 4,
 "nbformat_minor": 5
}
