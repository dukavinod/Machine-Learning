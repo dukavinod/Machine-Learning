{
 "cells": [
  {
   "cell_type": "code",
   "execution_count": 46,
   "id": "2cade5f3-ff5a-4a0e-a21f-b9ab2775de1e",
   "metadata": {},
   "outputs": [],
   "source": [
    "import pandas as pd\n",
    "import seaborn as sns\n",
    "import matplotlib.pyplot as plt\n",
    "\n",
    "from sklearn.preprocessing import StandardScaler\n",
    "\n",
    "from scipy.cluster.hierarchy import linkage\n",
    "from scipy.cluster.hierarchy import dendrogram\n",
    "from scipy.cluster.hierarchy import cut_tree"
   ]
  },
  {
   "cell_type": "code",
   "execution_count": 47,
   "id": "11f1631d-be5c-4d98-8320-d69e6746b127",
   "metadata": {},
   "outputs": [],
   "source": [
    "cricket = pd.read_csv('Cricket - Kmeans clustering.csv',encoding= 'unicode_escape')"
   ]
  },
  {
   "cell_type": "code",
   "execution_count": 48,
   "id": "d4b6ab4d-80e9-4926-8c59-ade414246adc",
   "metadata": {},
   "outputs": [
    {
     "data": {
      "text/html": [
       "<div>\n",
       "<style scoped>\n",
       "    .dataframe tbody tr th:only-of-type {\n",
       "        vertical-align: middle;\n",
       "    }\n",
       "\n",
       "    .dataframe tbody tr th {\n",
       "        vertical-align: top;\n",
       "    }\n",
       "\n",
       "    .dataframe thead th {\n",
       "        text-align: right;\n",
       "    }\n",
       "</style>\n",
       "<table border=\"1\" class=\"dataframe\">\n",
       "  <thead>\n",
       "    <tr style=\"text-align: right;\">\n",
       "      <th></th>\n",
       "      <th>Player</th>\n",
       "      <th>Span</th>\n",
       "      <th>Mat</th>\n",
       "      <th>Inns</th>\n",
       "      <th>NO</th>\n",
       "      <th>Runs</th>\n",
       "      <th>HS</th>\n",
       "      <th>Ave</th>\n",
       "      <th>BF</th>\n",
       "      <th>SR</th>\n",
       "      <th>100</th>\n",
       "      <th>50</th>\n",
       "      <th>0</th>\n",
       "    </tr>\n",
       "  </thead>\n",
       "  <tbody>\n",
       "    <tr>\n",
       "      <th>0</th>\n",
       "      <td>SR Tendulkar (INDIA)</td>\n",
       "      <td>1989-2012</td>\n",
       "      <td>463</td>\n",
       "      <td>452</td>\n",
       "      <td>41</td>\n",
       "      <td>18426</td>\n",
       "      <td>200*</td>\n",
       "      <td>44.83</td>\n",
       "      <td>21367</td>\n",
       "      <td>86.23</td>\n",
       "      <td>49</td>\n",
       "      <td>96</td>\n",
       "      <td>20</td>\n",
       "    </tr>\n",
       "    <tr>\n",
       "      <th>1</th>\n",
       "      <td>KC Sangakkara (Asia/ICC/SL)</td>\n",
       "      <td>2000-2015</td>\n",
       "      <td>404</td>\n",
       "      <td>380</td>\n",
       "      <td>41</td>\n",
       "      <td>14234</td>\n",
       "      <td>169</td>\n",
       "      <td>41.98</td>\n",
       "      <td>18048</td>\n",
       "      <td>78.86</td>\n",
       "      <td>25</td>\n",
       "      <td>93</td>\n",
       "      <td>15</td>\n",
       "    </tr>\n",
       "    <tr>\n",
       "      <th>2</th>\n",
       "      <td>RT Ponting (AUS/ICC)</td>\n",
       "      <td>1995-2012</td>\n",
       "      <td>375</td>\n",
       "      <td>365</td>\n",
       "      <td>39</td>\n",
       "      <td>13704</td>\n",
       "      <td>164</td>\n",
       "      <td>42.03</td>\n",
       "      <td>17046</td>\n",
       "      <td>80.39</td>\n",
       "      <td>30</td>\n",
       "      <td>82</td>\n",
       "      <td>20</td>\n",
       "    </tr>\n",
       "    <tr>\n",
       "      <th>3</th>\n",
       "      <td>ST Jayasuriya (Asia/SL)</td>\n",
       "      <td>1989-2011</td>\n",
       "      <td>445</td>\n",
       "      <td>433</td>\n",
       "      <td>18</td>\n",
       "      <td>13430</td>\n",
       "      <td>189</td>\n",
       "      <td>32.36</td>\n",
       "      <td>14725</td>\n",
       "      <td>91.20</td>\n",
       "      <td>28</td>\n",
       "      <td>68</td>\n",
       "      <td>34</td>\n",
       "    </tr>\n",
       "    <tr>\n",
       "      <th>4</th>\n",
       "      <td>DPMD Jayawardene (Asia/SL)</td>\n",
       "      <td>1998-2015</td>\n",
       "      <td>448</td>\n",
       "      <td>418</td>\n",
       "      <td>39</td>\n",
       "      <td>12650</td>\n",
       "      <td>144</td>\n",
       "      <td>33.37</td>\n",
       "      <td>16020</td>\n",
       "      <td>78.96</td>\n",
       "      <td>19</td>\n",
       "      <td>77</td>\n",
       "      <td>28</td>\n",
       "    </tr>\n",
       "  </tbody>\n",
       "</table>\n",
       "</div>"
      ],
      "text/plain": [
       "                        Player       Span  Mat  Inns  NO   Runs    HS    Ave  \\\n",
       "0         SR Tendulkar (INDIA)  1989-2012  463   452  41  18426  200*  44.83   \n",
       "1  KC Sangakkara (Asia/ICC/SL)  2000-2015  404   380  41  14234   169  41.98   \n",
       "2         RT Ponting (AUS/ICC)  1995-2012  375   365  39  13704   164  42.03   \n",
       "3      ST Jayasuriya (Asia/SL)  1989-2011  445   433  18  13430   189  32.36   \n",
       "4   DPMD Jayawardene (Asia/SL)  1998-2015  448   418  39  12650   144  33.37   \n",
       "\n",
       "      BF     SR  100  50   0  \n",
       "0  21367  86.23   49  96  20  \n",
       "1  18048  78.86   25  93  15  \n",
       "2  17046  80.39   30  82  20  \n",
       "3  14725  91.20   28  68  34  \n",
       "4  16020  78.96   19  77  28  "
      ]
     },
     "execution_count": 48,
     "metadata": {},
     "output_type": "execute_result"
    }
   ],
   "source": [
    "cricket.head()"
   ]
  },
  {
   "cell_type": "code",
   "execution_count": 49,
   "id": "0819bece-d637-4af6-b3bc-01992315f02b",
   "metadata": {},
   "outputs": [],
   "source": [
    "Scaler = StandardScaler()"
   ]
  },
  {
   "cell_type": "code",
   "execution_count": 50,
   "id": "2539724f-e1e0-42cb-a8d5-4ccb06fa01cb",
   "metadata": {},
   "outputs": [],
   "source": [
    "cricket_numerical = cricket[['Ave','SR']]"
   ]
  },
  {
   "cell_type": "code",
   "execution_count": 51,
   "id": "f667c5f8-a17b-407d-897e-ccc46028c98b",
   "metadata": {},
   "outputs": [
    {
     "data": {
      "text/plain": [
       "Index(['Ave', 'SR'], dtype='object')"
      ]
     },
     "execution_count": 51,
     "metadata": {},
     "output_type": "execute_result"
    }
   ],
   "source": [
    "cricket_numerical.columns"
   ]
  },
  {
   "cell_type": "code",
   "execution_count": 52,
   "id": "063c0306-f23b-440a-acf6-290dfeb40b61",
   "metadata": {},
   "outputs": [],
   "source": [
    "cricket_scaled = Scaler.fit_transform(cricket_numerical)"
   ]
  },
  {
   "cell_type": "code",
   "execution_count": 53,
   "id": "eaee8740-23a1-4cbd-bdd0-e82451eba181",
   "metadata": {},
   "outputs": [
    {
     "data": {
      "text/plain": [
       "(79, 2)"
      ]
     },
     "execution_count": 53,
     "metadata": {},
     "output_type": "execute_result"
    }
   ],
   "source": [
    "cricket_scaled.shape"
   ]
  },
  {
   "cell_type": "code",
   "execution_count": 9,
   "id": "27ae27ab-66f4-4e3b-a9c9-faa34cbfcfdf",
   "metadata": {},
   "outputs": [],
   "source": [
    "from sklearn.cluster import KMeans"
   ]
  },
  {
   "cell_type": "code",
   "execution_count": 10,
   "id": "1804b4b4-a823-451b-ac06-fcbbf3c3869a",
   "metadata": {},
   "outputs": [
    {
     "data": {
      "text/plain": [
       "KMeans(max_iter=30, n_clusters=4)"
      ]
     },
     "execution_count": 10,
     "metadata": {},
     "output_type": "execute_result"
    }
   ],
   "source": [
    "Kmeans = KMeans(n_clusters = 4,max_iter = 30)\n",
    "Kmeans.fit(cricket_scaled)"
   ]
  },
  {
   "cell_type": "code",
   "execution_count": 11,
   "id": "88bae26e-f250-416a-91e4-7180dda4369d",
   "metadata": {},
   "outputs": [
    {
     "data": {
      "text/plain": [
       "array([1, 2, 2, 0, 3, 2, 2, 2, 2, 2, 0, 2, 0, 1, 3, 1, 3, 0, 2, 2, 0, 2,\n",
       "       3, 2, 0, 1, 0, 0, 3, 2, 3, 3, 2, 3, 1, 3, 3, 2, 1, 2, 3, 3, 1, 3,\n",
       "       3, 3, 2, 3, 3, 2, 0, 2, 3, 3, 3, 3, 2, 0, 3, 0, 3, 0, 2, 1, 1, 2,\n",
       "       2, 3, 2, 3, 0, 3, 3, 3, 2, 2, 3, 0, 3])"
      ]
     },
     "execution_count": 11,
     "metadata": {},
     "output_type": "execute_result"
    }
   ],
   "source": [
    "Kmeans.labels_"
   ]
  },
  {
   "cell_type": "code",
   "execution_count": 54,
   "id": "b192c7e2-df17-45b0-bfed-fb736be55d75",
   "metadata": {},
   "outputs": [],
   "source": [
    "cricket_df = pd.DataFrame(cricket_scaled)"
   ]
  },
  {
   "cell_type": "code",
   "execution_count": 55,
   "id": "11ecd5b4-fc5c-464e-9a68-fd81ac9373ba",
   "metadata": {},
   "outputs": [
    {
     "data": {
      "text/html": [
       "<div>\n",
       "<style scoped>\n",
       "    .dataframe tbody tr th:only-of-type {\n",
       "        vertical-align: middle;\n",
       "    }\n",
       "\n",
       "    .dataframe tbody tr th {\n",
       "        vertical-align: top;\n",
       "    }\n",
       "\n",
       "    .dataframe thead th {\n",
       "        text-align: right;\n",
       "    }\n",
       "</style>\n",
       "<table border=\"1\" class=\"dataframe\">\n",
       "  <thead>\n",
       "    <tr style=\"text-align: right;\">\n",
       "      <th></th>\n",
       "      <th>0</th>\n",
       "      <th>1</th>\n",
       "    </tr>\n",
       "  </thead>\n",
       "  <tbody>\n",
       "    <tr>\n",
       "      <th>0</th>\n",
       "      <td>1.072294</td>\n",
       "      <td>0.703152</td>\n",
       "    </tr>\n",
       "    <tr>\n",
       "      <th>1</th>\n",
       "      <td>0.587725</td>\n",
       "      <td>-0.044139</td>\n",
       "    </tr>\n",
       "    <tr>\n",
       "      <th>2</th>\n",
       "      <td>0.596226</td>\n",
       "      <td>0.110997</td>\n",
       "    </tr>\n",
       "    <tr>\n",
       "      <th>3</th>\n",
       "      <td>-1.047909</td>\n",
       "      <td>1.207091</td>\n",
       "    </tr>\n",
       "    <tr>\n",
       "      <th>4</th>\n",
       "      <td>-0.876185</td>\n",
       "      <td>-0.034000</td>\n",
       "    </tr>\n",
       "    <tr>\n",
       "      <th>...</th>\n",
       "      <td>...</td>\n",
       "      <td>...</td>\n",
       "    </tr>\n",
       "    <tr>\n",
       "      <th>74</th>\n",
       "      <td>1.106299</td>\n",
       "      <td>-1.457604</td>\n",
       "    </tr>\n",
       "    <tr>\n",
       "      <th>75</th>\n",
       "      <td>0.829159</td>\n",
       "      <td>-0.562275</td>\n",
       "    </tr>\n",
       "    <tr>\n",
       "      <th>76</th>\n",
       "      <td>-0.537836</td>\n",
       "      <td>-0.234765</td>\n",
       "    </tr>\n",
       "    <tr>\n",
       "      <th>77</th>\n",
       "      <td>0.208570</td>\n",
       "      <td>1.332823</td>\n",
       "    </tr>\n",
       "    <tr>\n",
       "      <th>78</th>\n",
       "      <td>-1.500174</td>\n",
       "      <td>0.198198</td>\n",
       "    </tr>\n",
       "  </tbody>\n",
       "</table>\n",
       "<p>79 rows × 2 columns</p>\n",
       "</div>"
      ],
      "text/plain": [
       "           0         1\n",
       "0   1.072294  0.703152\n",
       "1   0.587725 -0.044139\n",
       "2   0.596226  0.110997\n",
       "3  -1.047909  1.207091\n",
       "4  -0.876185 -0.034000\n",
       "..       ...       ...\n",
       "74  1.106299 -1.457604\n",
       "75  0.829159 -0.562275\n",
       "76 -0.537836 -0.234765\n",
       "77  0.208570  1.332823\n",
       "78 -1.500174  0.198198\n",
       "\n",
       "[79 rows x 2 columns]"
      ]
     },
     "execution_count": 55,
     "metadata": {},
     "output_type": "execute_result"
    }
   ],
   "source": [
    "cricket_df"
   ]
  },
  {
   "cell_type": "code",
   "execution_count": 57,
   "id": "d3763ff6-46d6-4ac6-96b6-06c3f239a806",
   "metadata": {},
   "outputs": [],
   "source": [
    "cricket_df.columns = ['Ave','SR']"
   ]
  },
  {
   "cell_type": "code",
   "execution_count": 58,
   "id": "a33b111a-9c2a-438b-a6c7-65da23c2ce23",
   "metadata": {},
   "outputs": [
    {
     "data": {
      "text/html": [
       "<div>\n",
       "<style scoped>\n",
       "    .dataframe tbody tr th:only-of-type {\n",
       "        vertical-align: middle;\n",
       "    }\n",
       "\n",
       "    .dataframe tbody tr th {\n",
       "        vertical-align: top;\n",
       "    }\n",
       "\n",
       "    .dataframe thead th {\n",
       "        text-align: right;\n",
       "    }\n",
       "</style>\n",
       "<table border=\"1\" class=\"dataframe\">\n",
       "  <thead>\n",
       "    <tr style=\"text-align: right;\">\n",
       "      <th></th>\n",
       "      <th>Ave</th>\n",
       "      <th>SR</th>\n",
       "    </tr>\n",
       "  </thead>\n",
       "  <tbody>\n",
       "    <tr>\n",
       "      <th>0</th>\n",
       "      <td>1.072294</td>\n",
       "      <td>0.703152</td>\n",
       "    </tr>\n",
       "    <tr>\n",
       "      <th>1</th>\n",
       "      <td>0.587725</td>\n",
       "      <td>-0.044139</td>\n",
       "    </tr>\n",
       "    <tr>\n",
       "      <th>2</th>\n",
       "      <td>0.596226</td>\n",
       "      <td>0.110997</td>\n",
       "    </tr>\n",
       "    <tr>\n",
       "      <th>3</th>\n",
       "      <td>-1.047909</td>\n",
       "      <td>1.207091</td>\n",
       "    </tr>\n",
       "    <tr>\n",
       "      <th>4</th>\n",
       "      <td>-0.876185</td>\n",
       "      <td>-0.034000</td>\n",
       "    </tr>\n",
       "    <tr>\n",
       "      <th>...</th>\n",
       "      <td>...</td>\n",
       "      <td>...</td>\n",
       "    </tr>\n",
       "    <tr>\n",
       "      <th>74</th>\n",
       "      <td>1.106299</td>\n",
       "      <td>-1.457604</td>\n",
       "    </tr>\n",
       "    <tr>\n",
       "      <th>75</th>\n",
       "      <td>0.829159</td>\n",
       "      <td>-0.562275</td>\n",
       "    </tr>\n",
       "    <tr>\n",
       "      <th>76</th>\n",
       "      <td>-0.537836</td>\n",
       "      <td>-0.234765</td>\n",
       "    </tr>\n",
       "    <tr>\n",
       "      <th>77</th>\n",
       "      <td>0.208570</td>\n",
       "      <td>1.332823</td>\n",
       "    </tr>\n",
       "    <tr>\n",
       "      <th>78</th>\n",
       "      <td>-1.500174</td>\n",
       "      <td>0.198198</td>\n",
       "    </tr>\n",
       "  </tbody>\n",
       "</table>\n",
       "<p>79 rows × 2 columns</p>\n",
       "</div>"
      ],
      "text/plain": [
       "         Ave        SR\n",
       "0   1.072294  0.703152\n",
       "1   0.587725 -0.044139\n",
       "2   0.596226  0.110997\n",
       "3  -1.047909  1.207091\n",
       "4  -0.876185 -0.034000\n",
       "..       ...       ...\n",
       "74  1.106299 -1.457604\n",
       "75  0.829159 -0.562275\n",
       "76 -0.537836 -0.234765\n",
       "77  0.208570  1.332823\n",
       "78 -1.500174  0.198198\n",
       "\n",
       "[79 rows x 2 columns]"
      ]
     },
     "execution_count": 58,
     "metadata": {},
     "output_type": "execute_result"
    }
   ],
   "source": [
    "cricket_df"
   ]
  },
  {
   "cell_type": "code",
   "execution_count": 16,
   "id": "5626cbfc-bf95-47c3-9a7f-b88dc07d2ca7",
   "metadata": {},
   "outputs": [],
   "source": [
    "cricket_df['cluster_no'] = Kmeans.labels_"
   ]
  },
  {
   "cell_type": "code",
   "execution_count": 17,
   "id": "3092c505-f47e-44b3-9637-d731f902c8d6",
   "metadata": {},
   "outputs": [],
   "source": [
    "cricket_df['Player'] = cricket.Player"
   ]
  },
  {
   "cell_type": "code",
   "execution_count": 18,
   "id": "aae08624-b223-4b10-9eab-9cee432b5469",
   "metadata": {},
   "outputs": [
    {
     "data": {
      "text/plain": [
       "1     KC Sangakkara (Asia/ICC/SL)\n",
       "2            RT Ponting (AUS/ICC)\n",
       "5       Inzamam-ul-Haq (Asia/PAK)\n",
       "6          JH Kallis (Afr/ICC/SA)\n",
       "7         SC Ganguly (Asia/INDIA)\n",
       "8       R Dravid (Asia/ICC/INDIA)\n",
       "9                BC Lara (ICC/WI)\n",
       "11     Mohammad Yousuf (Asia/PAK)\n",
       "18              Saeed Anwar (PAK)\n",
       "19             S Chanderpaul (WI)\n",
       "21                 DL Haynes (WI)\n",
       "23                 ME Waugh (AUS)\n",
       "29                MJ Clarke (AUS)\n",
       "32            Javed Miandad (PAK)\n",
       "37              GC Smith (Afr/SA)\n",
       "39                 G Kirsten (SA)\n",
       "46               LRPL Taylor (NZ)\n",
       "49            ML Hayden (AUS/ICC)\n",
       "51                 DM Jones (AUS)\n",
       "56                 RR Sarwan (WI)\n",
       "62                 WJ Cronje (SA)\n",
       "65              RG Sharma (INDIA)\n",
       "66                  IR Bell (ENG)\n",
       "68                DR Martyn (AUS)\n",
       "74              CG Greenidge (WI)\n",
       "75            Misbah-ul-Haq (PAK)\n",
       "Name: Player, dtype: object"
      ]
     },
     "execution_count": 18,
     "metadata": {},
     "output_type": "execute_result"
    }
   ],
   "source": [
    "cricket_df[cricket_df.cluster_no == 2].Player"
   ]
  },
  {
   "cell_type": "code",
   "execution_count": 19,
   "id": "dd6dc33e-6961-41f3-980d-becc18d7fb87",
   "metadata": {},
   "outputs": [
    {
     "data": {
      "text/html": [
       "<div>\n",
       "<style scoped>\n",
       "    .dataframe tbody tr th:only-of-type {\n",
       "        vertical-align: middle;\n",
       "    }\n",
       "\n",
       "    .dataframe tbody tr th {\n",
       "        vertical-align: top;\n",
       "    }\n",
       "\n",
       "    .dataframe thead th {\n",
       "        text-align: right;\n",
       "    }\n",
       "</style>\n",
       "<table border=\"1\" class=\"dataframe\">\n",
       "  <thead>\n",
       "    <tr style=\"text-align: right;\">\n",
       "      <th></th>\n",
       "      <th>Ave</th>\n",
       "      <th>SR</th>\n",
       "      <th>cluster_no</th>\n",
       "      <th>Player</th>\n",
       "    </tr>\n",
       "  </thead>\n",
       "  <tbody>\n",
       "    <tr>\n",
       "      <th>0</th>\n",
       "      <td>1.072294</td>\n",
       "      <td>0.703152</td>\n",
       "      <td>1</td>\n",
       "      <td>SR Tendulkar (INDIA)</td>\n",
       "    </tr>\n",
       "    <tr>\n",
       "      <th>1</th>\n",
       "      <td>0.587725</td>\n",
       "      <td>-0.044139</td>\n",
       "      <td>2</td>\n",
       "      <td>KC Sangakkara (Asia/ICC/SL)</td>\n",
       "    </tr>\n",
       "    <tr>\n",
       "      <th>2</th>\n",
       "      <td>0.596226</td>\n",
       "      <td>0.110997</td>\n",
       "      <td>2</td>\n",
       "      <td>RT Ponting (AUS/ICC)</td>\n",
       "    </tr>\n",
       "    <tr>\n",
       "      <th>3</th>\n",
       "      <td>-1.047909</td>\n",
       "      <td>1.207091</td>\n",
       "      <td>0</td>\n",
       "      <td>ST Jayasuriya (Asia/SL)</td>\n",
       "    </tr>\n",
       "    <tr>\n",
       "      <th>4</th>\n",
       "      <td>-0.876185</td>\n",
       "      <td>-0.034000</td>\n",
       "      <td>3</td>\n",
       "      <td>DPMD Jayawardene (Asia/SL)</td>\n",
       "    </tr>\n",
       "    <tr>\n",
       "      <th>...</th>\n",
       "      <td>...</td>\n",
       "      <td>...</td>\n",
       "      <td>...</td>\n",
       "      <td>...</td>\n",
       "    </tr>\n",
       "    <tr>\n",
       "      <th>74</th>\n",
       "      <td>1.106299</td>\n",
       "      <td>-1.457604</td>\n",
       "      <td>2</td>\n",
       "      <td>CG Greenidge (WI)</td>\n",
       "    </tr>\n",
       "    <tr>\n",
       "      <th>75</th>\n",
       "      <td>0.829159</td>\n",
       "      <td>-0.562275</td>\n",
       "      <td>2</td>\n",
       "      <td>Misbah-ul-Haq (PAK)</td>\n",
       "    </tr>\n",
       "    <tr>\n",
       "      <th>76</th>\n",
       "      <td>-0.537836</td>\n",
       "      <td>-0.234765</td>\n",
       "      <td>3</td>\n",
       "      <td>PD Collingwood (ENG)</td>\n",
       "    </tr>\n",
       "    <tr>\n",
       "      <th>77</th>\n",
       "      <td>0.208570</td>\n",
       "      <td>1.332823</td>\n",
       "      <td>0</td>\n",
       "      <td>A Symonds (AUS)</td>\n",
       "    </tr>\n",
       "    <tr>\n",
       "      <th>78</th>\n",
       "      <td>-1.500174</td>\n",
       "      <td>0.198198</td>\n",
       "      <td>3</td>\n",
       "      <td>Abdul Razzaq (Asia/PAK)</td>\n",
       "    </tr>\n",
       "  </tbody>\n",
       "</table>\n",
       "<p>79 rows × 4 columns</p>\n",
       "</div>"
      ],
      "text/plain": [
       "         Ave        SR  cluster_no                       Player\n",
       "0   1.072294  0.703152           1         SR Tendulkar (INDIA)\n",
       "1   0.587725 -0.044139           2  KC Sangakkara (Asia/ICC/SL)\n",
       "2   0.596226  0.110997           2         RT Ponting (AUS/ICC)\n",
       "3  -1.047909  1.207091           0      ST Jayasuriya (Asia/SL)\n",
       "4  -0.876185 -0.034000           3   DPMD Jayawardene (Asia/SL)\n",
       "..       ...       ...         ...                          ...\n",
       "74  1.106299 -1.457604           2            CG Greenidge (WI)\n",
       "75  0.829159 -0.562275           2          Misbah-ul-Haq (PAK)\n",
       "76 -0.537836 -0.234765           3         PD Collingwood (ENG)\n",
       "77  0.208570  1.332823           0              A Symonds (AUS)\n",
       "78 -1.500174  0.198198           3      Abdul Razzaq (Asia/PAK)\n",
       "\n",
       "[79 rows x 4 columns]"
      ]
     },
     "execution_count": 19,
     "metadata": {},
     "output_type": "execute_result"
    }
   ],
   "source": [
    "cricket_df"
   ]
  },
  {
   "cell_type": "code",
   "execution_count": 20,
   "id": "e2859f40-d284-4b02-80c1-b48a693ae7e7",
   "metadata": {},
   "outputs": [
    {
     "data": {
      "text/plain": [
       "<AxesSubplot:xlabel='Ave', ylabel='SR'>"
      ]
     },
     "execution_count": 20,
     "metadata": {},
     "output_type": "execute_result"
    },
    {
     "data": {
      "image/png": "[encoded data removed]",
      "text/plain": [
       "<Figure size 432x288 with 1 Axes>"
      ]
     },
     "metadata": {
      "needs_background": "light"
     },
     "output_type": "display_data"
    }
   ],
   "source": [
    "sns.scatterplot(x = 'Ave',y = 'SR',data= cricket_df)"
   ]
  },
  {
   "cell_type": "code",
   "execution_count": 21,
   "id": "a3a55d01-ec43-4ba9-924f-62b4e26718a3",
   "metadata": {},
   "outputs": [
    {
     "data": {
      "text/html": [
       "<div>\n",
       "<style scoped>\n",
       "    .dataframe tbody tr th:only-of-type {\n",
       "        vertical-align: middle;\n",
       "    }\n",
       "\n",
       "    .dataframe tbody tr th {\n",
       "        vertical-align: top;\n",
       "    }\n",
       "\n",
       "    .dataframe thead th {\n",
       "        text-align: right;\n",
       "    }\n",
       "</style>\n",
       "<table border=\"1\" class=\"dataframe\">\n",
       "  <thead>\n",
       "    <tr style=\"text-align: right;\">\n",
       "      <th></th>\n",
       "      <th>Ave</th>\n",
       "      <th>SR</th>\n",
       "    </tr>\n",
       "    <tr>\n",
       "      <th>cluster_no</th>\n",
       "      <th></th>\n",
       "      <th></th>\n",
       "    </tr>\n",
       "  </thead>\n",
       "  <tbody>\n",
       "    <tr>\n",
       "      <th>0</th>\n",
       "      <td>-0.468855</td>\n",
       "      <td>1.365125</td>\n",
       "    </tr>\n",
       "    <tr>\n",
       "      <th>1</th>\n",
       "      <td>1.874242</td>\n",
       "      <td>0.910338</td>\n",
       "    </tr>\n",
       "    <tr>\n",
       "      <th>2</th>\n",
       "      <td>0.515268</td>\n",
       "      <td>-0.396336</td>\n",
       "    </tr>\n",
       "    <tr>\n",
       "      <th>3</th>\n",
       "      <td>-0.790039</td>\n",
       "      <td>-0.566669</td>\n",
       "    </tr>\n",
       "  </tbody>\n",
       "</table>\n",
       "</div>"
      ],
      "text/plain": [
       "                 Ave        SR\n",
       "cluster_no                    \n",
       "0          -0.468855  1.365125\n",
       "1           1.874242  0.910338\n",
       "2           0.515268 -0.396336\n",
       "3          -0.790039 -0.566669"
      ]
     },
     "execution_count": 21,
     "metadata": {},
     "output_type": "execute_result"
    }
   ],
   "source": [
    "cricket_df.groupby('cluster_no').mean('Ave')"
   ]
  },
  {
   "cell_type": "code",
   "execution_count": 22,
   "id": "40ade93f-79b5-48db-a1f4-deac4cb2eaec",
   "metadata": {},
   "outputs": [],
   "source": [
    "x1 = cricket_df[cricket_df.cluster_no == 3].Player"
   ]
  },
  {
   "cell_type": "code",
   "execution_count": 23,
   "id": "97b71d9b-8c46-4788-bbf0-beab6f170b4a",
   "metadata": {},
   "outputs": [
    {
     "data": {
      "text/plain": [
       "<AxesSubplot:xlabel='cluster_no', ylabel='Player'>"
      ]
     },
     "execution_count": 23,
     "metadata": {},
     "output_type": "execute_result"
    },
    {
     "data": {
      "image/png": "[encoded data removed]",
      "text/plain": [
       "<Figure size 1440x720 with 1 Axes>"
      ]
     },
     "metadata": {
      "needs_background": "light"
     },
     "output_type": "display_data"
    }
   ],
   "source": [
    "plt.figure(figsize=[20,10])\n",
    "sns.boxplot(x= 'cluster_no', y= x1,data = cricket_df)"
   ]
  },
  {
   "cell_type": "markdown",
   "id": "e1a0316a-8b58-4a88-8f83-dc4c859d5de5",
   "metadata": {},
   "source": [
    "### Hierarchial Clustering"
   ]
  },
  {
   "cell_type": "code",
   "execution_count": 59,
   "id": "afa51696-7bd6-4489-bf30-8bb022b16852",
   "metadata": {},
   "outputs": [],
   "source": [
    "from scipy.cluster.hierarchy import linkage"
   ]
  },
  {
   "cell_type": "code",
   "execution_count": 60,
   "id": "9cc2ae59-ad7f-4412-bfb9-f7db3120225a",
   "metadata": {},
   "outputs": [
    {
     "data": {
      "text/html": [
       "<div>\n",
       "<style scoped>\n",
       "    .dataframe tbody tr th:only-of-type {\n",
       "        vertical-align: middle;\n",
       "    }\n",
       "\n",
       "    .dataframe tbody tr th {\n",
       "        vertical-align: top;\n",
       "    }\n",
       "\n",
       "    .dataframe thead th {\n",
       "        text-align: right;\n",
       "    }\n",
       "</style>\n",
       "<table border=\"1\" class=\"dataframe\">\n",
       "  <thead>\n",
       "    <tr style=\"text-align: right;\">\n",
       "      <th></th>\n",
       "      <th>Ave</th>\n",
       "      <th>SR</th>\n",
       "    </tr>\n",
       "  </thead>\n",
       "  <tbody>\n",
       "    <tr>\n",
       "      <th>0</th>\n",
       "      <td>1.072294</td>\n",
       "      <td>0.703152</td>\n",
       "    </tr>\n",
       "    <tr>\n",
       "      <th>1</th>\n",
       "      <td>0.587725</td>\n",
       "      <td>-0.044139</td>\n",
       "    </tr>\n",
       "    <tr>\n",
       "      <th>2</th>\n",
       "      <td>0.596226</td>\n",
       "      <td>0.110997</td>\n",
       "    </tr>\n",
       "    <tr>\n",
       "      <th>3</th>\n",
       "      <td>-1.047909</td>\n",
       "      <td>1.207091</td>\n",
       "    </tr>\n",
       "    <tr>\n",
       "      <th>4</th>\n",
       "      <td>-0.876185</td>\n",
       "      <td>-0.034000</td>\n",
       "    </tr>\n",
       "    <tr>\n",
       "      <th>...</th>\n",
       "      <td>...</td>\n",
       "      <td>...</td>\n",
       "    </tr>\n",
       "    <tr>\n",
       "      <th>74</th>\n",
       "      <td>1.106299</td>\n",
       "      <td>-1.457604</td>\n",
       "    </tr>\n",
       "    <tr>\n",
       "      <th>75</th>\n",
       "      <td>0.829159</td>\n",
       "      <td>-0.562275</td>\n",
       "    </tr>\n",
       "    <tr>\n",
       "      <th>76</th>\n",
       "      <td>-0.537836</td>\n",
       "      <td>-0.234765</td>\n",
       "    </tr>\n",
       "    <tr>\n",
       "      <th>77</th>\n",
       "      <td>0.208570</td>\n",
       "      <td>1.332823</td>\n",
       "    </tr>\n",
       "    <tr>\n",
       "      <th>78</th>\n",
       "      <td>-1.500174</td>\n",
       "      <td>0.198198</td>\n",
       "    </tr>\n",
       "  </tbody>\n",
       "</table>\n",
       "<p>79 rows × 2 columns</p>\n",
       "</div>"
      ],
      "text/plain": [
       "         Ave        SR\n",
       "0   1.072294  0.703152\n",
       "1   0.587725 -0.044139\n",
       "2   0.596226  0.110997\n",
       "3  -1.047909  1.207091\n",
       "4  -0.876185 -0.034000\n",
       "..       ...       ...\n",
       "74  1.106299 -1.457604\n",
       "75  0.829159 -0.562275\n",
       "76 -0.537836 -0.234765\n",
       "77  0.208570  1.332823\n",
       "78 -1.500174  0.198198\n",
       "\n",
       "[79 rows x 2 columns]"
      ]
     },
     "execution_count": 60,
     "metadata": {},
     "output_type": "execute_result"
    }
   ],
   "source": [
    "cricket_df"
   ]
  },
  {
   "cell_type": "code",
   "execution_count": 61,
   "id": "c2946963-e2da-46a4-96b7-22b658ee82c3",
   "metadata": {},
   "outputs": [
    {
     "data": {
      "image/png": "[encoded data removed]",
      "text/plain": [
       "<Figure size 432x288 with 1 Axes>"
      ]
     },
     "metadata": {
      "needs_background": "light"
     },
     "output_type": "display_data"
    }
   ],
   "source": [
    "mergings = linkage(cricket_df, method=\"single\", metric='euclidean')\n",
    "dendrogram(mergings)\n",
    "plt.show()"
   ]
  },
  {
   "cell_type": "code",
   "execution_count": 62,
   "id": "47ba9d39-2951-493d-bad8-6da682f9ea45",
   "metadata": {},
   "outputs": [
    {
     "data": {
      "image/png": "[encoded data removed]",
      "text/plain": [
       "<Figure size 432x288 with 1 Axes>"
      ]
     },
     "metadata": {
      "needs_background": "light"
     },
     "output_type": "display_data"
    }
   ],
   "source": [
    "mergings = linkage(cricket_df, method=\"complete\", metric='euclidean')\n",
    "dendrogram(mergings)\n",
    "plt.show()"
   ]
  },
  {
   "cell_type": "code",
   "execution_count": 63,
   "id": "0858fb56-0516-4d43-9085-dcd4c9128c0b",
   "metadata": {},
   "outputs": [
    {
     "data": {
      "image/png": "[encoded data removed]",
      "text/plain": [
       "<Figure size 432x288 with 1 Axes>"
      ]
     },
     "metadata": {
      "needs_background": "light"
     },
     "output_type": "display_data"
    }
   ],
   "source": [
    "mergings = linkage(cricket_df, method=\"average\", metric='euclidean')\n",
    "dendrogram(mergings)\n",
    "plt.show()"
   ]
  },
  {
   "cell_type": "code",
   "execution_count": 64,
   "id": "638165a2-3f5e-4b1a-8b76-6baff5000270",
   "metadata": {},
   "outputs": [
    {
     "data": {
      "text/plain": [
       "array([0, 0, 0, 1, 0, 0, 0, 0, 0, 0, 0, 0, 1, 2, 0, 2, 0, 0, 0, 0, 0, 0,\n",
       "       0, 0, 1, 2, 0, 3, 0, 0, 0, 0, 0, 0, 2, 0, 0, 0, 2, 0, 0, 0, 2, 0,\n",
       "       0, 0, 0, 0, 0, 0, 1, 0, 0, 0, 0, 0, 0, 0, 0, 0, 0, 1, 0, 0, 2, 0,\n",
       "       0, 0, 0, 0, 0, 0, 0, 0, 0, 0, 0, 0, 0])"
      ]
     },
     "execution_count": 64,
     "metadata": {},
     "output_type": "execute_result"
    }
   ],
   "source": [
    "cluster_labels = cut_tree(mergings, n_clusters=4).reshape(-1, )\n",
    "cluster_labels"
   ]
  },
  {
   "cell_type": "code",
   "execution_count": 65,
   "id": "40ee938c-bccf-480f-ae8d-f7107a4c8e8a",
   "metadata": {},
   "outputs": [
    {
     "data": {
      "text/html": [
       "<div>\n",
       "<style scoped>\n",
       "    .dataframe tbody tr th:only-of-type {\n",
       "        vertical-align: middle;\n",
       "    }\n",
       "\n",
       "    .dataframe tbody tr th {\n",
       "        vertical-align: top;\n",
       "    }\n",
       "\n",
       "    .dataframe thead th {\n",
       "        text-align: right;\n",
       "    }\n",
       "</style>\n",
       "<table border=\"1\" class=\"dataframe\">\n",
       "  <thead>\n",
       "    <tr style=\"text-align: right;\">\n",
       "      <th></th>\n",
       "      <th>Ave</th>\n",
       "      <th>SR</th>\n",
       "      <th>cluster_labels</th>\n",
       "    </tr>\n",
       "  </thead>\n",
       "  <tbody>\n",
       "    <tr>\n",
       "      <th>0</th>\n",
       "      <td>1.072294</td>\n",
       "      <td>0.703152</td>\n",
       "      <td>0</td>\n",
       "    </tr>\n",
       "    <tr>\n",
       "      <th>1</th>\n",
       "      <td>0.587725</td>\n",
       "      <td>-0.044139</td>\n",
       "      <td>0</td>\n",
       "    </tr>\n",
       "    <tr>\n",
       "      <th>2</th>\n",
       "      <td>0.596226</td>\n",
       "      <td>0.110997</td>\n",
       "      <td>0</td>\n",
       "    </tr>\n",
       "    <tr>\n",
       "      <th>3</th>\n",
       "      <td>-1.047909</td>\n",
       "      <td>1.207091</td>\n",
       "      <td>1</td>\n",
       "    </tr>\n",
       "    <tr>\n",
       "      <th>4</th>\n",
       "      <td>-0.876185</td>\n",
       "      <td>-0.034000</td>\n",
       "      <td>0</td>\n",
       "    </tr>\n",
       "    <tr>\n",
       "      <th>...</th>\n",
       "      <td>...</td>\n",
       "      <td>...</td>\n",
       "      <td>...</td>\n",
       "    </tr>\n",
       "    <tr>\n",
       "      <th>74</th>\n",
       "      <td>1.106299</td>\n",
       "      <td>-1.457604</td>\n",
       "      <td>0</td>\n",
       "    </tr>\n",
       "    <tr>\n",
       "      <th>75</th>\n",
       "      <td>0.829159</td>\n",
       "      <td>-0.562275</td>\n",
       "      <td>0</td>\n",
       "    </tr>\n",
       "    <tr>\n",
       "      <th>76</th>\n",
       "      <td>-0.537836</td>\n",
       "      <td>-0.234765</td>\n",
       "      <td>0</td>\n",
       "    </tr>\n",
       "    <tr>\n",
       "      <th>77</th>\n",
       "      <td>0.208570</td>\n",
       "      <td>1.332823</td>\n",
       "      <td>0</td>\n",
       "    </tr>\n",
       "    <tr>\n",
       "      <th>78</th>\n",
       "      <td>-1.500174</td>\n",
       "      <td>0.198198</td>\n",
       "      <td>0</td>\n",
       "    </tr>\n",
       "  </tbody>\n",
       "</table>\n",
       "<p>79 rows × 3 columns</p>\n",
       "</div>"
      ],
      "text/plain": [
       "         Ave        SR  cluster_labels\n",
       "0   1.072294  0.703152               0\n",
       "1   0.587725 -0.044139               0\n",
       "2   0.596226  0.110997               0\n",
       "3  -1.047909  1.207091               1\n",
       "4  -0.876185 -0.034000               0\n",
       "..       ...       ...             ...\n",
       "74  1.106299 -1.457604               0\n",
       "75  0.829159 -0.562275               0\n",
       "76 -0.537836 -0.234765               0\n",
       "77  0.208570  1.332823               0\n",
       "78 -1.500174  0.198198               0\n",
       "\n",
       "[79 rows x 3 columns]"
      ]
     },
     "execution_count": 65,
     "metadata": {},
     "output_type": "execute_result"
    }
   ],
   "source": [
    "cricket_df['cluster_labels'] = cluster_labels\n",
    "cricket_df"
   ]
  },
  {
   "cell_type": "code",
   "execution_count": 66,
   "id": "0605a6d7-3742-4c68-bf5e-d4caa559b095",
   "metadata": {},
   "outputs": [],
   "source": [
    "cricket_df['Players'] = cricket.Player"
   ]
  },
  {
   "cell_type": "code",
   "execution_count": 67,
   "id": "2bd0f4a5-7ce9-442e-bafb-60b3e246ac67",
   "metadata": {},
   "outputs": [
    {
     "data": {
      "text/html": [
       "<div>\n",
       "<style scoped>\n",
       "    .dataframe tbody tr th:only-of-type {\n",
       "        vertical-align: middle;\n",
       "    }\n",
       "\n",
       "    .dataframe tbody tr th {\n",
       "        vertical-align: top;\n",
       "    }\n",
       "\n",
       "    .dataframe thead th {\n",
       "        text-align: right;\n",
       "    }\n",
       "</style>\n",
       "<table border=\"1\" class=\"dataframe\">\n",
       "  <thead>\n",
       "    <tr style=\"text-align: right;\">\n",
       "      <th></th>\n",
       "      <th>Ave</th>\n",
       "      <th>SR</th>\n",
       "      <th>cluster_labels</th>\n",
       "      <th>Players</th>\n",
       "    </tr>\n",
       "  </thead>\n",
       "  <tbody>\n",
       "    <tr>\n",
       "      <th>0</th>\n",
       "      <td>1.072294</td>\n",
       "      <td>0.703152</td>\n",
       "      <td>0</td>\n",
       "      <td>SR Tendulkar (INDIA)</td>\n",
       "    </tr>\n",
       "    <tr>\n",
       "      <th>1</th>\n",
       "      <td>0.587725</td>\n",
       "      <td>-0.044139</td>\n",
       "      <td>0</td>\n",
       "      <td>KC Sangakkara (Asia/ICC/SL)</td>\n",
       "    </tr>\n",
       "    <tr>\n",
       "      <th>2</th>\n",
       "      <td>0.596226</td>\n",
       "      <td>0.110997</td>\n",
       "      <td>0</td>\n",
       "      <td>RT Ponting (AUS/ICC)</td>\n",
       "    </tr>\n",
       "    <tr>\n",
       "      <th>3</th>\n",
       "      <td>-1.047909</td>\n",
       "      <td>1.207091</td>\n",
       "      <td>1</td>\n",
       "      <td>ST Jayasuriya (Asia/SL)</td>\n",
       "    </tr>\n",
       "    <tr>\n",
       "      <th>4</th>\n",
       "      <td>-0.876185</td>\n",
       "      <td>-0.034000</td>\n",
       "      <td>0</td>\n",
       "      <td>DPMD Jayawardene (Asia/SL)</td>\n",
       "    </tr>\n",
       "    <tr>\n",
       "      <th>...</th>\n",
       "      <td>...</td>\n",
       "      <td>...</td>\n",
       "      <td>...</td>\n",
       "      <td>...</td>\n",
       "    </tr>\n",
       "    <tr>\n",
       "      <th>74</th>\n",
       "      <td>1.106299</td>\n",
       "      <td>-1.457604</td>\n",
       "      <td>0</td>\n",
       "      <td>CG Greenidge (WI)</td>\n",
       "    </tr>\n",
       "    <tr>\n",
       "      <th>75</th>\n",
       "      <td>0.829159</td>\n",
       "      <td>-0.562275</td>\n",
       "      <td>0</td>\n",
       "      <td>Misbah-ul-Haq (PAK)</td>\n",
       "    </tr>\n",
       "    <tr>\n",
       "      <th>76</th>\n",
       "      <td>-0.537836</td>\n",
       "      <td>-0.234765</td>\n",
       "      <td>0</td>\n",
       "      <td>PD Collingwood (ENG)</td>\n",
       "    </tr>\n",
       "    <tr>\n",
       "      <th>77</th>\n",
       "      <td>0.208570</td>\n",
       "      <td>1.332823</td>\n",
       "      <td>0</td>\n",
       "      <td>A Symonds (AUS)</td>\n",
       "    </tr>\n",
       "    <tr>\n",
       "      <th>78</th>\n",
       "      <td>-1.500174</td>\n",
       "      <td>0.198198</td>\n",
       "      <td>0</td>\n",
       "      <td>Abdul Razzaq (Asia/PAK)</td>\n",
       "    </tr>\n",
       "  </tbody>\n",
       "</table>\n",
       "<p>79 rows × 4 columns</p>\n",
       "</div>"
      ],
      "text/plain": [
       "         Ave        SR  cluster_labels                      Players\n",
       "0   1.072294  0.703152               0         SR Tendulkar (INDIA)\n",
       "1   0.587725 -0.044139               0  KC Sangakkara (Asia/ICC/SL)\n",
       "2   0.596226  0.110997               0         RT Ponting (AUS/ICC)\n",
       "3  -1.047909  1.207091               1      ST Jayasuriya (Asia/SL)\n",
       "4  -0.876185 -0.034000               0   DPMD Jayawardene (Asia/SL)\n",
       "..       ...       ...             ...                          ...\n",
       "74  1.106299 -1.457604               0            CG Greenidge (WI)\n",
       "75  0.829159 -0.562275               0          Misbah-ul-Haq (PAK)\n",
       "76 -0.537836 -0.234765               0         PD Collingwood (ENG)\n",
       "77  0.208570  1.332823               0              A Symonds (AUS)\n",
       "78 -1.500174  0.198198               0      Abdul Razzaq (Asia/PAK)\n",
       "\n",
       "[79 rows x 4 columns]"
      ]
     },
     "execution_count": 67,
     "metadata": {},
     "output_type": "execute_result"
    }
   ],
   "source": [
    "cricket_df"
   ]
  },
  {
   "cell_type": "code",
   "execution_count": 68,
   "id": "38220d1c-c650-4a00-8f37-c02011c74684",
   "metadata": {},
   "outputs": [
    {
     "name": "stdout",
     "output_type": "stream",
     "text": [
      "SR Tendulkar (INDIA)\n",
      "KC Sangakkara (Asia/ICC/SL)\n",
      "RT Ponting (AUS/ICC)\n",
      "DPMD Jayawardene (Asia/SL)\n",
      "Inzamam-ul-Haq (Asia/PAK)\n",
      "JH Kallis (Afr/ICC/SA)\n",
      "SC Ganguly (Asia/INDIA)\n",
      "R Dravid (Asia/ICC/INDIA)\n",
      "BC Lara (ICC/WI)\n",
      "TM Dilshan (SL)\n",
      "Mohammad Yousuf (Asia/PAK)\n",
      "M Azharuddin (INDIA)\n",
      "PA de Silva (SL)\n",
      "CH Gayle (ICC/WI)\n",
      "Saeed Anwar (PAK)\n",
      "S Chanderpaul (WI)\n",
      "Yuvraj Singh (Asia/INDIA)\n",
      "DL Haynes (WI)\n",
      "MS Atapattu (SL)\n",
      "ME Waugh (AUS)\n",
      "HH Gibbs (SA)\n",
      "SP Fleming (ICC/NZ)\n",
      "MJ Clarke (AUS)\n",
      "SR Waugh (AUS)\n",
      "A Ranatunga (SL)\n",
      "Javed Miandad (PAK)\n",
      "Younis Khan (PAK)\n",
      "Saleem Malik (PAK)\n",
      "NJ Astle (NZ)\n",
      "GC Smith (Afr/SA)\n",
      "G Kirsten (SA)\n",
      "A Flower (ZIM)\n",
      "Shoaib Malik (PAK)\n",
      "GW Flower (ZIM)\n",
      "Ijaz Ahmed (PAK)\n",
      "AR Border (AUS)\n",
      "LRPL Taylor (NZ)\n",
      "RB Richardson (WI)\n",
      "WU Tharanga (Asia/SL)\n",
      "ML Hayden (AUS/ICC)\n",
      "DM Jones (AUS)\n",
      "DC Boon (AUS)\n",
      "JN Rhodes (SA)\n",
      "Mohammad Hafeez (PAK)\n",
      "Rameez Raja (PAK)\n",
      "RR Sarwan (WI)\n",
      "EJG Morgan (ENG/IRE)\n",
      "CL Hooper (WI)\n",
      "SR Watson (AUS)\n",
      "Tamim Iqbal (BDESH)\n",
      "WJ Cronje (SA)\n",
      "MJ Guptill (NZ)\n",
      "RG Sharma (INDIA)\n",
      "IR Bell (ENG)\n",
      "A Jadeja (INDIA)\n",
      "DR Martyn (AUS)\n",
      "BRM Taylor (ZIM)\n",
      "G Gambhir (INDIA)\n",
      "ADR Campbell (ZIM)\n",
      "MN Samuels (WI)\n",
      "RS Mahanama (SL)\n",
      "CG Greenidge (WI)\n",
      "Misbah-ul-Haq (PAK)\n",
      "PD Collingwood (ENG)\n",
      "A Symonds (AUS)\n",
      "Abdul Razzaq (Asia/PAK)\n"
     ]
    }
   ],
   "source": [
    "for x in cricket_df[cricket_df.cluster_labels == 0].Players:\n",
    "    print(x)\n",
    "\n"
   ]
  },
  {
   "cell_type": "code",
   "execution_count": 79,
   "id": "169ca258-0da6-46c4-a2cf-c080bd99588b",
   "metadata": {},
   "outputs": [
    {
     "data": {
      "text/plain": [
       "Ave                                1.106299\n",
       "SR                                 1.332823\n",
       "cluster_labels                            0\n",
       "Players           Yuvraj Singh (Asia/INDIA)\n",
       "dtype: object"
      ]
     },
     "execution_count": 79,
     "metadata": {},
     "output_type": "execute_result"
    }
   ],
   "source": [
    "cricket_df[cricket_df.cluster_labels == 0].max()"
   ]
  },
  {
   "cell_type": "code",
   "execution_count": null,
   "id": "baa14e0c-30ab-4b6c-b104-56f4450c4bf4",
   "metadata": {},
   "outputs": [],
   "source": []
  }
 ],
 "metadata": {
  "kernelspec": {
   "display_name": "Python 3 (ipykernel)",
   "language": "python",
   "name": "python3"
  },
  "language_info": {
   "codemirror_mode": {
    "name": "ipython",
    "version": 3
   },
   "file_extension": ".py",
   "mimetype": "text/x-python",
   "name": "python",
   "nbconvert_exporter": "python",
   "pygments_lexer": "ipython3",
   "version": "3.8.12"
  }
 },
 "nbformat": 4,
 "nbformat_minor": 5
}
